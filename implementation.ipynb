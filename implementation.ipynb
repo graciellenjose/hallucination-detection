{
 "cells": [
  {
   "cell_type": "code",
   "execution_count": null,
   "id": "cad667fc",
   "metadata": {},
   "outputs": [],
   "source": [
    "!pip install langchain langchain-ollama ollama"
   ]
  },
  {
   "cell_type": "code",
   "execution_count": null,
   "id": "2438fd93",
   "metadata": {},
   "outputs": [],
   "source": [
    "from langchain_ollama import OllamaLLM\n",
    "from langchain_core.prompts import ChatPromptTemplate"
   ]
  },
  {
   "cell_type": "code",
   "execution_count": 6,
   "id": "251849eb",
   "metadata": {},
   "outputs": [],
   "source": [
    "model = OllamaLLM(model=\"llama3\")"
   ]
  },
  {
   "cell_type": "code",
   "execution_count": null,
   "id": "277dfc06",
   "metadata": {},
   "outputs": [],
   "source": [
    "def has_input_hallucination_llm(question, answer):\n",
    "    inputHallucinationTemplate = \"\"\"\n",
    "\n",
    "    \"\"\""
   ]
  },
  {
   "cell_type": "code",
   "execution_count": 7,
   "id": "238bbead",
   "metadata": {},
   "outputs": [
    {
     "data": {
      "text/plain": [
       "'Um teste! O que você gostaria de testar hoje?'"
      ]
     },
     "execution_count": 7,
     "metadata": {},
     "output_type": "execute_result"
    }
   ],
   "source": [
    "result = model.invoke(input='teste')\n",
    "result"
   ]
  }
 ],
 "metadata": {
  "kernelspec": {
   "display_name": "myenv",
   "language": "python",
   "name": "python3"
  },
  "language_info": {
   "codemirror_mode": {
    "name": "ipython",
    "version": 3
   },
   "file_extension": ".py",
   "mimetype": "text/x-python",
   "name": "python",
   "nbconvert_exporter": "python",
   "pygments_lexer": "ipython3",
   "version": "3.13.3"
  }
 },
 "nbformat": 4,
 "nbformat_minor": 5
}
