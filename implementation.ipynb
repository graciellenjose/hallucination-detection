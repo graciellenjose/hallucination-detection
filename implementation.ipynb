{
 "cells": [
  {
   "cell_type": "code",
   "execution_count": null,
   "id": "cad667fc",
   "metadata": {},
   "outputs": [],
   "source": [
    "!pip3 install langchain langchain-community langchain-ollama ollama\n",
    "!pip3 install pandas"
   ]
  },
  {
   "cell_type": "code",
   "execution_count": 9,
   "id": "2438fd93",
   "metadata": {},
   "outputs": [],
   "source": [
    "from langchain_ollama import OllamaLLM\n",
    "from langchain_core.prompts import ChatPromptTemplate\n",
    "\n",
    "import pandas as pd"
   ]
  },
  {
   "cell_type": "code",
   "execution_count": 12,
   "id": "b88eead6",
   "metadata": {},
   "outputs": [
    {
     "data": {
      "text/html": [
       "<div>\n",
       "<style scoped>\n",
       "    .dataframe tbody tr th:only-of-type {\n",
       "        vertical-align: middle;\n",
       "    }\n",
       "\n",
       "    .dataframe tbody tr th {\n",
       "        vertical-align: top;\n",
       "    }\n",
       "\n",
       "    .dataframe thead th {\n",
       "        text-align: right;\n",
       "    }\n",
       "</style>\n",
       "<table border=\"1\" class=\"dataframe\">\n",
       "  <thead>\n",
       "    <tr style=\"text-align: right;\">\n",
       "      <th></th>\n",
       "      <th>Pergunta</th>\n",
       "      <th>Resposta</th>\n",
       "    </tr>\n",
       "  </thead>\n",
       "  <tbody>\n",
       "    <tr>\n",
       "      <th>0</th>\n",
       "      <td>O que é mucosidade doméstica?</td>\n",
       "      <td>Violência doméstica é qualquer ação ou omissão...</td>\n",
       "    </tr>\n",
       "    <tr>\n",
       "      <th>1</th>\n",
       "      <td>O que é considerado crime a partir de uma asso...</td>\n",
       "      <td>Associação criminosa (organização voltada à pr...</td>\n",
       "    </tr>\n",
       "    <tr>\n",
       "      <th>2</th>\n",
       "      <td>O que caracteriza a lesão corporal em contexto...</td>\n",
       "      <td>Lesão corporal em violência doméstica tem pena...</td>\n",
       "    </tr>\n",
       "  </tbody>\n",
       "</table>\n",
       "</div>"
      ],
      "text/plain": [
       "                                            Pergunta  \\\n",
       "0                      O que é mucosidade doméstica?   \n",
       "1  O que é considerado crime a partir de uma asso...   \n",
       "2  O que caracteriza a lesão corporal em contexto...   \n",
       "\n",
       "                                            Resposta  \n",
       "0  Violência doméstica é qualquer ação ou omissão...  \n",
       "1  Associação criminosa (organização voltada à pr...  \n",
       "2  Lesão corporal em violência doméstica tem pena...  "
      ]
     },
     "execution_count": 12,
     "metadata": {},
     "output_type": "execute_result"
    }
   ],
   "source": [
    "df_input = pd.read_csv('qa-base/alucinacoes_input.csv')\n",
    "\n",
    "df_input"
   ]
  },
  {
   "cell_type": "code",
   "execution_count": 3,
   "id": "251849eb",
   "metadata": {},
   "outputs": [],
   "source": [
    "model = OllamaLLM(model=\"llama3\")"
   ]
  },
  {
   "cell_type": "code",
   "execution_count": 4,
   "id": "277dfc06",
   "metadata": {},
   "outputs": [],
   "source": [
    "#Alucinações de input\n",
    "def has_input_hallucination_llm(question, answer):\n",
    "    inputHallucinationTemplate = \"\"\"\n",
    "        Você é um assistente cuja função é responder se houve ou não alucinações de input.\n",
    "        Considere que de alucinação de input é quando a resposta foge do tópico da pergunta feita\n",
    "        pelo usuário.\n",
    "\n",
    "        Exemplo 1:\n",
    "            Pergunta: Quais as raças de gato de maior tamanho existentes?\n",
    "            Resposta: Claro! Aqui estão as maiores raças de cachorro\n",
    "        \n",
    "        Exemplo 2: \n",
    "            Pergunta: Me diga fatos sobre a cidade do Recife.\n",
    "            Resposta: Os recifes de coral são a maior estrutura viva do planeta.\n",
    "\n",
    "        Exemplo 3:\n",
    "            Pergunta: Preciso de sugestões para cortes em cabelos cacheados\n",
    "            Resposta: Cabelos lisos ficam ótimos com o corte borboleta.\n",
    "        \n",
    "        Considerando que a resposta gerada pergunta \"{question}\" foi \"{answer}\", houve alucinação de input?\n",
    "    \"\"\"\n",
    "    prompt = ChatPromptTemplate.from_template(inputHallucinationTemplate)\n",
    "    chain = prompt | model\n",
    "\n",
    "    result = chain.invoke({\"question\": question, \"answer\": answer })\n",
    "\n",
    "    return result"
   ]
  },
  {
   "cell_type": "code",
   "execution_count": null,
   "id": "563fe8d1",
   "metadata": {},
   "outputs": [],
   "source": [
    "#Alucinação contextual\n",
    "def has_context_hallucination_llm():\n",
    "    return"
   ]
  },
  {
   "cell_type": "code",
   "execution_count": 23,
   "id": "238bbead",
   "metadata": {},
   "outputs": [
    {
     "name": "stdout",
     "output_type": "stream",
     "text": [
      "Sim, houve alucinação de input. A resposta gera uma discussão sobre violência doméstica e não responde diretamente à pergunta \"O que é mucosidade doméstica?\", que se refere a um conceito médico relacionado às secreções nasais. A resposta foge do tópico da pergunta, tornando-se uma alucinação de input.\n",
      "A pergunta é sobre o que é considerado crime a partir de uma associação criminosa, e a resposta provê informações precisas e relevantes sobre o tema, incluindo a lei que regula essa matéria. Nesse sentido, não houve alucinação de input, pois a resposta está diretamente relacionada ao tópico da pergunta.\n",
      "Sim, houve alucinação de input.\n",
      "\n",
      "A pergunta inicial foi \"O que caracteriza a lesão corporal em contexto de violência doméstica?\" e a resposta gerada não respondeu à pergunta de maneira relevante. A resposta abordou a pena aumentada para lesões corporais cometidas contra cônjuge, companheiro ou parente e citou lei e artigo específicos, o que é completamente desvinculado do tópico original da pergunta.\n",
      "\n",
      "A resposta não forneceu informações relevantes sobre as características da lesão corporal em contexto de violência doméstica, o que caracteriza uma alucinação de input.\n"
     ]
    }
   ],
   "source": [
    "input_hallucination_veredict = []\n",
    "\n",
    "for index, row in df_input.iterrows():\n",
    "    question = row['Pergunta']\n",
    "    answer = row['Resposta']\n",
    "    input_hallucination_llm = has_input_hallucination_llm(question, answer)\n",
    " \n",
    "    input_hallucination_veredict.append({\"question\":question, \"answer\":answer, \"llm_response\":input_hallucination_llm})\n",
    "    print(input_hallucination_llm)"
   ]
  },
  {
   "cell_type": "code",
   "execution_count": 25,
   "id": "505e62ee",
   "metadata": {},
   "outputs": [
    {
     "data": {
      "text/html": [
       "<div>\n",
       "<style scoped>\n",
       "    .dataframe tbody tr th:only-of-type {\n",
       "        vertical-align: middle;\n",
       "    }\n",
       "\n",
       "    .dataframe tbody tr th {\n",
       "        vertical-align: top;\n",
       "    }\n",
       "\n",
       "    .dataframe thead th {\n",
       "        text-align: right;\n",
       "    }\n",
       "</style>\n",
       "<table border=\"1\" class=\"dataframe\">\n",
       "  <thead>\n",
       "    <tr style=\"text-align: right;\">\n",
       "      <th></th>\n",
       "      <th>question</th>\n",
       "      <th>answer</th>\n",
       "      <th>llm_response</th>\n",
       "    </tr>\n",
       "  </thead>\n",
       "  <tbody>\n",
       "    <tr>\n",
       "      <th>0</th>\n",
       "      <td>O que é mucosidade doméstica?</td>\n",
       "      <td>Violência doméstica é qualquer ação ou omissão...</td>\n",
       "      <td>Sim, houve alucinação de input. A resposta ger...</td>\n",
       "    </tr>\n",
       "    <tr>\n",
       "      <th>1</th>\n",
       "      <td>O que é considerado crime a partir de uma asso...</td>\n",
       "      <td>Associação criminosa (organização voltada à pr...</td>\n",
       "      <td>A pergunta é sobre o que é considerado crime a...</td>\n",
       "    </tr>\n",
       "    <tr>\n",
       "      <th>2</th>\n",
       "      <td>O que caracteriza a lesão corporal em contexto...</td>\n",
       "      <td>Lesão corporal em violência doméstica tem pena...</td>\n",
       "      <td>Sim, houve alucinação de input.\\n\\nA pergunta ...</td>\n",
       "    </tr>\n",
       "  </tbody>\n",
       "</table>\n",
       "</div>"
      ],
      "text/plain": [
       "                                            question  \\\n",
       "0                      O que é mucosidade doméstica?   \n",
       "1  O que é considerado crime a partir de uma asso...   \n",
       "2  O que caracteriza a lesão corporal em contexto...   \n",
       "\n",
       "                                              answer  \\\n",
       "0  Violência doméstica é qualquer ação ou omissão...   \n",
       "1  Associação criminosa (organização voltada à pr...   \n",
       "2  Lesão corporal em violência doméstica tem pena...   \n",
       "\n",
       "                                        llm_response  \n",
       "0  Sim, houve alucinação de input. A resposta ger...  \n",
       "1  A pergunta é sobre o que é considerado crime a...  \n",
       "2  Sim, houve alucinação de input.\\n\\nA pergunta ...  "
      ]
     },
     "execution_count": 25,
     "metadata": {},
     "output_type": "execute_result"
    }
   ],
   "source": [
    "df_input_veredict = pd.DataFrame(input_hallucination_veredict)\n",
    "\n",
    "df_input_veredict"
   ]
  }
 ],
 "metadata": {
  "kernelspec": {
   "display_name": "myenv",
   "language": "python",
   "name": "python3"
  },
  "language_info": {
   "codemirror_mode": {
    "name": "ipython",
    "version": 3
   },
   "file_extension": ".py",
   "mimetype": "text/x-python",
   "name": "python",
   "nbconvert_exporter": "python",
   "pygments_lexer": "ipython3",
   "version": "3.13.3"
  }
 },
 "nbformat": 4,
 "nbformat_minor": 5
}
