{
 "cells": [
  {
   "cell_type": "code",
   "execution_count": 1,
   "id": "cad667fc",
   "metadata": {},
   "outputs": [
    {
     "name": "stdout",
     "output_type": "stream",
     "text": [
      "Requirement already satisfied: langchain in c:\\users\\firstidolalive\\desktop\\implemetation\\myenv\\lib\\site-packages (0.3.24)\n",
      "Requirement already satisfied: langchain-community in c:\\users\\firstidolalive\\desktop\\implemetation\\myenv\\lib\\site-packages (0.3.23)\n",
      "Requirement already satisfied: langchain-ollama in c:\\users\\firstidolalive\\desktop\\implemetation\\myenv\\lib\\site-packages (0.3.2)\n",
      "Requirement already satisfied: langchain-openai in c:\\users\\firstidolalive\\desktop\\implemetation\\myenv\\lib\\site-packages (0.3.17)\n",
      "Requirement already satisfied: ollama in c:\\users\\firstidolalive\\desktop\\implemetation\\myenv\\lib\\site-packages (0.4.8)\n",
      "Requirement already satisfied: chromadb in c:\\users\\firstidolalive\\desktop\\implemetation\\myenv\\lib\\site-packages (1.0.9)\n",
      "Requirement already satisfied: langchain-core<1.0.0,>=0.3.55 in c:\\users\\firstidolalive\\desktop\\implemetation\\myenv\\lib\\site-packages (from langchain) (0.3.60)\n",
      "Requirement already satisfied: langchain-text-splitters<1.0.0,>=0.3.8 in c:\\users\\firstidolalive\\desktop\\implemetation\\myenv\\lib\\site-packages (from langchain) (0.3.8)\n",
      "Requirement already satisfied: langsmith<0.4,>=0.1.17 in c:\\users\\firstidolalive\\desktop\\implemetation\\myenv\\lib\\site-packages (from langchain) (0.3.40)\n",
      "Requirement already satisfied: pydantic<3.0.0,>=2.7.4 in c:\\users\\firstidolalive\\desktop\\implemetation\\myenv\\lib\\site-packages (from langchain) (2.11.4)\n",
      "Requirement already satisfied: SQLAlchemy<3,>=1.4 in c:\\users\\firstidolalive\\desktop\\implemetation\\myenv\\lib\\site-packages (from langchain) (2.0.40)\n",
      "Requirement already satisfied: requests<3,>=2 in c:\\users\\firstidolalive\\desktop\\implemetation\\myenv\\lib\\site-packages (from langchain) (2.32.3)\n",
      "Requirement already satisfied: PyYAML>=5.3 in c:\\users\\firstidolalive\\desktop\\implemetation\\myenv\\lib\\site-packages (from langchain) (6.0.2)\n",
      "Requirement already satisfied: aiohttp<4.0.0,>=3.8.3 in c:\\users\\firstidolalive\\desktop\\implemetation\\myenv\\lib\\site-packages (from langchain-community) (3.11.18)\n",
      "Requirement already satisfied: tenacity!=8.4.0,<10,>=8.1.0 in c:\\users\\firstidolalive\\desktop\\implemetation\\myenv\\lib\\site-packages (from langchain-community) (9.1.2)\n",
      "Requirement already satisfied: dataclasses-json<0.7,>=0.5.7 in c:\\users\\firstidolalive\\desktop\\implemetation\\myenv\\lib\\site-packages (from langchain-community) (0.6.7)\n",
      "Requirement already satisfied: pydantic-settings<3.0.0,>=2.4.0 in c:\\users\\firstidolalive\\desktop\\implemetation\\myenv\\lib\\site-packages (from langchain-community) (2.9.1)\n",
      "Requirement already satisfied: httpx-sse<1.0.0,>=0.4.0 in c:\\users\\firstidolalive\\desktop\\implemetation\\myenv\\lib\\site-packages (from langchain-community) (0.4.0)\n",
      "Requirement already satisfied: numpy>=2.1.0 in c:\\users\\firstidolalive\\desktop\\implemetation\\myenv\\lib\\site-packages (from langchain-community) (2.2.5)\n",
      "Requirement already satisfied: openai<2.0.0,>=1.68.2 in c:\\users\\firstidolalive\\desktop\\implemetation\\myenv\\lib\\site-packages (from langchain-openai) (1.79.0)\n",
      "Requirement already satisfied: tiktoken<1,>=0.7 in c:\\users\\firstidolalive\\desktop\\implemetation\\myenv\\lib\\site-packages (from langchain-openai) (0.9.0)\n",
      "Requirement already satisfied: httpx<0.29,>=0.27 in c:\\users\\firstidolalive\\desktop\\implemetation\\myenv\\lib\\site-packages (from ollama) (0.28.1)\n",
      "Requirement already satisfied: build>=1.0.3 in c:\\users\\firstidolalive\\desktop\\implemetation\\myenv\\lib\\site-packages (from chromadb) (1.2.2.post1)\n",
      "Requirement already satisfied: fastapi==0.115.9 in c:\\users\\firstidolalive\\desktop\\implemetation\\myenv\\lib\\site-packages (from chromadb) (0.115.9)\n",
      "Requirement already satisfied: uvicorn>=0.18.3 in c:\\users\\firstidolalive\\desktop\\implemetation\\myenv\\lib\\site-packages (from uvicorn[standard]>=0.18.3->chromadb) (0.34.2)\n",
      "Requirement already satisfied: posthog>=2.4.0 in c:\\users\\firstidolalive\\desktop\\implemetation\\myenv\\lib\\site-packages (from chromadb) (4.0.1)\n",
      "Requirement already satisfied: typing-extensions>=4.5.0 in c:\\users\\firstidolalive\\desktop\\implemetation\\myenv\\lib\\site-packages (from chromadb) (4.13.2)\n",
      "Requirement already satisfied: onnxruntime>=1.14.1 in c:\\users\\firstidolalive\\desktop\\implemetation\\myenv\\lib\\site-packages (from chromadb) (1.22.0)\n",
      "Requirement already satisfied: opentelemetry-api>=1.2.0 in c:\\users\\firstidolalive\\desktop\\implemetation\\myenv\\lib\\site-packages (from chromadb) (1.33.1)\n",
      "Requirement already satisfied: opentelemetry-exporter-otlp-proto-grpc>=1.2.0 in c:\\users\\firstidolalive\\desktop\\implemetation\\myenv\\lib\\site-packages (from chromadb) (1.33.1)\n",
      "Requirement already satisfied: opentelemetry-instrumentation-fastapi>=0.41b0 in c:\\users\\firstidolalive\\desktop\\implemetation\\myenv\\lib\\site-packages (from chromadb) (0.54b1)\n",
      "Requirement already satisfied: opentelemetry-sdk>=1.2.0 in c:\\users\\firstidolalive\\desktop\\implemetation\\myenv\\lib\\site-packages (from chromadb) (1.33.1)\n",
      "Requirement already satisfied: tokenizers>=0.13.2 in c:\\users\\firstidolalive\\desktop\\implemetation\\myenv\\lib\\site-packages (from chromadb) (0.21.1)\n",
      "Requirement already satisfied: pypika>=0.48.9 in c:\\users\\firstidolalive\\desktop\\implemetation\\myenv\\lib\\site-packages (from chromadb) (0.48.9)\n",
      "Requirement already satisfied: tqdm>=4.65.0 in c:\\users\\firstidolalive\\desktop\\implemetation\\myenv\\lib\\site-packages (from chromadb) (4.67.1)\n",
      "Requirement already satisfied: overrides>=7.3.1 in c:\\users\\firstidolalive\\desktop\\implemetation\\myenv\\lib\\site-packages (from chromadb) (7.7.0)\n",
      "Requirement already satisfied: importlib-resources in c:\\users\\firstidolalive\\desktop\\implemetation\\myenv\\lib\\site-packages (from chromadb) (6.5.2)\n",
      "Requirement already satisfied: grpcio>=1.58.0 in c:\\users\\firstidolalive\\desktop\\implemetation\\myenv\\lib\\site-packages (from chromadb) (1.71.0)\n",
      "Requirement already satisfied: bcrypt>=4.0.1 in c:\\users\\firstidolalive\\desktop\\implemetation\\myenv\\lib\\site-packages (from chromadb) (4.3.0)\n",
      "Requirement already satisfied: typer>=0.9.0 in c:\\users\\firstidolalive\\desktop\\implemetation\\myenv\\lib\\site-packages (from chromadb) (0.15.4)\n",
      "Requirement already satisfied: kubernetes>=28.1.0 in c:\\users\\firstidolalive\\desktop\\implemetation\\myenv\\lib\\site-packages (from chromadb) (32.0.1)\n",
      "Requirement already satisfied: mmh3>=4.0.1 in c:\\users\\firstidolalive\\desktop\\implemetation\\myenv\\lib\\site-packages (from chromadb) (5.1.0)\n",
      "Requirement already satisfied: orjson>=3.9.12 in c:\\users\\firstidolalive\\desktop\\implemetation\\myenv\\lib\\site-packages (from chromadb) (3.10.18)\n",
      "Requirement already satisfied: rich>=10.11.0 in c:\\users\\firstidolalive\\desktop\\implemetation\\myenv\\lib\\site-packages (from chromadb) (14.0.0)\n",
      "Requirement already satisfied: jsonschema>=4.19.0 in c:\\users\\firstidolalive\\desktop\\implemetation\\myenv\\lib\\site-packages (from chromadb) (4.23.0)\n",
      "Requirement already satisfied: starlette<0.46.0,>=0.40.0 in c:\\users\\firstidolalive\\desktop\\implemetation\\myenv\\lib\\site-packages (from fastapi==0.115.9->chromadb) (0.45.3)\n",
      "Requirement already satisfied: aiohappyeyeballs>=2.3.0 in c:\\users\\firstidolalive\\desktop\\implemetation\\myenv\\lib\\site-packages (from aiohttp<4.0.0,>=3.8.3->langchain-community) (2.6.1)\n",
      "Requirement already satisfied: aiosignal>=1.1.2 in c:\\users\\firstidolalive\\desktop\\implemetation\\myenv\\lib\\site-packages (from aiohttp<4.0.0,>=3.8.3->langchain-community) (1.3.2)\n",
      "Requirement already satisfied: attrs>=17.3.0 in c:\\users\\firstidolalive\\desktop\\implemetation\\myenv\\lib\\site-packages (from aiohttp<4.0.0,>=3.8.3->langchain-community) (25.3.0)\n",
      "Requirement already satisfied: frozenlist>=1.1.1 in c:\\users\\firstidolalive\\desktop\\implemetation\\myenv\\lib\\site-packages (from aiohttp<4.0.0,>=3.8.3->langchain-community) (1.6.0)\n",
      "Requirement already satisfied: multidict<7.0,>=4.5 in c:\\users\\firstidolalive\\desktop\\implemetation\\myenv\\lib\\site-packages (from aiohttp<4.0.0,>=3.8.3->langchain-community) (6.4.3)\n",
      "Requirement already satisfied: propcache>=0.2.0 in c:\\users\\firstidolalive\\desktop\\implemetation\\myenv\\lib\\site-packages (from aiohttp<4.0.0,>=3.8.3->langchain-community) (0.3.1)\n",
      "Requirement already satisfied: yarl<2.0,>=1.17.0 in c:\\users\\firstidolalive\\desktop\\implemetation\\myenv\\lib\\site-packages (from aiohttp<4.0.0,>=3.8.3->langchain-community) (1.20.0)\n",
      "Requirement already satisfied: packaging>=19.1 in c:\\users\\firstidolalive\\desktop\\implemetation\\myenv\\lib\\site-packages (from build>=1.0.3->chromadb) (24.2)\n",
      "Requirement already satisfied: pyproject_hooks in c:\\users\\firstidolalive\\desktop\\implemetation\\myenv\\lib\\site-packages (from build>=1.0.3->chromadb) (1.2.0)\n",
      "Requirement already satisfied: colorama in c:\\users\\firstidolalive\\desktop\\implemetation\\myenv\\lib\\site-packages (from build>=1.0.3->chromadb) (0.4.6)\n",
      "Requirement already satisfied: marshmallow<4.0.0,>=3.18.0 in c:\\users\\firstidolalive\\desktop\\implemetation\\myenv\\lib\\site-packages (from dataclasses-json<0.7,>=0.5.7->langchain-community) (3.26.1)\n",
      "Requirement already satisfied: typing-inspect<1,>=0.4.0 in c:\\users\\firstidolalive\\desktop\\implemetation\\myenv\\lib\\site-packages (from dataclasses-json<0.7,>=0.5.7->langchain-community) (0.9.0)\n",
      "Requirement already satisfied: anyio in c:\\users\\firstidolalive\\desktop\\implemetation\\myenv\\lib\\site-packages (from httpx<0.29,>=0.27->ollama) (4.9.0)\n",
      "Requirement already satisfied: certifi in c:\\users\\firstidolalive\\desktop\\implemetation\\myenv\\lib\\site-packages (from httpx<0.29,>=0.27->ollama) (2025.4.26)\n",
      "Requirement already satisfied: httpcore==1.* in c:\\users\\firstidolalive\\desktop\\implemetation\\myenv\\lib\\site-packages (from httpx<0.29,>=0.27->ollama) (1.0.9)\n",
      "Requirement already satisfied: idna in c:\\users\\firstidolalive\\desktop\\implemetation\\myenv\\lib\\site-packages (from httpx<0.29,>=0.27->ollama) (3.10)\n",
      "Requirement already satisfied: h11>=0.16 in c:\\users\\firstidolalive\\desktop\\implemetation\\myenv\\lib\\site-packages (from httpcore==1.*->httpx<0.29,>=0.27->ollama) (0.16.0)\n",
      "Requirement already satisfied: jsonschema-specifications>=2023.03.6 in c:\\users\\firstidolalive\\desktop\\implemetation\\myenv\\lib\\site-packages (from jsonschema>=4.19.0->chromadb) (2025.4.1)\n",
      "Requirement already satisfied: referencing>=0.28.4 in c:\\users\\firstidolalive\\desktop\\implemetation\\myenv\\lib\\site-packages (from jsonschema>=4.19.0->chromadb) (0.36.2)\n",
      "Requirement already satisfied: rpds-py>=0.7.1 in c:\\users\\firstidolalive\\desktop\\implemetation\\myenv\\lib\\site-packages (from jsonschema>=4.19.0->chromadb) (0.25.0)\n",
      "Requirement already satisfied: six>=1.9.0 in c:\\users\\firstidolalive\\desktop\\implemetation\\myenv\\lib\\site-packages (from kubernetes>=28.1.0->chromadb) (1.17.0)\n",
      "Requirement already satisfied: python-dateutil>=2.5.3 in c:\\users\\firstidolalive\\desktop\\implemetation\\myenv\\lib\\site-packages (from kubernetes>=28.1.0->chromadb) (2.9.0.post0)\n",
      "Requirement already satisfied: google-auth>=1.0.1 in c:\\users\\firstidolalive\\desktop\\implemetation\\myenv\\lib\\site-packages (from kubernetes>=28.1.0->chromadb) (2.40.1)\n",
      "Requirement already satisfied: websocket-client!=0.40.0,!=0.41.*,!=0.42.*,>=0.32.0 in c:\\users\\firstidolalive\\desktop\\implemetation\\myenv\\lib\\site-packages (from kubernetes>=28.1.0->chromadb) (1.8.0)\n",
      "Requirement already satisfied: requests-oauthlib in c:\\users\\firstidolalive\\desktop\\implemetation\\myenv\\lib\\site-packages (from kubernetes>=28.1.0->chromadb) (2.0.0)\n",
      "Requirement already satisfied: oauthlib>=3.2.2 in c:\\users\\firstidolalive\\desktop\\implemetation\\myenv\\lib\\site-packages (from kubernetes>=28.1.0->chromadb) (3.2.2)\n",
      "Requirement already satisfied: urllib3>=1.24.2 in c:\\users\\firstidolalive\\desktop\\implemetation\\myenv\\lib\\site-packages (from kubernetes>=28.1.0->chromadb) (2.4.0)\n",
      "Requirement already satisfied: durationpy>=0.7 in c:\\users\\firstidolalive\\desktop\\implemetation\\myenv\\lib\\site-packages (from kubernetes>=28.1.0->chromadb) (0.10)\n",
      "Requirement already satisfied: jsonpatch<2.0,>=1.33 in c:\\users\\firstidolalive\\desktop\\implemetation\\myenv\\lib\\site-packages (from langchain-core<1.0.0,>=0.3.55->langchain) (1.33)\n",
      "Requirement already satisfied: requests-toolbelt<2.0.0,>=1.0.0 in c:\\users\\firstidolalive\\desktop\\implemetation\\myenv\\lib\\site-packages (from langsmith<0.4,>=0.1.17->langchain) (1.0.0)\n",
      "Requirement already satisfied: zstandard<0.24.0,>=0.23.0 in c:\\users\\firstidolalive\\desktop\\implemetation\\myenv\\lib\\site-packages (from langsmith<0.4,>=0.1.17->langchain) (0.23.0)\n",
      "Requirement already satisfied: coloredlogs in c:\\users\\firstidolalive\\desktop\\implemetation\\myenv\\lib\\site-packages (from onnxruntime>=1.14.1->chromadb) (15.0.1)\n",
      "Requirement already satisfied: flatbuffers in c:\\users\\firstidolalive\\desktop\\implemetation\\myenv\\lib\\site-packages (from onnxruntime>=1.14.1->chromadb) (25.2.10)\n",
      "Requirement already satisfied: protobuf in c:\\users\\firstidolalive\\desktop\\implemetation\\myenv\\lib\\site-packages (from onnxruntime>=1.14.1->chromadb) (5.29.4)\n",
      "Requirement already satisfied: sympy in c:\\users\\firstidolalive\\desktop\\implemetation\\myenv\\lib\\site-packages (from onnxruntime>=1.14.1->chromadb) (1.14.0)\n",
      "Requirement already satisfied: distro<2,>=1.7.0 in c:\\users\\firstidolalive\\desktop\\implemetation\\myenv\\lib\\site-packages (from openai<2.0.0,>=1.68.2->langchain-openai) (1.9.0)\n",
      "Requirement already satisfied: jiter<1,>=0.4.0 in c:\\users\\firstidolalive\\desktop\\implemetation\\myenv\\lib\\site-packages (from openai<2.0.0,>=1.68.2->langchain-openai) (0.10.0)\n",
      "Requirement already satisfied: sniffio in c:\\users\\firstidolalive\\desktop\\implemetation\\myenv\\lib\\site-packages (from openai<2.0.0,>=1.68.2->langchain-openai) (1.3.1)\n",
      "Requirement already satisfied: deprecated>=1.2.6 in c:\\users\\firstidolalive\\desktop\\implemetation\\myenv\\lib\\site-packages (from opentelemetry-api>=1.2.0->chromadb) (1.2.18)\n",
      "Requirement already satisfied: importlib-metadata<8.7.0,>=6.0 in c:\\users\\firstidolalive\\desktop\\implemetation\\myenv\\lib\\site-packages (from opentelemetry-api>=1.2.0->chromadb) (8.6.1)\n",
      "Requirement already satisfied: googleapis-common-protos~=1.52 in c:\\users\\firstidolalive\\desktop\\implemetation\\myenv\\lib\\site-packages (from opentelemetry-exporter-otlp-proto-grpc>=1.2.0->chromadb) (1.70.0)\n",
      "Requirement already satisfied: opentelemetry-exporter-otlp-proto-common==1.33.1 in c:\\users\\firstidolalive\\desktop\\implemetation\\myenv\\lib\\site-packages (from opentelemetry-exporter-otlp-proto-grpc>=1.2.0->chromadb) (1.33.1)\n",
      "Requirement already satisfied: opentelemetry-proto==1.33.1 in c:\\users\\firstidolalive\\desktop\\implemetation\\myenv\\lib\\site-packages (from opentelemetry-exporter-otlp-proto-grpc>=1.2.0->chromadb) (1.33.1)\n",
      "Requirement already satisfied: opentelemetry-instrumentation-asgi==0.54b1 in c:\\users\\firstidolalive\\desktop\\implemetation\\myenv\\lib\\site-packages (from opentelemetry-instrumentation-fastapi>=0.41b0->chromadb) (0.54b1)\n",
      "Requirement already satisfied: opentelemetry-instrumentation==0.54b1 in c:\\users\\firstidolalive\\desktop\\implemetation\\myenv\\lib\\site-packages (from opentelemetry-instrumentation-fastapi>=0.41b0->chromadb) (0.54b1)\n",
      "Requirement already satisfied: opentelemetry-semantic-conventions==0.54b1 in c:\\users\\firstidolalive\\desktop\\implemetation\\myenv\\lib\\site-packages (from opentelemetry-instrumentation-fastapi>=0.41b0->chromadb) (0.54b1)\n",
      "Requirement already satisfied: opentelemetry-util-http==0.54b1 in c:\\users\\firstidolalive\\desktop\\implemetation\\myenv\\lib\\site-packages (from opentelemetry-instrumentation-fastapi>=0.41b0->chromadb) (0.54b1)\n",
      "Requirement already satisfied: wrapt<2.0.0,>=1.0.0 in c:\\users\\firstidolalive\\desktop\\implemetation\\myenv\\lib\\site-packages (from opentelemetry-instrumentation==0.54b1->opentelemetry-instrumentation-fastapi>=0.41b0->chromadb) (1.17.2)\n",
      "Requirement already satisfied: asgiref~=3.0 in c:\\users\\firstidolalive\\desktop\\implemetation\\myenv\\lib\\site-packages (from opentelemetry-instrumentation-asgi==0.54b1->opentelemetry-instrumentation-fastapi>=0.41b0->chromadb) (3.8.1)\n",
      "Requirement already satisfied: backoff>=1.10.0 in c:\\users\\firstidolalive\\desktop\\implemetation\\myenv\\lib\\site-packages (from posthog>=2.4.0->chromadb) (2.2.1)\n",
      "Requirement already satisfied: annotated-types>=0.6.0 in c:\\users\\firstidolalive\\desktop\\implemetation\\myenv\\lib\\site-packages (from pydantic<3.0.0,>=2.7.4->langchain) (0.7.0)\n",
      "Requirement already satisfied: pydantic-core==2.33.2 in c:\\users\\firstidolalive\\desktop\\implemetation\\myenv\\lib\\site-packages (from pydantic<3.0.0,>=2.7.4->langchain) (2.33.2)\n",
      "Requirement already satisfied: typing-inspection>=0.4.0 in c:\\users\\firstidolalive\\desktop\\implemetation\\myenv\\lib\\site-packages (from pydantic<3.0.0,>=2.7.4->langchain) (0.4.0)\n",
      "Requirement already satisfied: python-dotenv>=0.21.0 in c:\\users\\firstidolalive\\desktop\\implemetation\\myenv\\lib\\site-packages (from pydantic-settings<3.0.0,>=2.4.0->langchain-community) (1.1.0)\n",
      "Requirement already satisfied: charset-normalizer<4,>=2 in c:\\users\\firstidolalive\\desktop\\implemetation\\myenv\\lib\\site-packages (from requests<3,>=2->langchain) (3.4.2)\n",
      "Requirement already satisfied: markdown-it-py>=2.2.0 in c:\\users\\firstidolalive\\desktop\\implemetation\\myenv\\lib\\site-packages (from rich>=10.11.0->chromadb) (3.0.0)\n",
      "Requirement already satisfied: pygments<3.0.0,>=2.13.0 in c:\\users\\firstidolalive\\desktop\\implemetation\\myenv\\lib\\site-packages (from rich>=10.11.0->chromadb) (2.19.1)\n",
      "Requirement already satisfied: greenlet>=1 in c:\\users\\firstidolalive\\desktop\\implemetation\\myenv\\lib\\site-packages (from SQLAlchemy<3,>=1.4->langchain) (3.2.1)\n",
      "Requirement already satisfied: regex>=2022.1.18 in c:\\users\\firstidolalive\\desktop\\implemetation\\myenv\\lib\\site-packages (from tiktoken<1,>=0.7->langchain-openai) (2024.11.6)\n",
      "Requirement already satisfied: huggingface-hub<1.0,>=0.16.4 in c:\\users\\firstidolalive\\desktop\\implemetation\\myenv\\lib\\site-packages (from tokenizers>=0.13.2->chromadb) (0.31.2)\n",
      "Requirement already satisfied: click<8.2,>=8.0.0 in c:\\users\\firstidolalive\\desktop\\implemetation\\myenv\\lib\\site-packages (from typer>=0.9.0->chromadb) (8.1.8)\n",
      "Requirement already satisfied: shellingham>=1.3.0 in c:\\users\\firstidolalive\\desktop\\implemetation\\myenv\\lib\\site-packages (from typer>=0.9.0->chromadb) (1.5.4)\n",
      "Requirement already satisfied: httptools>=0.6.3 in c:\\users\\firstidolalive\\desktop\\implemetation\\myenv\\lib\\site-packages (from uvicorn[standard]>=0.18.3->chromadb) (0.6.4)\n",
      "Requirement already satisfied: watchfiles>=0.13 in c:\\users\\firstidolalive\\desktop\\implemetation\\myenv\\lib\\site-packages (from uvicorn[standard]>=0.18.3->chromadb) (1.0.5)\n",
      "Requirement already satisfied: websockets>=10.4 in c:\\users\\firstidolalive\\desktop\\implemetation\\myenv\\lib\\site-packages (from uvicorn[standard]>=0.18.3->chromadb) (15.0.1)\n",
      "Requirement already satisfied: cachetools<6.0,>=2.0.0 in c:\\users\\firstidolalive\\desktop\\implemetation\\myenv\\lib\\site-packages (from google-auth>=1.0.1->kubernetes>=28.1.0->chromadb) (5.5.2)\n",
      "Requirement already satisfied: pyasn1-modules>=0.2.1 in c:\\users\\firstidolalive\\desktop\\implemetation\\myenv\\lib\\site-packages (from google-auth>=1.0.1->kubernetes>=28.1.0->chromadb) (0.4.2)\n",
      "Requirement already satisfied: rsa<5,>=3.1.4 in c:\\users\\firstidolalive\\desktop\\implemetation\\myenv\\lib\\site-packages (from google-auth>=1.0.1->kubernetes>=28.1.0->chromadb) (4.9.1)\n",
      "Requirement already satisfied: filelock in c:\\users\\firstidolalive\\desktop\\implemetation\\myenv\\lib\\site-packages (from huggingface-hub<1.0,>=0.16.4->tokenizers>=0.13.2->chromadb) (3.18.0)\n",
      "Requirement already satisfied: fsspec>=2023.5.0 in c:\\users\\firstidolalive\\desktop\\implemetation\\myenv\\lib\\site-packages (from huggingface-hub<1.0,>=0.16.4->tokenizers>=0.13.2->chromadb) (2025.3.2)\n",
      "Requirement already satisfied: zipp>=3.20 in c:\\users\\firstidolalive\\desktop\\implemetation\\myenv\\lib\\site-packages (from importlib-metadata<8.7.0,>=6.0->opentelemetry-api>=1.2.0->chromadb) (3.21.0)\n",
      "Requirement already satisfied: jsonpointer>=1.9 in c:\\users\\firstidolalive\\desktop\\implemetation\\myenv\\lib\\site-packages (from jsonpatch<2.0,>=1.33->langchain-core<1.0.0,>=0.3.55->langchain) (3.0.0)\n",
      "Requirement already satisfied: mdurl~=0.1 in c:\\users\\firstidolalive\\desktop\\implemetation\\myenv\\lib\\site-packages (from markdown-it-py>=2.2.0->rich>=10.11.0->chromadb) (0.1.2)\n",
      "Requirement already satisfied: mypy-extensions>=0.3.0 in c:\\users\\firstidolalive\\desktop\\implemetation\\myenv\\lib\\site-packages (from typing-inspect<1,>=0.4.0->dataclasses-json<0.7,>=0.5.7->langchain-community) (1.1.0)\n",
      "Requirement already satisfied: humanfriendly>=9.1 in c:\\users\\firstidolalive\\desktop\\implemetation\\myenv\\lib\\site-packages (from coloredlogs->onnxruntime>=1.14.1->chromadb) (10.0)\n",
      "Requirement already satisfied: mpmath<1.4,>=1.1.0 in c:\\users\\firstidolalive\\desktop\\implemetation\\myenv\\lib\\site-packages (from sympy->onnxruntime>=1.14.1->chromadb) (1.3.0)\n",
      "Requirement already satisfied: pyreadline3 in c:\\users\\firstidolalive\\desktop\\implemetation\\myenv\\lib\\site-packages (from humanfriendly>=9.1->coloredlogs->onnxruntime>=1.14.1->chromadb) (3.5.4)\n",
      "Requirement already satisfied: pyasn1<0.7.0,>=0.6.1 in c:\\users\\firstidolalive\\desktop\\implemetation\\myenv\\lib\\site-packages (from pyasn1-modules>=0.2.1->google-auth>=1.0.1->kubernetes>=28.1.0->chromadb) (0.6.1)\n"
     ]
    },
    {
     "name": "stderr",
     "output_type": "stream",
     "text": [
      "\n",
      "[notice] A new release of pip is available: 25.0.1 -> 25.1.1\n",
      "[notice] To update, run: python.exe -m pip install --upgrade pip\n"
     ]
    },
    {
     "name": "stdout",
     "output_type": "stream",
     "text": [
      "Requirement already satisfied: pandas in c:\\users\\firstidolalive\\desktop\\implemetation\\myenv\\lib\\site-packages (2.2.3)\n",
      "Requirement already satisfied: streamlit in c:\\users\\firstidolalive\\desktop\\implemetation\\myenv\\lib\\site-packages (1.45.1)\n",
      "Requirement already satisfied: python-dotenv in c:\\users\\firstidolalive\\desktop\\implemetation\\myenv\\lib\\site-packages (1.1.0)\n",
      "Requirement already satisfied: pypdf in c:\\users\\firstidolalive\\desktop\\implemetation\\myenv\\lib\\site-packages (5.5.0)\n",
      "Requirement already satisfied: numpy>=1.26.0 in c:\\users\\firstidolalive\\desktop\\implemetation\\myenv\\lib\\site-packages (from pandas) (2.2.5)\n",
      "Requirement already satisfied: python-dateutil>=2.8.2 in c:\\users\\firstidolalive\\desktop\\implemetation\\myenv\\lib\\site-packages (from pandas) (2.9.0.post0)\n",
      "Requirement already satisfied: pytz>=2020.1 in c:\\users\\firstidolalive\\desktop\\implemetation\\myenv\\lib\\site-packages (from pandas) (2025.2)\n",
      "Requirement already satisfied: tzdata>=2022.7 in c:\\users\\firstidolalive\\desktop\\implemetation\\myenv\\lib\\site-packages (from pandas) (2025.2)\n",
      "Requirement already satisfied: altair<6,>=4.0 in c:\\users\\firstidolalive\\desktop\\implemetation\\myenv\\lib\\site-packages (from streamlit) (5.5.0)\n",
      "Requirement already satisfied: blinker<2,>=1.5.0 in c:\\users\\firstidolalive\\desktop\\implemetation\\myenv\\lib\\site-packages (from streamlit) (1.9.0)\n",
      "Requirement already satisfied: cachetools<6,>=4.0 in c:\\users\\firstidolalive\\desktop\\implemetation\\myenv\\lib\\site-packages (from streamlit) (5.5.2)\n",
      "Requirement already satisfied: click<9,>=7.0 in c:\\users\\firstidolalive\\desktop\\implemetation\\myenv\\lib\\site-packages (from streamlit) (8.1.8)\n",
      "Requirement already satisfied: packaging<25,>=20 in c:\\users\\firstidolalive\\desktop\\implemetation\\myenv\\lib\\site-packages (from streamlit) (24.2)\n",
      "Requirement already satisfied: pillow<12,>=7.1.0 in c:\\users\\firstidolalive\\desktop\\implemetation\\myenv\\lib\\site-packages (from streamlit) (11.2.1)\n",
      "Requirement already satisfied: protobuf<7,>=3.20 in c:\\users\\firstidolalive\\desktop\\implemetation\\myenv\\lib\\site-packages (from streamlit) (5.29.4)\n",
      "Requirement already satisfied: pyarrow>=7.0 in c:\\users\\firstidolalive\\desktop\\implemetation\\myenv\\lib\\site-packages (from streamlit) (20.0.0)\n",
      "Requirement already satisfied: requests<3,>=2.27 in c:\\users\\firstidolalive\\desktop\\implemetation\\myenv\\lib\\site-packages (from streamlit) (2.32.3)\n",
      "Requirement already satisfied: tenacity<10,>=8.1.0 in c:\\users\\firstidolalive\\desktop\\implemetation\\myenv\\lib\\site-packages (from streamlit) (9.1.2)\n",
      "Requirement already satisfied: toml<2,>=0.10.1 in c:\\users\\firstidolalive\\desktop\\implemetation\\myenv\\lib\\site-packages (from streamlit) (0.10.2)\n",
      "Requirement already satisfied: typing-extensions<5,>=4.4.0 in c:\\users\\firstidolalive\\desktop\\implemetation\\myenv\\lib\\site-packages (from streamlit) (4.13.2)\n",
      "Requirement already satisfied: watchdog<7,>=2.1.5 in c:\\users\\firstidolalive\\desktop\\implemetation\\myenv\\lib\\site-packages (from streamlit) (6.0.0)\n",
      "Requirement already satisfied: gitpython!=3.1.19,<4,>=3.0.7 in c:\\users\\firstidolalive\\desktop\\implemetation\\myenv\\lib\\site-packages (from streamlit) (3.1.44)\n",
      "Requirement already satisfied: pydeck<1,>=0.8.0b4 in c:\\users\\firstidolalive\\desktop\\implemetation\\myenv\\lib\\site-packages (from streamlit) (0.9.1)\n",
      "Requirement already satisfied: tornado<7,>=6.0.3 in c:\\users\\firstidolalive\\desktop\\implemetation\\myenv\\lib\\site-packages (from streamlit) (6.4.2)\n",
      "Requirement already satisfied: jinja2 in c:\\users\\firstidolalive\\desktop\\implemetation\\myenv\\lib\\site-packages (from altair<6,>=4.0->streamlit) (3.1.6)\n",
      "Requirement already satisfied: jsonschema>=3.0 in c:\\users\\firstidolalive\\desktop\\implemetation\\myenv\\lib\\site-packages (from altair<6,>=4.0->streamlit) (4.23.0)\n",
      "Requirement already satisfied: narwhals>=1.14.2 in c:\\users\\firstidolalive\\desktop\\implemetation\\myenv\\lib\\site-packages (from altair<6,>=4.0->streamlit) (1.39.1)\n",
      "Requirement already satisfied: colorama in c:\\users\\firstidolalive\\desktop\\implemetation\\myenv\\lib\\site-packages (from click<9,>=7.0->streamlit) (0.4.6)\n",
      "Requirement already satisfied: gitdb<5,>=4.0.1 in c:\\users\\firstidolalive\\desktop\\implemetation\\myenv\\lib\\site-packages (from gitpython!=3.1.19,<4,>=3.0.7->streamlit) (4.0.12)\n",
      "Requirement already satisfied: six>=1.5 in c:\\users\\firstidolalive\\desktop\\implemetation\\myenv\\lib\\site-packages (from python-dateutil>=2.8.2->pandas) (1.17.0)\n",
      "Requirement already satisfied: charset-normalizer<4,>=2 in c:\\users\\firstidolalive\\desktop\\implemetation\\myenv\\lib\\site-packages (from requests<3,>=2.27->streamlit) (3.4.2)\n",
      "Requirement already satisfied: idna<4,>=2.5 in c:\\users\\firstidolalive\\desktop\\implemetation\\myenv\\lib\\site-packages (from requests<3,>=2.27->streamlit) (3.10)\n",
      "Requirement already satisfied: urllib3<3,>=1.21.1 in c:\\users\\firstidolalive\\desktop\\implemetation\\myenv\\lib\\site-packages (from requests<3,>=2.27->streamlit) (2.4.0)\n",
      "Requirement already satisfied: certifi>=2017.4.17 in c:\\users\\firstidolalive\\desktop\\implemetation\\myenv\\lib\\site-packages (from requests<3,>=2.27->streamlit) (2025.4.26)\n",
      "Requirement already satisfied: smmap<6,>=3.0.1 in c:\\users\\firstidolalive\\desktop\\implemetation\\myenv\\lib\\site-packages (from gitdb<5,>=4.0.1->gitpython!=3.1.19,<4,>=3.0.7->streamlit) (5.0.2)\n",
      "Requirement already satisfied: MarkupSafe>=2.0 in c:\\users\\firstidolalive\\desktop\\implemetation\\myenv\\lib\\site-packages (from jinja2->altair<6,>=4.0->streamlit) (3.0.2)\n",
      "Requirement already satisfied: attrs>=22.2.0 in c:\\users\\firstidolalive\\desktop\\implemetation\\myenv\\lib\\site-packages (from jsonschema>=3.0->altair<6,>=4.0->streamlit) (25.3.0)\n",
      "Requirement already satisfied: jsonschema-specifications>=2023.03.6 in c:\\users\\firstidolalive\\desktop\\implemetation\\myenv\\lib\\site-packages (from jsonschema>=3.0->altair<6,>=4.0->streamlit) (2025.4.1)\n",
      "Requirement already satisfied: referencing>=0.28.4 in c:\\users\\firstidolalive\\desktop\\implemetation\\myenv\\lib\\site-packages (from jsonschema>=3.0->altair<6,>=4.0->streamlit) (0.36.2)\n",
      "Requirement already satisfied: rpds-py>=0.7.1 in c:\\users\\firstidolalive\\desktop\\implemetation\\myenv\\lib\\site-packages (from jsonschema>=3.0->altair<6,>=4.0->streamlit) (0.25.0)\n"
     ]
    },
    {
     "name": "stderr",
     "output_type": "stream",
     "text": [
      "\n",
      "[notice] A new release of pip is available: 25.0.1 -> 25.1.1\n",
      "[notice] To update, run: python.exe -m pip install --upgrade pip\n"
     ]
    }
   ],
   "source": [
    "!pip3 install langchain langchain-community langchain-ollama langchain-openai ollama chromadb\n",
    "!pip3 install pandas streamlit python-dotenv pypdf"
   ]
  },
  {
   "cell_type": "code",
   "execution_count": 2,
   "id": "2438fd93",
   "metadata": {},
   "outputs": [],
   "source": [
    "from langchain_ollama import OllamaLLM\n",
    "from langchain_core.prompts import ChatPromptTemplate\n",
    "from langchain.document_loaders import PyPDFLoader\n",
    "from langchain.vectorstores import Chroma\n",
    "from langchain_openai import OpenAIEmbeddings, ChatOpenAI\n",
    "from langchain.text_splitter import RecursiveCharacterTextSplitter\n",
    "from langchain.chains import LLMChain\n",
    "import uuid, re\n",
    "import pandas as pd\n",
    "from dotenv import load_dotenv"
   ]
  },
  {
   "cell_type": "code",
   "execution_count": 3,
   "id": "c50ad532",
   "metadata": {},
   "outputs": [
    {
     "data": {
      "text/plain": [
       "True"
      ]
     },
     "execution_count": 3,
     "metadata": {},
     "output_type": "execute_result"
    }
   ],
   "source": [
    "load_dotenv()"
   ]
  },
  {
   "cell_type": "code",
<<<<<<< Updated upstream
   "execution_count": 26,
=======
   "execution_count": 4,
>>>>>>> Stashed changes
   "id": "b88eead6",
   "metadata": {},
   "outputs": [
    {
     "data": {
      "text/html": [
       "<div>\n",
       "<style scoped>\n",
       "    .dataframe tbody tr th:only-of-type {\n",
       "        vertical-align: middle;\n",
       "    }\n",
       "\n",
       "    .dataframe tbody tr th {\n",
       "        vertical-align: top;\n",
       "    }\n",
       "\n",
       "    .dataframe thead th {\n",
       "        text-align: right;\n",
       "    }\n",
       "</style>\n",
       "<table border=\"1\" class=\"dataframe\">\n",
       "  <thead>\n",
       "    <tr style=\"text-align: right;\">\n",
       "      <th></th>\n",
       "      <th>ID pergunta</th>\n",
       "      <th>Pergunta</th>\n",
       "      <th>Resposta</th>\n",
       "      <th>Alucinação</th>\n",
       "      <th>Motivo</th>\n",
       "    </tr>\n",
       "  </thead>\n",
       "  <tbody>\n",
       "    <tr>\n",
       "      <th>0</th>\n",
       "      <td>1</td>\n",
       "      <td>Como o código trata o crime de difamação quand...</td>\n",
       "      <td>No crime de difamação (art. 139 do Código Pena...</td>\n",
       "      <td>Factual</td>\n",
       "      <td>Artigo 139 do código penal não possui parágrafos.</td>\n",
       "    </tr>\n",
       "    <tr>\n",
       "      <th>1</th>\n",
       "      <td>2</td>\n",
       "      <td>Qual a pena prevista para injúria quando há ut...</td>\n",
       "      <td>A injúria, prevista no artigo 140 do Código Pe...</td>\n",
       "      <td>Input</td>\n",
       "      <td>No código penal diz que é um a três anos ou mu...</td>\n",
       "    </tr>\n",
       "    <tr>\n",
       "      <th>2</th>\n",
       "      <td>3</td>\n",
       "      <td>Quais práticas configuram o crime de falsifica...</td>\n",
       "      <td>O artigo 297 do Código Penal tipifica o crime ...</td>\n",
       "      <td>Não</td>\n",
       "      <td>NaN</td>\n",
       "    </tr>\n",
       "    <tr>\n",
       "      <th>3</th>\n",
       "      <td>4</td>\n",
       "      <td>Como o Código Penal trata o crime de dano qual...</td>\n",
       "      <td>O crime de dano simples está previsto no artig...</td>\n",
       "      <td>Factual</td>\n",
       "      <td>Está no inciso I.</td>\n",
       "    </tr>\n",
       "    <tr>\n",
       "      <th>4</th>\n",
       "      <td>5</td>\n",
       "      <td>Quais ações constituem o crime de extorsão?</td>\n",
       "      <td>No Brasil, o crime de extorsão está previsto n...</td>\n",
       "      <td>Não</td>\n",
       "      <td>NaN</td>\n",
       "    </tr>\n",
       "    <tr>\n",
       "      <th>5</th>\n",
       "      <td>6</td>\n",
       "      <td>Como a legislação penal brasileira trata o rei...</td>\n",
       "      <td>O reingresso de estrangeiro que foi expulso do...</td>\n",
       "      <td>Não</td>\n",
       "      <td>NaN</td>\n",
       "    </tr>\n",
       "    <tr>\n",
       "      <th>6</th>\n",
       "      <td>7</td>\n",
       "      <td>Quais fatores podem reduzir o prazo de prescri...</td>\n",
       "      <td>O Código Penal prevê duas causas gerais de red...</td>\n",
       "      <td>Não</td>\n",
       "      <td>NaN</td>\n",
       "    </tr>\n",
       "    <tr>\n",
       "      <th>7</th>\n",
       "      <td>8</td>\n",
       "      <td>Como o Código Penal regula o crime de sequestr...</td>\n",
       "      <td>O crime de sequestro e cárcere privado está pr...</td>\n",
       "      <td>Factual</td>\n",
       "      <td>é de dois a cinco anos.</td>\n",
       "    </tr>\n",
       "    <tr>\n",
       "      <th>8</th>\n",
       "      <td>9</td>\n",
       "      <td>Quais as agravantes para o homicídio qualifica...</td>\n",
       "      <td>O homicídio qualificado está previsto no artig...</td>\n",
       "      <td>Não</td>\n",
       "      <td>NaN</td>\n",
       "    </tr>\n",
       "    <tr>\n",
       "      <th>9</th>\n",
       "      <td>10</td>\n",
       "      <td>Em que condições o condenado poderá exercer tr...</td>\n",
       "      <td>A Lei de Execução Penal (Lei nº 7.210/84) esta...</td>\n",
       "      <td>Factual</td>\n",
       "      <td>Tanto o artigo 36 no livro do Código Penal, qu...</td>\n",
       "    </tr>\n",
       "  </tbody>\n",
       "</table>\n",
       "</div>"
      ],
      "text/plain": [
       "   ID pergunta                                           Pergunta  \\\n",
       "0            1  Como o código trata o crime de difamação quand...   \n",
       "1            2  Qual a pena prevista para injúria quando há ut...   \n",
       "2            3  Quais práticas configuram o crime de falsifica...   \n",
       "3            4  Como o Código Penal trata o crime de dano qual...   \n",
       "4            5        Quais ações constituem o crime de extorsão?   \n",
       "5            6  Como a legislação penal brasileira trata o rei...   \n",
       "6            7  Quais fatores podem reduzir o prazo de prescri...   \n",
       "7            8  Como o Código Penal regula o crime de sequestr...   \n",
       "8            9  Quais as agravantes para o homicídio qualifica...   \n",
       "9           10  Em que condições o condenado poderá exercer tr...   \n",
       "\n",
       "                                            Resposta Alucinação  \\\n",
       "0  No crime de difamação (art. 139 do Código Pena...    Factual   \n",
       "1  A injúria, prevista no artigo 140 do Código Pe...      Input   \n",
       "2  O artigo 297 do Código Penal tipifica o crime ...        Não   \n",
       "3  O crime de dano simples está previsto no artig...    Factual   \n",
       "4  No Brasil, o crime de extorsão está previsto n...        Não   \n",
       "5  O reingresso de estrangeiro que foi expulso do...        Não   \n",
       "6  O Código Penal prevê duas causas gerais de red...        Não   \n",
       "7  O crime de sequestro e cárcere privado está pr...    Factual   \n",
       "8  O homicídio qualificado está previsto no artig...        Não   \n",
       "9  A Lei de Execução Penal (Lei nº 7.210/84) esta...    Factual   \n",
       "\n",
       "                                              Motivo  \n",
       "0  Artigo 139 do código penal não possui parágrafos.  \n",
       "1  No código penal diz que é um a três anos ou mu...  \n",
       "2                                                NaN  \n",
       "3                                  Está no inciso I.  \n",
       "4                                                NaN  \n",
       "5                                                NaN  \n",
       "6                                                NaN  \n",
       "7                            é de dois a cinco anos.  \n",
       "8                                                NaN  \n",
       "9  Tanto o artigo 36 no livro do Código Penal, qu...  "
      ]
     },
<<<<<<< Updated upstream
     "execution_count": 26,
=======
     "execution_count": 4,
>>>>>>> Stashed changes
     "metadata": {},
     "output_type": "execute_result"
    }
   ],
   "source": [
    "df_gemini_answers = pd.read_csv('qa-base/qa_gemini.csv')\n",
    "\n",
    "df_gemini_answers"
<<<<<<< Updated upstream
=======
   ]
  },
  {
   "cell_type": "code",
   "execution_count": 5,
   "id": "05a25e89",
   "metadata": {},
   "outputs": [
    {
     "data": {
      "text/html": [
       "<div>\n",
       "<style scoped>\n",
       "    .dataframe tbody tr th:only-of-type {\n",
       "        vertical-align: middle;\n",
       "    }\n",
       "\n",
       "    .dataframe tbody tr th {\n",
       "        vertical-align: top;\n",
       "    }\n",
       "\n",
       "    .dataframe thead th {\n",
       "        text-align: right;\n",
       "    }\n",
       "</style>\n",
       "<table border=\"1\" class=\"dataframe\">\n",
       "  <thead>\n",
       "    <tr style=\"text-align: right;\">\n",
       "      <th></th>\n",
       "      <th>ID pergunta</th>\n",
       "      <th>Pergunta</th>\n",
       "      <th>Resposta</th>\n",
       "      <th>Alucinação</th>\n",
       "      <th>Motivo</th>\n",
       "    </tr>\n",
       "  </thead>\n",
       "  <tbody>\n",
       "    <tr>\n",
       "      <th>0</th>\n",
       "      <td>1</td>\n",
       "      <td>Como o código trata o crime de difamação quand...</td>\n",
       "      <td>O crime de difamação (art. 139, CP) consiste e...</td>\n",
       "      <td>Factual</td>\n",
       "      <td>Em difamação, a exceção da verdade somente se ...</td>\n",
       "    </tr>\n",
       "    <tr>\n",
       "      <th>1</th>\n",
       "      <td>2</td>\n",
       "      <td>Qual a pena prevista para injúria quando há ut...</td>\n",
       "      <td>A injúria (art. 140, CP) é ofender a dignidade...</td>\n",
       "      <td>Não</td>\n",
       "      <td>NaN</td>\n",
       "    </tr>\n",
       "    <tr>\n",
       "      <th>2</th>\n",
       "      <td>3</td>\n",
       "      <td>Quais práticas configuram o crime de falsifica...</td>\n",
       "      <td>art. 297, CP\\n\\nConfigura-se quando alguém:\\n-...</td>\n",
       "      <td>Não</td>\n",
       "      <td>NaN</td>\n",
       "    </tr>\n",
       "    <tr>\n",
       "      <th>3</th>\n",
       "      <td>4</td>\n",
       "      <td>Como o Código Penal trata o crime de dano qual...</td>\n",
       "      <td>O crime de dano (art. 163, CP) torna-se qualif...</td>\n",
       "      <td>Factual</td>\n",
       "      <td>A pena é detenção, de seis meses a três anos, ...</td>\n",
       "    </tr>\n",
       "    <tr>\n",
       "      <th>4</th>\n",
       "      <td>5</td>\n",
       "      <td>Quais ações constituem o crime de extorsão?</td>\n",
       "      <td>O crime de extorsão está previsto no artigo 15...</td>\n",
       "      <td>Não</td>\n",
       "      <td>NaN</td>\n",
       "    </tr>\n",
       "    <tr>\n",
       "      <th>5</th>\n",
       "      <td>6</td>\n",
       "      <td>Como a legislação penal brasileira trata o rei...</td>\n",
       "      <td>É crime reingressar no Brasil após expulsão, s...</td>\n",
       "      <td>Não</td>\n",
       "      <td>NaN</td>\n",
       "    </tr>\n",
       "    <tr>\n",
       "      <th>6</th>\n",
       "      <td>7</td>\n",
       "      <td>Quais fatores podem reduzir o prazo de prescri...</td>\n",
       "      <td>O prazo prescricional pode ser reduzido se:\\n\\...</td>\n",
       "      <td>Factual</td>\n",
       "      <td>Art. 110 fala sobre o aumento do prazo de pres...</td>\n",
       "    </tr>\n",
       "    <tr>\n",
       "      <th>7</th>\n",
       "      <td>8</td>\n",
       "      <td>Como o Código Penal regula o crime de sequestr...</td>\n",
       "      <td>Sequestro (art. 148, CP)\\n\\nDefinição: Privar ...</td>\n",
       "      <td>Input</td>\n",
       "      <td>A pergunta pede as penalidades relacionadas, m...</td>\n",
       "    </tr>\n",
       "    <tr>\n",
       "      <th>8</th>\n",
       "      <td>9</td>\n",
       "      <td>Quais as agravantes para o homicídio qualifica...</td>\n",
       "      <td>Homicídio qualificado (art. 121, §2º, CP)\\n\\nS...</td>\n",
       "      <td>Não</td>\n",
       "      <td>NaN</td>\n",
       "    </tr>\n",
       "    <tr>\n",
       "      <th>9</th>\n",
       "      <td>10</td>\n",
       "      <td>Em que condições o condenado poderá exercer tr...</td>\n",
       "      <td>O condenado em regime fechado pode trabalhar e...</td>\n",
       "      <td>Não</td>\n",
       "      <td>NaN</td>\n",
       "    </tr>\n",
       "  </tbody>\n",
       "</table>\n",
       "</div>"
      ],
      "text/plain": [
       "   ID pergunta                                           Pergunta  \\\n",
       "0            1  Como o código trata o crime de difamação quand...   \n",
       "1            2  Qual a pena prevista para injúria quando há ut...   \n",
       "2            3  Quais práticas configuram o crime de falsifica...   \n",
       "3            4  Como o Código Penal trata o crime de dano qual...   \n",
       "4            5        Quais ações constituem o crime de extorsão?   \n",
       "5            6  Como a legislação penal brasileira trata o rei...   \n",
       "6            7  Quais fatores podem reduzir o prazo de prescri...   \n",
       "7            8  Como o Código Penal regula o crime de sequestr...   \n",
       "8            9  Quais as agravantes para o homicídio qualifica...   \n",
       "9           10  Em que condições o condenado poderá exercer tr...   \n",
       "\n",
       "                                            Resposta Alucinação  \\\n",
       "0  O crime de difamação (art. 139, CP) consiste e...    Factual   \n",
       "1  A injúria (art. 140, CP) é ofender a dignidade...        Não   \n",
       "2  art. 297, CP\\n\\nConfigura-se quando alguém:\\n-...        Não   \n",
       "3  O crime de dano (art. 163, CP) torna-se qualif...    Factual   \n",
       "4  O crime de extorsão está previsto no artigo 15...        Não   \n",
       "5  É crime reingressar no Brasil após expulsão, s...        Não   \n",
       "6  O prazo prescricional pode ser reduzido se:\\n\\...    Factual   \n",
       "7  Sequestro (art. 148, CP)\\n\\nDefinição: Privar ...      Input   \n",
       "8  Homicídio qualificado (art. 121, §2º, CP)\\n\\nS...        Não   \n",
       "9  O condenado em regime fechado pode trabalhar e...        Não   \n",
       "\n",
       "                                              Motivo  \n",
       "0  Em difamação, a exceção da verdade somente se ...  \n",
       "1                                                NaN  \n",
       "2                                                NaN  \n",
       "3  A pena é detenção, de seis meses a três anos, ...  \n",
       "4                                                NaN  \n",
       "5                                                NaN  \n",
       "6  Art. 110 fala sobre o aumento do prazo de pres...  \n",
       "7  A pergunta pede as penalidades relacionadas, m...  \n",
       "8                                                NaN  \n",
       "9                                                NaN  "
      ]
     },
     "execution_count": 5,
     "metadata": {},
     "output_type": "execute_result"
    }
   ],
   "source": [
    "df_deepseek_answers = pd.read_csv('qa-base/qa_deepseek.csv')\n",
    "\n",
    "df_deepseek_answers"
   ]
  },
  {
   "cell_type": "code",
   "execution_count": 6,
   "id": "fd78ca78",
   "metadata": {},
   "outputs": [],
   "source": [
    "model_gpt = ChatOpenAI(model=\"gpt-4.1-mini-2025-04-14\") \n",
    "model_llama = OllamaLLM(model=\"llama3\")"
   ]
  },
  {
   "cell_type": "markdown",
   "id": "9c0482a8",
   "metadata": {},
   "source": [
    "## Alucinações de input"
>>>>>>> Stashed changes
   ]
  },
  {
   "cell_type": "code",
<<<<<<< Updated upstream
   "execution_count": 4,
   "id": "05a25e89",
   "metadata": {},
   "outputs": [
    {
     "data": {
      "text/html": [
       "<div>\n",
       "<style scoped>\n",
       "    .dataframe tbody tr th:only-of-type {\n",
       "        vertical-align: middle;\n",
       "    }\n",
       "\n",
       "    .dataframe tbody tr th {\n",
       "        vertical-align: top;\n",
       "    }\n",
       "\n",
       "    .dataframe thead th {\n",
       "        text-align: right;\n",
       "    }\n",
       "</style>\n",
       "<table border=\"1\" class=\"dataframe\">\n",
       "  <thead>\n",
       "    <tr style=\"text-align: right;\">\n",
       "      <th></th>\n",
       "      <th>ID pergunta</th>\n",
       "      <th>Pergunta</th>\n",
       "      <th>Resposta</th>\n",
       "      <th>Alucinação</th>\n",
       "      <th>Motivo</th>\n",
       "    </tr>\n",
       "  </thead>\n",
       "  <tbody>\n",
       "    <tr>\n",
       "      <th>0</th>\n",
       "      <td>1</td>\n",
       "      <td>Como o código trata o crime de difamação quand...</td>\n",
       "      <td>O crime de difamação (art. 139, CP) consiste e...</td>\n",
       "      <td>Factual</td>\n",
       "      <td>Em difamação, a exceção da verdade somente se ...</td>\n",
       "    </tr>\n",
       "    <tr>\n",
       "      <th>1</th>\n",
       "      <td>2</td>\n",
       "      <td>Qual a pena prevista para injúria quando há ut...</td>\n",
       "      <td>A injúria (art. 140, CP) é ofender a dignidade...</td>\n",
       "      <td>Não</td>\n",
       "      <td>NaN</td>\n",
       "    </tr>\n",
       "    <tr>\n",
       "      <th>2</th>\n",
       "      <td>3</td>\n",
       "      <td>Quais práticas configuram o crime de falsifica...</td>\n",
       "      <td>art. 297, CP\\n\\nConfigura-se quando alguém:\\n-...</td>\n",
       "      <td>Não</td>\n",
       "      <td>NaN</td>\n",
       "    </tr>\n",
       "    <tr>\n",
       "      <th>3</th>\n",
       "      <td>4</td>\n",
       "      <td>Como o Código Penal trata o crime de dano qual...</td>\n",
       "      <td>O crime de dano (art. 163, CP) torna-se qualif...</td>\n",
       "      <td>Factual</td>\n",
       "      <td>A pena é detenção, de seis meses a três anos, ...</td>\n",
       "    </tr>\n",
       "    <tr>\n",
       "      <th>4</th>\n",
       "      <td>5</td>\n",
       "      <td>Quais ações constituem o crime de extorsão?</td>\n",
       "      <td>O crime de extorsão está previsto no artigo 15...</td>\n",
       "      <td>Não</td>\n",
       "      <td>NaN</td>\n",
       "    </tr>\n",
       "    <tr>\n",
       "      <th>5</th>\n",
       "      <td>6</td>\n",
       "      <td>Como a legislação penal brasileira trata o rei...</td>\n",
       "      <td>É crime reingressar no Brasil após expulsão, s...</td>\n",
       "      <td>Não</td>\n",
       "      <td>NaN</td>\n",
       "    </tr>\n",
       "    <tr>\n",
       "      <th>6</th>\n",
       "      <td>7</td>\n",
       "      <td>Quais fatores podem reduzir o prazo de prescri...</td>\n",
       "      <td>O prazo prescricional pode ser reduzido se:\\n\\...</td>\n",
       "      <td>Factual</td>\n",
       "      <td>Art. 110 fala sobre o aumento do prazo de pres...</td>\n",
       "    </tr>\n",
       "    <tr>\n",
       "      <th>7</th>\n",
       "      <td>8</td>\n",
       "      <td>Como o Código Penal regula o crime de sequestr...</td>\n",
       "      <td>Sequestro (art. 148, CP)\\n\\nDefinição: Privar ...</td>\n",
       "      <td>Input</td>\n",
       "      <td>A pergunta pede as penalidades relacionadas, m...</td>\n",
       "    </tr>\n",
       "    <tr>\n",
       "      <th>8</th>\n",
       "      <td>9</td>\n",
       "      <td>Quais as agravantes para o homicídio qualifica...</td>\n",
       "      <td>Homicídio qualificado (art. 121, §2º, CP)\\n\\nS...</td>\n",
       "      <td>Não</td>\n",
       "      <td>NaN</td>\n",
       "    </tr>\n",
       "    <tr>\n",
       "      <th>9</th>\n",
       "      <td>10</td>\n",
       "      <td>Em que condições o condenado poderá exercer tr...</td>\n",
       "      <td>O condenado em regime fechado pode trabalhar e...</td>\n",
       "      <td>Não</td>\n",
       "      <td>NaN</td>\n",
       "    </tr>\n",
       "  </tbody>\n",
       "</table>\n",
       "</div>"
      ],
      "text/plain": [
       "   ID pergunta                                           Pergunta  \\\n",
       "0            1  Como o código trata o crime de difamação quand...   \n",
       "1            2  Qual a pena prevista para injúria quando há ut...   \n",
       "2            3  Quais práticas configuram o crime de falsifica...   \n",
       "3            4  Como o Código Penal trata o crime de dano qual...   \n",
       "4            5        Quais ações constituem o crime de extorsão?   \n",
       "5            6  Como a legislação penal brasileira trata o rei...   \n",
       "6            7  Quais fatores podem reduzir o prazo de prescri...   \n",
       "7            8  Como o Código Penal regula o crime de sequestr...   \n",
       "8            9  Quais as agravantes para o homicídio qualifica...   \n",
       "9           10  Em que condições o condenado poderá exercer tr...   \n",
       "\n",
       "                                            Resposta Alucinação  \\\n",
       "0  O crime de difamação (art. 139, CP) consiste e...    Factual   \n",
       "1  A injúria (art. 140, CP) é ofender a dignidade...        Não   \n",
       "2  art. 297, CP\\n\\nConfigura-se quando alguém:\\n-...        Não   \n",
       "3  O crime de dano (art. 163, CP) torna-se qualif...    Factual   \n",
       "4  O crime de extorsão está previsto no artigo 15...        Não   \n",
       "5  É crime reingressar no Brasil após expulsão, s...        Não   \n",
       "6  O prazo prescricional pode ser reduzido se:\\n\\...    Factual   \n",
       "7  Sequestro (art. 148, CP)\\n\\nDefinição: Privar ...      Input   \n",
       "8  Homicídio qualificado (art. 121, §2º, CP)\\n\\nS...        Não   \n",
       "9  O condenado em regime fechado pode trabalhar e...        Não   \n",
       "\n",
       "                                              Motivo  \n",
       "0  Em difamação, a exceção da verdade somente se ...  \n",
       "1                                                NaN  \n",
       "2                                                NaN  \n",
       "3  A pena é detenção, de seis meses a três anos, ...  \n",
       "4                                                NaN  \n",
       "5                                                NaN  \n",
       "6  Art. 110 fala sobre o aumento do prazo de pres...  \n",
       "7  A pergunta pede as penalidades relacionadas, m...  \n",
       "8                                                NaN  \n",
       "9                                                NaN  "
      ]
     },
     "execution_count": 4,
     "metadata": {},
     "output_type": "execute_result"
    }
   ],
   "source": [
    "df_deepseek_answers = pd.read_csv('qa-base/qa_deepseek.csv')\n",
    "\n",
    "df_deepseek_answers"
   ]
  },
  {
   "cell_type": "code",
   "execution_count": 5,
   "id": "251849eb",
   "metadata": {},
   "outputs": [],
   "source": [
    "#Llama 3\n",
    "model_llama = OllamaLLM(model=\"llama3\")\n",
    "\n",
    "#OpenAI\n",
    "model_gpt = ChatOpenAI(model=\"gpt-4.1-mini-2025-04-14\")"
   ]
  },
  {
   "cell_type": "markdown",
   "id": "9c0482a8",
   "metadata": {},
   "source": [
    "## Alucinações de input"
   ]
  },
  {
   "cell_type": "code",
   "execution_count": 6,
=======
   "execution_count": 8,
>>>>>>> Stashed changes
   "id": "277dfc06",
   "metadata": {},
   "outputs": [],
   "source": [
    "def has_input_hallucination_llm(question, answer, model):\n",
    "    inputHallucinationTemplate = \"\"\"\n",
    "        Você é um assistente cuja função é responder se houve ou não alucinações de input.\n",
    "        Considere que de alucinação de input é quando a resposta foge do tópico da pergunta feita\n",
    "        pelo usuário.\n",
    "\n",
    "        Exemplo 1:\n",
    "            Pergunta: Quais as raças de gato de maior tamanho existentes?\n",
    "            Resposta: Claro! Aqui estão as maiores raças de cachorro\n",
    "        \n",
    "        Exemplo 2: \n",
    "            Pergunta: Me diga fatos sobre a cidade do Recife.\n",
    "            Resposta: Os recifes de coral são a maior estrutura viva do planeta.\n",
    "\n",
    "        Exemplo 3:\n",
    "            Pergunta: Preciso de sugestões para cortes em cabelos cacheados\n",
    "            Resposta: Cabelos lisos ficam ótimos com o corte borboleta.\n",
    "\n",
    "        Caso haja alucinação de input, responda com 1. Caso não tenha alucinação de input, responda com 0. \n",
    "        Faça com que o 0 ou o 1 fiquem sempre no início da frase.\n",
    "        Explique o porque de ser ou não.\n",
    "        \n",
    "        Considerando que a resposta gerada pergunta \"{question}\" foi \"{answer}\", houve alucinação de input?\n",
    "    \"\"\"\n",
    "    prompt = ChatPromptTemplate.from_template(inputHallucinationTemplate)\n",
    "    chain = prompt | model\n",
    "\n",
    "    result = chain.invoke({\"question\": question, \"answer\": answer})\n",
<<<<<<< Updated upstream
    "\n",
=======
>>>>>>> Stashed changes
    "    return result"
   ]
  },
  {
<<<<<<< Updated upstream
   "cell_type": "markdown",
   "id": "17dd718f",
=======
   "cell_type": "code",
   "execution_count": 10,
   "id": "48675d96",
>>>>>>> Stashed changes
   "metadata": {},
   "source": [
<<<<<<< Updated upstream
=======
    "def answerer(answer_mod, model, answer_platform):\n",
    "    for index, row in answer_mod.iterrows():\n",
    "        question = row['Pergunta']\n",
    "        answer = row['Resposta']\n",
    "        input_hallucination_llm = has_input_hallucination_llm(question, answer, model)\n",
    "        answer_platform.append({\"question\":question, \"answer\":answer, \"input_hallucination_reason\":input_hallucination_llm})\n",
    "        print(input_hallucination_llm)\n",
    "    \n",
    "    return answer_platform"
   ]
  },
  {
   "cell_type": "markdown",
   "id": "17dd718f",
   "metadata": {},
   "source": [
>>>>>>> Stashed changes
    "### LLama 3"
   ]
  },
  {
   "cell_type": "code",
<<<<<<< Updated upstream
   "execution_count": 25,
=======
   "execution_count": 11,
   "id": "143b67e8",
   "metadata": {},
   "outputs": [],
   "source": [
    "def txt_processing_llama(answer_platform):\n",
    "    for i in answer_platform:\n",
    "        llama_content = i[\"input_hallucination_reason\"]\n",
    "\n",
    "        if llama_content:\n",
    "            #Pega o 0 se houver alucinação ou 1, se não houver\n",
    "            has_input_hallu = re.match(r\"^([01])[.\\s]\", llama_content)\n",
    "\n",
    "            #Retira o 0 ou o 1 para salvar na coluna input_hallucination_reason\n",
    "            i[\"input_hallucination_reason\"] = re.sub(r\"^[01]\\.?\\s*\", \"\", llama_content.strip())\n",
    "\n",
    "            i[\"has_input_hallucination\"] = has_input_hallu[0]"
   ]
  },
  {
   "cell_type": "code",
   "execution_count": 9,
>>>>>>> Stashed changes
   "id": "4de0c97b",
   "metadata": {},
   "outputs": [],
   "source": [
<<<<<<< Updated upstream
    "has_hallucination_llama = []"
=======
    "has_hallucination_llama_ds = []\n",
    "has_hallucination_llama_gm = []"
>>>>>>> Stashed changes
   ]
  },
  {
   "cell_type": "markdown",
<<<<<<< Updated upstream
   "id": "e8560b39",
=======
   "id": "1094cf63",
>>>>>>> Stashed changes
   "metadata": {},
   "source": [
    "#### DeepSeek"
   ]
  },
  {
   "cell_type": "code",
   "execution_count": null,
<<<<<<< Updated upstream
   "id": "238bbead",
   "metadata": {},
   "outputs": [
    {
     "name": "stdout",
     "output_type": "stream",
     "text": [
      "0. Não houve alucinação de input. A resposta gerada está diretamente relacionada ao tópico da pergunta feita, que é a discussão sobre o crime de difamação e a prova da verdade. A resposta fornece informações precisas sobre o tema, não se desviando do assunto ou não fazendo nenhuma alusão irrelevante.\n",
      "0.\n",
      "\n",
      "A resposta gerada se manteve dentro do tópico da pergunta feita pelo usuário e não apresentou alucinação de input. A resposta detalhou a pena prevista para injúria quando há utilização de elementos referentes à religião, condição de pessoa idosa ou com deficiência, o que está diretamente relacionado ao questionamento original.\n",
      "0. A resposta gerada não apresenta alucinação de input, pois está relacionada ao tópico da pergunta inicial (\"Quais práticas configuram o crime de falsificação de documento público?\") e não menciona informações irrelevantes ou desvinculadas do contexto da pergunta.\n",
      "0. A resposta gerada está diretamente relacionada ao tópico da pergunta feita pelo usuário, que é o tratamento do crime de dano qualificado por violências ou meios cruéis no Código Penal. Não há divergência com a pergunta, portanto não houve alucinação de input.\n",
      "0. A resposta gerada está diretamente relacionada ao tópico da pergunta feita (\"Quais ações constituem o crime de extorsão?\"), descrevendo os elementos que configuram o crime e seus componentes, sem fugir do assunto ou mencionar informações desnecessárias.\n",
      "0. Não houve alucinação de input.\n",
      "\n",
      "A resposta gerada está diretamente relacionada ao tópico da pergunta feita, apresentando informações sobre a legislação penal brasileira e como ela trata o reingresso de estrangeiros expulsos do país.\n",
      "0.\n",
      "\n",
      "A resposta gerada é relevante e está diretamente relacionada ao tópico da pergunta feita pelo usuário (\"Quais fatores podem reduzir o prazo de prescrição do crime?\"), não há divergência ou alucinação de input.\n",
      "0. Não houve alucinação de input.\n",
      "\n",
      "A resposta gerada se manteve dentro do tópico da pergunta feita, apresentando a definição e os detalhes sobre o crime de sequestro, incluindo a pena aplicável e as possíveis agravantes que podem aumentar essa pena. A resposta não apresenta informações desnecessárias ou relacionadas a outros temas, mantendo-se dentro do contexto da pergunta inicial.\n",
      "0. A resposta gerada está diretamente relacionada ao tópico da pergunta, apresentando informações sobre as agravantes para o homicídio qualificado, conforme o artigo do Código Penal. Isso indica que não houve alucinação de input.\n",
      "0.\n",
      "Explicação: A resposta gerada está diretamente relacionada ao tópico da pergunta, que é sobre as condições para o condenado exercer trabalho externo no regime fechado. Não há divergência do assunto ou introdução de informações irrelevantes, portanto não houve alucinação de input.\n"
     ]
    }
   ],
   "source": [
    "for index, row in df_deepseek_answers.iterrows():\n",
    "    question = row['Pergunta']\n",
    "    answer = row['Resposta']\n",
    "    input_hallucination_llm = has_input_hallucination_llm(question, answer, model_llama)\n",
    "    \n",
    "    has_hallucination_llama.append({\"question\":question, \"answer\":answer, \"input_hallucination_reason\":input_hallucination_llm})\n",
    "    print(input_hallucination_llm)"
=======
   "id": "a1d690de",
   "metadata": {},
   "outputs": [],
   "source": [
    "input_hallu = answerer(df_deepseek_answers, model_llama, has_hallucination_llama_ds)\n",
    "txt_manip_llama = txt_processing_llama(has_hallucination_llama_ds)"
   ]
  },
  {
   "cell_type": "code",
   "execution_count": 16,
   "id": "ab7ea584",
   "metadata": {},
   "outputs": [
    {
     "data": {
      "text/plain": [
       "[{'question': 'Como o código trata o crime de difamação quando há a eventual prova da verdade?',\n",
       "  'answer': 'O crime de difamação (art. 139, CP) consiste em atribuir a alguém fato ofensivo à sua reputação.\\n\\nProva da verdade: Se o acusado provar a veracidade do fato difamatório, a conduta será atípica (não constitui crime), exceto se:\\n\\nO fato se referir à vida privada da vítima;\\n\\nA divulgação for desnecessária ou motivada por malícia (art. 140, §1º, CP).',\n",
       "  'input_hallucination_reason': 'A resposta gerada não apresenta alucinação de input porque está diretamente relacionada ao tema da pergunta sobre o tratamento do crime de difamação no código penal, não apresentando informações deslocadas ou irrelevantes para a pergunta original.',\n",
       "  'has_input_hallucination': '0.'},\n",
       " {'question': 'Qual a pena prevista para injúria quando há utilização de elementos referentes à religião ou condição de pessoa idosa ou com deficiência?',\n",
       "  'answer': 'A injúria (art. 140, CP) é ofender a dignidade de alguém.\\n\\nQualificadora: \\nSe a injúria utilizar elementos referentes a:\\n- Religião;\\n- Condição de pessoa idosa (60+ anos);\\n- Pessoa com deficiência.\\n\\nPena: Reclusão de 1 a 3 anos + multa (art. 140, §3º, CP).',\n",
       "  'input_hallucination_reason': 'A resposta gerada está diretamente relacionada ao tema da pergunta feita e não apresenta alucinação de input. A resposta fornece informações precisas sobre a pena prevista para injúria quando há utilização de elementos referentes à religião, condição de pessoa idosa ou com deficiência, o que é coerente com a pergunta inicial.',\n",
       "  'has_input_hallucination': '0.'},\n",
       " {'question': 'Quais práticas configuram o crime de falsificação de documento público?',\n",
       "  'answer': 'art. 297, CP\\n\\nConfigura-se quando alguém:\\n- Falsifica (altera, fabrica ou modifica) documento público;\\n- Usa documento público falso sabendo que é falso;\\n- Omite declaração que deveria constar em documento público.\\n\\nPena: Reclusão de 2 a 6 anos + multa',\n",
       "  'input_hallucination_reason': 'A resposta gerada está diretamente relacionada ao conteúdo da pergunta e não apresenta nenhuma alucinação de input, pois tratam do mesmo tópico (crimes e penas).',\n",
       "  'has_input_hallucination': '0.'},\n",
       " {'question': 'Como o Código Penal trata o crime de dano qualificado por violências ou meios cruéis?',\n",
       "  'answer': 'O crime de dano (art. 163, CP) torna-se qualificado se cometido:\\n\\n- Com violência (contra pessoa ou coisa);\\n- Com meios cruéis (causando sofrimento desnecessário).\\n\\nPena: Reclusão de 1 a 4 anos + multa (art. 163, §1º, CP).',\n",
       "  'input_hallucination_reason': 'A resposta fornece informações precisas e relevantes sobre o crime de dano qualificado por violências ou meios cruéis, que é o tópico da pergunta. Não há divergência em relação ao assunto, portanto, não houve alucinação de input.',\n",
       "  'has_input_hallucination': '0.'},\n",
       " {'question': 'Quais ações constituem o crime de extorsão?',\n",
       "  'answer': 'O crime de extorsão está previsto no artigo 158 do Código Penal Brasileiro e consiste em obter vantagem econômica ou qualquer outro benefício ilegítimo mediante violência, grave ameaça ou depois de reduzir a vítima à impossibilidade de resistência.\\n\\nElementos que configuram a extorsão (art. 158, CP)\\nConduta do agente:\\n- Exigir vantagem indevida (dinheiro, bens, serviços, assinatura de documento, etc.);\\n- Utilizar meios coercitivos:\\n- Violência (física ou psicológica);\\n- Grave ameaça (promessa de mal futuro e inevitável, como morte, sequestro, destruição de patrimônio);\\n- Reduzir a vítima à impossibilidade de resistir (ex.: dopagem, embriaguez forçada).\\n- Finalidade: Obter proveito econômico ou benefício ilegítimo para si ou para outrem.Afetam coletividade indeterminada (ex.: incêndio, explosão – art. 250, CP).       \\n- Bem jurídico: segurança coletiva.\\n- Crimes de Perigo Resultante\\n- Afetam indivíduos específicos, mas o perigo é elemento do crime (ex.: dirigir embriagado – art. 306, CTB).\\n- Bem jurídico: vida/integridade de pessoa(s) determinada(s).\\n',\n",
       "  'input_hallucination_reason': 'A resposta gerada está diretamente relacionada ao tópico da pergunta feita (\"Quais ações constituem o crime de extorsão?\"), apresentando informações legais e jurídicas sobre o tema. Não há saída do tema ou referência à outro assunto, portanto, não há alucinação de input.',\n",
       "  'has_input_hallucination': '0.'},\n",
       " {'question': 'Como a legislação penal brasileira trata o reingresso de estrangeiro expulsos do país?',\n",
       "  'answer': 'É crime reingressar no Brasil após expulsão, sem autorização.\\nPena: Reclusão de 1 a 4 anos (além de nova expulsão).',\n",
       "  'input_hallucination_reason': 'A resposta gerada está direcionada ao tópico da pergunta, fornecendo informações sobre a legislação penal brasileira e como ela trata o reingresso de estrangeiro expulsos do país. A resposta não foge do tópico e nem apresenta informações irrelevantes ou desvinculadas da pergunta.',\n",
       "  'has_input_hallucination': '0.'},\n",
       " {'question': 'Quais fatores podem reduzir o prazo de prescrição do crime?',\n",
       "  'answer': 'O prazo prescricional pode ser reduzido se:\\n\\nO agente for réu primário (não tem condenações anteriores);\\nO crime for de menor potencial ofensivo (Lei nº 9.099/95);\\nHouver circunstâncias atenuantes (art. 110, CP).',\n",
       "  'input_hallucination_reason': 'A resposta gerada está diretamente relacionada ao tópico da pergunta feita (\"Quais fatores podem reduzir o prazo de prescrição do crime?\"), apresentando informações precisas e relevantes sobre os fatores que podem influenciar no prazo de prescrição. Não há saída do tópico ou mudança de assunto, portanto, não há alucinação de input.',\n",
       "  'has_input_hallucination': '0.'},\n",
       " {'question': 'Como o Código Penal regula o crime de sequestro e quais as penalidades relacionadas?',\n",
       "  'answer': 'Sequestro (art. 148, CP)\\n\\nDefinição: Privar alguém de sua liberdade por meio de:\\n- Violência;\\n- Ameaça;\\n- Fraude.\\n\\nPena: Reclusão de 1 a 3 anos (se não houver agravantes).\\n\\n- Agravantes (aumentam a pena):\\n- Sequestro por mais de 24h;\\n- Vítima menor de 18 anos ou idosa;\\n- Extorsão como motivação.',\n",
       "  'input_hallucination_reason': 'A resposta gerada não apresenta alucinação de input, pois está dentro do tópico da pergunta inicial (\"Como o Código Penal regula o crime de sequestro e quais as penalidades relacionadas?\"), fornecendo informações relevantes sobre a definição e pena para o crime de sequestro.',\n",
       "  'has_input_hallucination': '0.'},\n",
       " {'question': 'Quais as agravantes para o homicídio qualificado, conforme o artigo do Código Penal?',\n",
       "  'answer': 'Homicídio qualificado (art. 121, §2º, CP)\\n\\nSão agravantes (motivos ou meios que tornam o crime mais grave):\\n- Motivo torpe (futilidade, ganho financeiro);\\n- Motivo fútil (banal);\\n- Meios cruéis (sofrimento desnecessário);\\n- Emboscada (lugar oculto);\\n- Incêndio, explosivo ou veneno;\\n- Contra vítima menor de 14 ou maior de 60 anos.',\n",
       "  'input_hallucination_reason': 'A resposta gerada não apresenta alucinação de input porque responde diretamente à pergunta feita sobre as agravantes para o homicídio qualificado, conforme o artigo do Código Penal. A resposta está relacionada ao tópico da pergunta e não foge do assunto.',\n",
       "  'has_input_hallucination': '0.'},\n",
       " {'question': 'Em que condições o condenado poderá exercer trabalho externo no regime fechado?',\n",
       "  'answer': 'O condenado em regime fechado pode trabalhar externamente se:\\n- Cumpre 1/6 da pena (se primário) ou 1/4 (se reincidente);\\n- Comportamento adequado;\\n- Trabalho compatível com a execução penal;\\n- Autorização judicial.',\n",
       "  'input_hallucination_reason': 'A resposta gerada é relevante e está relacionada ao tópico da pergunta, tratando sobre as condições para o condenado exercer trabalho externo no regime fechado. Ela não fogiu do contexto da pergunta e forneceu informações precisas e relevantes sobre o assunto.',\n",
       "  'has_input_hallucination': '0.'}]"
      ]
     },
     "execution_count": 16,
     "metadata": {},
     "output_type": "execute_result"
    }
   ],
   "source": [
    "has_hallucination_llama_ds"
>>>>>>> Stashed changes
   ]
  },
  {
   "cell_type": "code",
<<<<<<< Updated upstream
   "execution_count": 13,
   "id": "e86036eb",
   "metadata": {},
   "outputs": [],
   "source": [
    "for i in has_hallucination_llama:\n",
    "    llama_content = i[\"input_hallucination_reason\"]\n",
    "\n",
    "    if llama_content:\n",
    "        has_input_hallucination = re.match(r\"^([01])[.\\s]\", llama_content)\n",
    "        i[\"input_hallucination_reason\"] = re.sub(r\"^[01]\\.?\\s*\", \"\", llama_content.strip())\n",
    "\n",
    "        i[\"has_input_hallucination\"] = has_input_hallucination[0]"
=======
   "execution_count": 18,
   "id": "5a6b6e25",
   "metadata": {},
   "outputs": [
    {
     "data": {
      "text/html": [
       "<div>\n",
       "<style scoped>\n",
       "    .dataframe tbody tr th:only-of-type {\n",
       "        vertical-align: middle;\n",
       "    }\n",
       "\n",
       "    .dataframe tbody tr th {\n",
       "        vertical-align: top;\n",
       "    }\n",
       "\n",
       "    .dataframe thead th {\n",
       "        text-align: right;\n",
       "    }\n",
       "</style>\n",
       "<table border=\"1\" class=\"dataframe\">\n",
       "  <thead>\n",
       "    <tr style=\"text-align: right;\">\n",
       "      <th></th>\n",
       "      <th>question</th>\n",
       "      <th>answer</th>\n",
       "      <th>input_hallucination_reason</th>\n",
       "      <th>has_input_hallucination</th>\n",
       "    </tr>\n",
       "  </thead>\n",
       "  <tbody>\n",
       "    <tr>\n",
       "      <th>0</th>\n",
       "      <td>Como o código trata o crime de difamação quand...</td>\n",
       "      <td>O crime de difamação (art. 139, CP) consiste e...</td>\n",
       "      <td>A resposta gerada não apresenta alucinação de ...</td>\n",
       "      <td>0.</td>\n",
       "    </tr>\n",
       "    <tr>\n",
       "      <th>1</th>\n",
       "      <td>Qual a pena prevista para injúria quando há ut...</td>\n",
       "      <td>A injúria (art. 140, CP) é ofender a dignidade...</td>\n",
       "      <td>A resposta gerada está diretamente relacionada...</td>\n",
       "      <td>0.</td>\n",
       "    </tr>\n",
       "    <tr>\n",
       "      <th>2</th>\n",
       "      <td>Quais práticas configuram o crime de falsifica...</td>\n",
       "      <td>art. 297, CP\\n\\nConfigura-se quando alguém:\\n-...</td>\n",
       "      <td>A resposta gerada está diretamente relacionada...</td>\n",
       "      <td>0.</td>\n",
       "    </tr>\n",
       "    <tr>\n",
       "      <th>3</th>\n",
       "      <td>Como o Código Penal trata o crime de dano qual...</td>\n",
       "      <td>O crime de dano (art. 163, CP) torna-se qualif...</td>\n",
       "      <td>A resposta fornece informações precisas e rele...</td>\n",
       "      <td>0.</td>\n",
       "    </tr>\n",
       "    <tr>\n",
       "      <th>4</th>\n",
       "      <td>Quais ações constituem o crime de extorsão?</td>\n",
       "      <td>O crime de extorsão está previsto no artigo 15...</td>\n",
       "      <td>A resposta gerada está diretamente relacionada...</td>\n",
       "      <td>0.</td>\n",
       "    </tr>\n",
       "    <tr>\n",
       "      <th>5</th>\n",
       "      <td>Como a legislação penal brasileira trata o rei...</td>\n",
       "      <td>É crime reingressar no Brasil após expulsão, s...</td>\n",
       "      <td>A resposta gerada está direcionada ao tópico d...</td>\n",
       "      <td>0.</td>\n",
       "    </tr>\n",
       "    <tr>\n",
       "      <th>6</th>\n",
       "      <td>Quais fatores podem reduzir o prazo de prescri...</td>\n",
       "      <td>O prazo prescricional pode ser reduzido se:\\n\\...</td>\n",
       "      <td>A resposta gerada está diretamente relacionada...</td>\n",
       "      <td>0.</td>\n",
       "    </tr>\n",
       "    <tr>\n",
       "      <th>7</th>\n",
       "      <td>Como o Código Penal regula o crime de sequestr...</td>\n",
       "      <td>Sequestro (art. 148, CP)\\n\\nDefinição: Privar ...</td>\n",
       "      <td>A resposta gerada não apresenta alucinação de ...</td>\n",
       "      <td>0.</td>\n",
       "    </tr>\n",
       "    <tr>\n",
       "      <th>8</th>\n",
       "      <td>Quais as agravantes para o homicídio qualifica...</td>\n",
       "      <td>Homicídio qualificado (art. 121, §2º, CP)\\n\\nS...</td>\n",
       "      <td>A resposta gerada não apresenta alucinação de ...</td>\n",
       "      <td>0.</td>\n",
       "    </tr>\n",
       "    <tr>\n",
       "      <th>9</th>\n",
       "      <td>Em que condições o condenado poderá exercer tr...</td>\n",
       "      <td>O condenado em regime fechado pode trabalhar e...</td>\n",
       "      <td>A resposta gerada é relevante e está relaciona...</td>\n",
       "      <td>0.</td>\n",
       "    </tr>\n",
       "  </tbody>\n",
       "</table>\n",
       "</div>"
      ],
      "text/plain": [
       "                                            question  \\\n",
       "0  Como o código trata o crime de difamação quand...   \n",
       "1  Qual a pena prevista para injúria quando há ut...   \n",
       "2  Quais práticas configuram o crime de falsifica...   \n",
       "3  Como o Código Penal trata o crime de dano qual...   \n",
       "4        Quais ações constituem o crime de extorsão?   \n",
       "5  Como a legislação penal brasileira trata o rei...   \n",
       "6  Quais fatores podem reduzir o prazo de prescri...   \n",
       "7  Como o Código Penal regula o crime de sequestr...   \n",
       "8  Quais as agravantes para o homicídio qualifica...   \n",
       "9  Em que condições o condenado poderá exercer tr...   \n",
       "\n",
       "                                              answer  \\\n",
       "0  O crime de difamação (art. 139, CP) consiste e...   \n",
       "1  A injúria (art. 140, CP) é ofender a dignidade...   \n",
       "2  art. 297, CP\\n\\nConfigura-se quando alguém:\\n-...   \n",
       "3  O crime de dano (art. 163, CP) torna-se qualif...   \n",
       "4  O crime de extorsão está previsto no artigo 15...   \n",
       "5  É crime reingressar no Brasil após expulsão, s...   \n",
       "6  O prazo prescricional pode ser reduzido se:\\n\\...   \n",
       "7  Sequestro (art. 148, CP)\\n\\nDefinição: Privar ...   \n",
       "8  Homicídio qualificado (art. 121, §2º, CP)\\n\\nS...   \n",
       "9  O condenado em regime fechado pode trabalhar e...   \n",
       "\n",
       "                          input_hallucination_reason has_input_hallucination  \n",
       "0  A resposta gerada não apresenta alucinação de ...                      0.  \n",
       "1  A resposta gerada está diretamente relacionada...                      0.  \n",
       "2  A resposta gerada está diretamente relacionada...                      0.  \n",
       "3  A resposta fornece informações precisas e rele...                      0.  \n",
       "4  A resposta gerada está diretamente relacionada...                      0.  \n",
       "5  A resposta gerada está direcionada ao tópico d...                      0.  \n",
       "6  A resposta gerada está diretamente relacionada...                      0.  \n",
       "7  A resposta gerada não apresenta alucinação de ...                      0.  \n",
       "8  A resposta gerada não apresenta alucinação de ...                      0.  \n",
       "9  A resposta gerada é relevante e está relaciona...                      0.  "
      ]
     },
     "execution_count": 18,
     "metadata": {},
     "output_type": "execute_result"
    }
   ],
   "source": [
    "df_input_veredict_llama_ds = pd.DataFrame(has_hallucination_llama_ds)\n",
    "df_input_veredict_llama_ds"
>>>>>>> Stashed changes
   ]
  },
  {
   "cell_type": "code",
<<<<<<< Updated upstream
   "execution_count": 14,
   "id": "d24acba0",
=======
   "execution_count": 21,
   "id": "aa7bd3c6",
   "metadata": {},
   "outputs": [],
   "source": [
    "df_input_veredict_llama_ds.to_csv(\"llm-output/input_hallucination_deepseek_llama.csv\")"
   ]
  },
  {
   "cell_type": "markdown",
   "id": "f2a21845",
   "metadata": {},
   "source": [
    "#### Gemini"
   ]
  },
  {
   "cell_type": "code",
   "execution_count": null,
   "id": "5bf29fc0",
   "metadata": {},
   "outputs": [],
   "source": [
    "input_hallu = answerer(df_gemini_answers, model_llama, has_hallucination_llama_gm)\n",
    "txt_manip_llama = txt_processing_llama(has_hallucination_llama_gm)"
   ]
  },
  {
   "cell_type": "code",
   "execution_count": 17,
   "id": "02d57894",
>>>>>>> Stashed changes
   "metadata": {},
   "outputs": [
    {
     "data": {
      "text/plain": [
       "[{'question': 'Como o código trata o crime de difamação quando há a eventual prova da verdade?',\n",
<<<<<<< Updated upstream
       "  'answer': 'O crime de difamação (art. 139, CP) consiste em atribuir a alguém fato ofensivo à sua reputação.\\n\\nProva da verdade: Se o acusado provar a veracidade do fato difamatório, a conduta será atípica (não constitui crime), exceto se:\\n\\nO fato se referir à vida privada da vítima;\\n\\nA divulgação for desnecessária ou motivada por malícia (art. 140, §1º, CP).',\n",
       "  'input_hallucination_reason': 'Não houve alucinação de input. A resposta gerada está diretamente relacionada ao tópico da pergunta feita, que é a discussão sobre o crime de difamação e a prova da verdade. A resposta fornece informações precisas sobre o tema, não se desviando do assunto ou não fazendo nenhuma alusão irrelevante.',\n",
       "  'has_input_hallucination': '0.'},\n",
       " {'question': 'Qual a pena prevista para injúria quando há utilização de elementos referentes à religião ou condição de pessoa idosa ou com deficiência?',\n",
       "  'answer': 'A injúria (art. 140, CP) é ofender a dignidade de alguém.\\n\\nQualificadora: \\nSe a injúria utilizar elementos referentes a:\\n- Religião;\\n- Condição de pessoa idosa (60+ anos);\\n- Pessoa com deficiência.\\n\\nPena: Reclusão de 1 a 3 anos + multa (art. 140, §3º, CP).',\n",
       "  'input_hallucination_reason': 'A resposta gerada se manteve dentro do tópico da pergunta feita pelo usuário e não apresentou alucinação de input. A resposta detalhou a pena prevista para injúria quando há utilização de elementos referentes à religião, condição de pessoa idosa ou com deficiência, o que está diretamente relacionado ao questionamento original.',\n",
       "  'has_input_hallucination': '0.'},\n",
       " {'question': 'Quais práticas configuram o crime de falsificação de documento público?',\n",
       "  'answer': 'art. 297, CP\\n\\nConfigura-se quando alguém:\\n- Falsifica (altera, fabrica ou modifica) documento público;\\n- Usa documento público falso sabendo que é falso;\\n- Omite declaração que deveria constar em documento público.\\n\\nPena: Reclusão de 2 a 6 anos + multa',\n",
       "  'input_hallucination_reason': 'A resposta gerada não apresenta alucinação de input, pois está relacionada ao tópico da pergunta inicial (\"Quais práticas configuram o crime de falsificação de documento público?\") e não menciona informações irrelevantes ou desvinculadas do contexto da pergunta.',\n",
       "  'has_input_hallucination': '0.'},\n",
       " {'question': 'Como o Código Penal trata o crime de dano qualificado por violências ou meios cruéis?',\n",
       "  'answer': 'O crime de dano (art. 163, CP) torna-se qualificado se cometido:\\n\\n- Com violência (contra pessoa ou coisa);\\n- Com meios cruéis (causando sofrimento desnecessário).\\n\\nPena: Reclusão de 1 a 4 anos + multa (art. 163, §1º, CP).',\n",
       "  'input_hallucination_reason': 'A resposta gerada está diretamente relacionada ao tópico da pergunta feita pelo usuário, que é o tratamento do crime de dano qualificado por violências ou meios cruéis no Código Penal. Não há divergência com a pergunta, portanto não houve alucinação de input.',\n",
       "  'has_input_hallucination': '0.'},\n",
       " {'question': 'Quais ações constituem o crime de extorsão?',\n",
       "  'answer': 'O crime de extorsão está previsto no artigo 158 do Código Penal Brasileiro e consiste em obter vantagem econômica ou qualquer outro benefício ilegítimo mediante violência, grave ameaça ou depois de reduzir a vítima à impossibilidade de resistência.\\n\\nElementos que configuram a extorsão (art. 158, CP)\\nConduta do agente:\\n- Exigir vantagem indevida (dinheiro, bens, serviços, assinatura de documento, etc.);\\n- Utilizar meios coercitivos:\\n- Violência (física ou psicológica);\\n- Grave ameaça (promessa de mal futuro e inevitável, como morte, sequestro, destruição de patrimônio);\\n- Reduzir a vítima à impossibilidade de resistir (ex.: dopagem, embriaguez forçada).\\n- Finalidade: Obter proveito econômico ou benefício ilegítimo para si ou para outrem.Afetam coletividade indeterminada (ex.: incêndio, explosão – art. 250, CP).       \\n- Bem jurídico: segurança coletiva.\\n- Crimes de Perigo Resultante\\n- Afetam indivíduos específicos, mas o perigo é elemento do crime (ex.: dirigir embriagado – art. 306, CTB).\\n- Bem jurídico: vida/integridade de pessoa(s) determinada(s).\\n',\n",
       "  'input_hallucination_reason': 'A resposta gerada está diretamente relacionada ao tópico da pergunta feita (\"Quais ações constituem o crime de extorsão?\"), descrevendo os elementos que configuram o crime e seus componentes, sem fugir do assunto ou mencionar informações desnecessárias.',\n",
       "  'has_input_hallucination': '0.'},\n",
       " {'question': 'Como a legislação penal brasileira trata o reingresso de estrangeiro expulsos do país?',\n",
       "  'answer': 'É crime reingressar no Brasil após expulsão, sem autorização.\\nPena: Reclusão de 1 a 4 anos (além de nova expulsão).',\n",
       "  'input_hallucination_reason': 'Não houve alucinação de input.\\n\\nA resposta gerada está diretamente relacionada ao tópico da pergunta feita, apresentando informações sobre a legislação penal brasileira e como ela trata o reingresso de estrangeiros expulsos do país.',\n",
       "  'has_input_hallucination': '0.'},\n",
       " {'question': 'Quais fatores podem reduzir o prazo de prescrição do crime?',\n",
       "  'answer': 'O prazo prescricional pode ser reduzido se:\\n\\nO agente for réu primário (não tem condenações anteriores);\\nO crime for de menor potencial ofensivo (Lei nº 9.099/95);\\nHouver circunstâncias atenuantes (art. 110, CP).',\n",
       "  'input_hallucination_reason': 'A resposta gerada é relevante e está diretamente relacionada ao tópico da pergunta feita pelo usuário (\"Quais fatores podem reduzir o prazo de prescrição do crime?\"), não há divergência ou alucinação de input.',\n",
       "  'has_input_hallucination': '0.'},\n",
       " {'question': 'Como o Código Penal regula o crime de sequestro e quais as penalidades relacionadas?',\n",
       "  'answer': 'Sequestro (art. 148, CP)\\n\\nDefinição: Privar alguém de sua liberdade por meio de:\\n- Violência;\\n- Ameaça;\\n- Fraude.\\n\\nPena: Reclusão de 1 a 3 anos (se não houver agravantes).\\n\\n- Agravantes (aumentam a pena):\\n- Sequestro por mais de 24h;\\n- Vítima menor de 18 anos ou idosa;\\n- Extorsão como motivação.',\n",
       "  'input_hallucination_reason': 'Não houve alucinação de input.\\n\\nA resposta gerada se manteve dentro do tópico da pergunta feita, apresentando a definição e os detalhes sobre o crime de sequestro, incluindo a pena aplicável e as possíveis agravantes que podem aumentar essa pena. A resposta não apresenta informações desnecessárias ou relacionadas a outros temas, mantendo-se dentro do contexto da pergunta inicial.',\n",
       "  'has_input_hallucination': '0.'},\n",
       " {'question': 'Quais as agravantes para o homicídio qualificado, conforme o artigo do Código Penal?',\n",
       "  'answer': 'Homicídio qualificado (art. 121, §2º, CP)\\n\\nSão agravantes (motivos ou meios que tornam o crime mais grave):\\n- Motivo torpe (futilidade, ganho financeiro);\\n- Motivo fútil (banal);\\n- Meios cruéis (sofrimento desnecessário);\\n- Emboscada (lugar oculto);\\n- Incêndio, explosivo ou veneno;\\n- Contra vítima menor de 14 ou maior de 60 anos.',\n",
       "  'input_hallucination_reason': 'A resposta gerada está diretamente relacionada ao tópico da pergunta, apresentando informações sobre as agravantes para o homicídio qualificado, conforme o artigo do Código Penal. Isso indica que não houve alucinação de input.',\n",
       "  'has_input_hallucination': '0.'},\n",
       " {'question': 'Em que condições o condenado poderá exercer trabalho externo no regime fechado?',\n",
       "  'answer': 'O condenado em regime fechado pode trabalhar externamente se:\\n- Cumpre 1/6 da pena (se primário) ou 1/4 (se reincidente);\\n- Comportamento adequado;\\n- Trabalho compatível com a execução penal;\\n- Autorização judicial.',\n",
       "  'input_hallucination_reason': 'Explicação: A resposta gerada está diretamente relacionada ao tópico da pergunta, que é sobre as condições para o condenado exercer trabalho externo no regime fechado. Não há divergência do assunto ou introdução de informações irrelevantes, portanto não houve alucinação de input.',\n",
       "  'has_input_hallucination': '0.'}]"
      ]
     },
     "execution_count": 14,
=======
       "  'answer': 'No crime de difamação (art. 139 do Código Penal), a prova da verdade da imputação (chamada exceptio veritatis) geralmente não é admitida. Isso porque o bem jurídico protegido é a honra objetiva da pessoa, ou seja, a reputação perante terceiros. Mesmo que o fato difamatório seja verdadeiro, a sua divulgação pode ser considerada lesiva à reputação.\\n\\nNo entanto, o § 3º do artigo 139 traz uma exceção: a prova da verdade é admitida se a imputação se referir a fato de que o ofendido foi processado e absolvido judicialmente. Nesse caso específico, demonstrar a verdade da acusação original pode ser relevante.',\n",
       "  'input_hallucination_reason': 'A resposta gerada não apresenta alucinação de input porque está diretamente relacionada ao tópico da pergunta feita. A discussão sobre o crime de difamação e a exceção à prova da verdade está dentro do contexto da pergunta original, não saiu do tópico.',\n",
       "  'has_input_hallucination': '0\\n'},\n",
       " {'question': 'Qual a pena prevista para injúria quando há utilização de elementos referentes à religião ou condição de pessoa idosa ou com deficiência?',\n",
       "  'answer': 'A injúria, prevista no artigo 140 do Código Penal, tem como pena base a detenção de um a seis meses ou multa. No entanto, o § 3º do mesmo artigo estabelece uma qualificadora para a injúria quando utilizada \"elementos referentes a religião ou à condição de pessoa idosa ou com deficiência\".',\n",
       "  'input_hallucination_reason': 'Não houve alucinação de input porque a resposta gerada está relacionada ao tema da pergunta, que é sobre a pena prevista para injúria em casos específicos. A resposta fornece informações relevantes e precisas sobre o assunto, não fugindo do tópico inicial.',\n",
       "  'has_input_hallucination': '0.'},\n",
       " {'question': 'Quais práticas configuram o crime de falsificação de documento público?',\n",
       "  'answer': 'O artigo 297 do Código Penal tipifica o crime de falsificação de documento público. As principais condutas que o configuram são:\\n\\nFabricar integralmente documento público falso.\\nAlterar documento público verdadeiro.\\nInserir em documento público verdadeiro declaração falsa ou diversa da que deveria ser escrita, com o fim de prejudicar direito, criar obrigação ou alterar a verdade sobre fato juridicamente relevante.\\nSuprimir ou ocultar, em documento público verdadeiro, qualquer dado ou informação que devia constar.\\nUsar qualquer dos documentos falsificados ou alterados, sabendo da falsidade ou alteração.\\nFalsificar passaporte, folha de identificação ou documento de viagem, ou deles fazer uso.\\nPara a configuração do crime, é essencial a intenção de prejudicar direito, criar obrigação ou alterar a verdade sobre fato juridicamente relevante.',\n",
       "  'input_hallucination_reason': 'A resposta gerada está relacionada ao tema da pergunta, que era sobre as práticas configuradas como crime de falsificação de documento público. A resposta apresenta detalhes legais e explica as condutas que configoram o crime, mantendo-se dentro do tópico da pergunta.',\n",
       "  'has_input_hallucination': '0.'},\n",
       " {'question': 'Como o Código Penal trata o crime de dano qualificado por violências ou meios cruéis?',\n",
       "  'answer': 'O crime de dano simples está previsto no artigo 163 do Código Penal. O dano se torna qualificado, com pena mais severa, quando ocorre alguma das hipóteses do artigo 163, parágrafo único. A qualificadora de \"violência ou grave ameaça à pessoa\" está prevista no inciso II. Já a qualificadora de \"meio cruel\" não está expressamente mencionada nesse inciso, mas a interpretação jurisprudencial e doutrinária entende que a utilização de meios que causem sofrimento desnecessário e excessivo à vítima, durante a prática do dano, pode qualificar o crime por analogia in malam partem (em desfavor do réu), embora essa interpretação seja mais controversa e menos comum.\\n\\nÉ mais comum que a violência ou grave ameaça à pessoa esteja relacionada a outros crimes, como roubo ou extorsão, nos quais o dano ao patrimônio é um meio para a consecução do crime principal.',\n",
       "  'input_hallucination_reason': 'Não há alucinação de input porque a resposta está dentro do tópico da pergunta feita pelo usuário, discutindo como o Código Penal trata o crime de dano qualificado por violências ou meios cruéis. A resposta é relevante e pertinente ao tema da pergunta.',\n",
       "  'has_input_hallucination': '0.'},\n",
       " {'question': 'Quais ações constituem o crime de extorsão?',\n",
       "  'answer': 'No Brasil, o crime de extorsão está previsto no artigo 158 do Código Penal e se configura por meio das seguintes ações:\\n\\nConstranger alguém: Essa é a ação nuclear do crime. O constrangimento significa obrigar, forçar, compelir a vítima a fazer ou deixar de fazer algo contra a sua vontade. Essa coação não precisa ser física; pode ser moral, mediante grave ameaça.\\n\\nMediante violência ou grave ameaça: A violência se refere ao emprego de força física contra a vítima. A grave ameaça consiste na promessa de um mal grave e injusto, capaz de intimidar a vítima e viciar sua vontade. Essa ameaça pode ser dirigida à própria vítima ou a pessoas a ela ligadas (familiares, amigos, etc.).\\n\\nCom o intuito de obter para si ou para outrem indevida vantagem econômica: O objetivo do agente é conseguir um benefício patrimonial ilícito. Essa vantagem pode ser dinheiro, bens, valores, direitos ou qualquer outra coisa que tenha valor econômico. O intuito de obter a vantagem indevida é essencial para caracterizar a extorsão.\\n\\nA fazer, tolerar que se faça ou deixar de fazer alguma coisa: O constrangimento exercido sobre a vítima visa a um comportamento específico:\\n\\nFazer: A vítima é obrigada a praticar um ato, como entregar dinheiro, assinar um documento, etc.\\nTolerar que se faça: A vítima é forçada a permitir que o agente ou terceiro realize alguma ação, como ocupar um imóvel, explorar um negócio, etc.\\nDeixar de fazer: A vítima é coagida a não praticar um ato, como denunciar um crime, cobrar uma dívida, etc.',\n",
       "  'input_hallucination_reason': 'Não houve alucinação de input.\\n\\nA resposta gerada está diretamente relacionada ao tema da pergunta, que é sobre as ações que constituem o crime de extorsão. A explicação detalhada das ações envolvidas no crime se ajusta perfeitamente ao contexto da pergunta e não apresenta nenhuma desviada ou irrelevante informação.',\n",
       "  'has_input_hallucination': '0.'},\n",
       " {'question': 'Como a legislação penal brasileira trata o reingresso de estrangeiro expulsos do país?',\n",
       "  'answer': 'O reingresso de estrangeiro que foi expulso do território nacional é considerado crime, previsto no artigo 338 do Código Penal: \"Reingressar no território nacional estrangeiro que dele foi expulso: Pena - detenção, de um a quatro anos, sem prejuízo da nova expulsão após o cumprimento da pena.\"',\n",
       "  'input_hallucination_reason': 'Não houve alucinação de input.\\n\\nA resposta gerada foi diretamente relacionada ao tópico da pergunta, fornecendo informações sobre a legislação penal brasileira e como ela trata o reingresso de estrangeiro expulsos do país. A resposta não \"saltou\" do tópico original ou apresentou informações desvinculadas da pergunta, caracterizando uma resposta relevante e pertinente ao assunto.',\n",
       "  'has_input_hallucination': '0.'},\n",
       " {'question': 'Quais fatores podem reduzir o prazo de prescrição do crime?',\n",
       "  'answer': 'O Código Penal prevê duas causas gerais de redução do prazo de prescrição (art. 115):\\n\\nSer o agente, ao tempo do crime, menor de 21 (vinte e um) anos: A menoridade penal, embora fixada em 18 anos para fins de imputabilidade, ainda influencia na contagem do prazo prescricional, reconhecendo uma menor maturidade do agente à época do delito.\\n\\nSer o agente, na data da sentença, maior de 70 (setenta) anos: A senilidade também é considerada um fator que justifica a redução do prazo prescricional, possivelmente em razão da maior dificuldade de persecução penal e da finalidade da pena em relação a uma pessoa idosa.\\n\\nNesses dois casos, os prazos de prescrição previstos no artigo 109 do Código Penal são reduzidos pela metade. É importante ressaltar que essas são causas gerais de redução, aplicáveis tanto à prescrição da pretensão punitiva (antes do trânsito em julgado da sentença) quanto à prescrição da pretensão executória (após o trânsito em julgado).',\n",
       "  'input_hallucination_reason': 'A resposta gerada está diretamente relacionada ao tema da pergunta, discutindo os fatores que podem reduzir o prazo de prescrição do crime, e não apresenta informações desligadas do contexto original.',\n",
       "  'has_input_hallucination': '0.'},\n",
       " {'question': 'Como o Código Penal regula o crime de sequestro e quais as penalidades relacionadas?',\n",
       "  'answer': 'O crime de sequestro e cárcere privado está previsto no artigo 148 do Código Penal: \"Privar alguém de sua liberdade, mediante sequestro ou cárcere privado: Pena - reclusão, de um a três anos.\"\\n\\nO tipo penal abrange tanto o sequestro (retenção da vítima em local diverso de sua residência ou habitual) quanto o cárcere privado (confinamento da vítima em um local fechado).\\n\\nO parágrafo 1º do artigo 148 prevê diversas causas de aumento de pena, elevando a reclusão para dois a oito anos, se:\\n\\nA vítima for ascendente, descendente, cônjuge ou companheiro do agente ou maior de 60 (sessenta) anos.\\nO crime for praticado mediante violência ou grave ameaça.\\nO crime durar mais de quinze dias.\\nO crime for praticado contra menor de 18 (dezoito) anos.\\nO crime for praticado com finalidade libidinosa.\\nO parágrafo 2º estabelece uma forma qualificada do crime, com pena de reclusão de dois a oito anos, se resultar à vítima lesão corporal de natureza grave ou morte.',\n",
       "  'input_hallucination_reason': 'Não houve alucinação de input.\\n\\nA resposta gerada está diretamente relacionada ao tópico da pergunta feita, discutindo o Código Penal e as penalidades relacionadas ao crime de sequestro. A resposta não foge do tema da pergunta e apresenta informações precisas e relevantes sobre a matéria.',\n",
       "  'has_input_hallucination': '0.'},\n",
       " {'question': 'Quais as agravantes para o homicídio qualificado, conforme o artigo do Código Penal?',\n",
       "  'answer': 'O homicídio qualificado está previsto no artigo 121, § 2º, do Código Penal. As qualificadoras, que tornam o crime mais grave e elevam a pena de reclusão de doze a trinta anos, são:\\n\\nInciso I: Mediante paga ou promessa de recompensa, ou por outro motivo torpe.\\nInciso II: Por motivo fútil.\\nInciso III: Com emprego de veneno, fogo, explosivo, asfixia, tortura ou outro meio insidioso ou cruel, ou de que possa resultar perigo comum.\\nInciso IV: À traição, de emboscada, ou mediante dissimulação ou outro recurso que dificulte ou torne impossível a defesa do ofendido.\\nInciso V: Para assegurar a execução, a ocultação, a impunidade ou vantagem de outro crime.\\nInciso VI: Contra a mulher por razões da condição de sexo feminino (feminicídio).\\nInciso VII: Contra autoridade ou agente descrito nos arts. 142 e 144 da Constituição Federal, integrantes do sistema prisional e da Força Nacional de Segurança Pública, no exercício da função ou em decorrência dela, ou contra seu cônjuge, companheiro ou parente consanguíneo até o terceiro grau, em razão dessa condição.\\nInciso VIII: Contra pessoa menor de 14 (quatorze) anos.\\nÉ importante notar que essas são as qualificadoras expressamente previstas no artigo 121, § 2º. A incidência de uma dessas qualificadoras torna o homicídio um crime hediondo, com consequências processuais e penais mais severas.',\n",
       "  'input_hallucination_reason': 'A resposta fornecida está relacionada ao conteúdo da pergunta inicial, discutindo as agravantes para o homicídio qualificado previstas no Código Penal. Portanto, não há alucinação de input.',\n",
       "  'has_input_hallucination': '0.'},\n",
       " {'question': 'Em que condições o condenado poderá exercer trabalho externo no regime fechado?',\n",
       "  'answer': 'A Lei de Execução Penal (Lei nº 7.210/84) estabelece que, em regra, o trabalho externo não é admitido para condenados em regime fechado (art. 36, § 1º).\\n\\nNo entanto, o artigo 37 da LEP traz uma exceção: o trabalho externo poderá ser autorizado a presos em regime fechado somente em serviços ou obras públicas, mediante cautelas contra a fuga e em obediência a determinados requisitos, como aptidão, disciplina e responsabilidade.',\n",
       "  'input_hallucination_reason': 'A resposta foi relevante ao tópico da pergunta e não apresentou alucinação de input, pois discutiu sobre as condições para o exercício de trabalho externo em regime fechado, que é o tema principal da pergunta.',\n",
       "  'has_input_hallucination': '0.'}]"
      ]
     },
     "execution_count": 17,
>>>>>>> Stashed changes
     "metadata": {},
     "output_type": "execute_result"
    }
   ],
   "source": [
<<<<<<< Updated upstream
    "has_hallucination_llama"
=======
    "has_hallucination_llama_gm"
>>>>>>> Stashed changes
   ]
  },
  {
   "cell_type": "code",
<<<<<<< Updated upstream
   "execution_count": 22,
=======
   "execution_count": 19,
>>>>>>> Stashed changes
   "id": "505e62ee",
   "metadata": {},
   "outputs": [
    {
     "data": {
      "text/html": [
       "<div>\n",
       "<style scoped>\n",
       "    .dataframe tbody tr th:only-of-type {\n",
       "        vertical-align: middle;\n",
       "    }\n",
       "\n",
       "    .dataframe tbody tr th {\n",
       "        vertical-align: top;\n",
       "    }\n",
       "\n",
       "    .dataframe thead th {\n",
       "        text-align: right;\n",
       "    }\n",
       "</style>\n",
       "<table border=\"1\" class=\"dataframe\">\n",
       "  <thead>\n",
       "    <tr style=\"text-align: right;\">\n",
       "      <th></th>\n",
       "      <th>question</th>\n",
       "      <th>answer</th>\n",
       "      <th>input_hallucination_reason</th>\n",
       "      <th>has_input_hallucination</th>\n",
       "    </tr>\n",
       "  </thead>\n",
       "  <tbody>\n",
       "    <tr>\n",
       "      <th>0</th>\n",
       "      <td>Como o código trata o crime de difamação quand...</td>\n",
<<<<<<< Updated upstream
       "      <td>O crime de difamação (art. 139, CP) consiste e...</td>\n",
       "      <td>Não houve alucinação de input. A resposta gera...</td>\n",
       "      <td>0.</td>\n",
=======
       "      <td>No crime de difamação (art. 139 do Código Pena...</td>\n",
       "      <td>A resposta gerada não apresenta alucinação de ...</td>\n",
       "      <td>0\\n</td>\n",
>>>>>>> Stashed changes
       "    </tr>\n",
       "    <tr>\n",
       "      <th>1</th>\n",
       "      <td>Qual a pena prevista para injúria quando há ut...</td>\n",
<<<<<<< Updated upstream
       "      <td>A injúria (art. 140, CP) é ofender a dignidade...</td>\n",
       "      <td>A resposta gerada se manteve dentro do tópico ...</td>\n",
=======
       "      <td>A injúria, prevista no artigo 140 do Código Pe...</td>\n",
       "      <td>Não houve alucinação de input porque a respost...</td>\n",
>>>>>>> Stashed changes
       "      <td>0.</td>\n",
       "    </tr>\n",
       "    <tr>\n",
       "      <th>2</th>\n",
       "      <td>Quais práticas configuram o crime de falsifica...</td>\n",
<<<<<<< Updated upstream
       "      <td>art. 297, CP\\n\\nConfigura-se quando alguém:\\n-...</td>\n",
       "      <td>A resposta gerada não apresenta alucinação de ...</td>\n",
=======
       "      <td>O artigo 297 do Código Penal tipifica o crime ...</td>\n",
       "      <td>A resposta gerada está relacionada ao tema da ...</td>\n",
>>>>>>> Stashed changes
       "      <td>0.</td>\n",
       "    </tr>\n",
       "    <tr>\n",
       "      <th>3</th>\n",
       "      <td>Como o Código Penal trata o crime de dano qual...</td>\n",
<<<<<<< Updated upstream
       "      <td>O crime de dano (art. 163, CP) torna-se qualif...</td>\n",
       "      <td>A resposta gerada está diretamente relacionada...</td>\n",
=======
       "      <td>O crime de dano simples está previsto no artig...</td>\n",
       "      <td>Não há alucinação de input porque a resposta e...</td>\n",
>>>>>>> Stashed changes
       "      <td>0.</td>\n",
       "    </tr>\n",
       "    <tr>\n",
       "      <th>4</th>\n",
       "      <td>Quais ações constituem o crime de extorsão?</td>\n",
<<<<<<< Updated upstream
       "      <td>O crime de extorsão está previsto no artigo 15...</td>\n",
       "      <td>A resposta gerada está diretamente relacionada...</td>\n",
=======
       "      <td>No Brasil, o crime de extorsão está previsto n...</td>\n",
       "      <td>Não houve alucinação de input.\\n\\nA resposta g...</td>\n",
>>>>>>> Stashed changes
       "      <td>0.</td>\n",
       "    </tr>\n",
       "    <tr>\n",
       "      <th>5</th>\n",
       "      <td>Como a legislação penal brasileira trata o rei...</td>\n",
<<<<<<< Updated upstream
       "      <td>É crime reingressar no Brasil após expulsão, s...</td>\n",
=======
       "      <td>O reingresso de estrangeiro que foi expulso do...</td>\n",
>>>>>>> Stashed changes
       "      <td>Não houve alucinação de input.\\n\\nA resposta g...</td>\n",
       "      <td>0.</td>\n",
       "    </tr>\n",
       "    <tr>\n",
       "      <th>6</th>\n",
       "      <td>Quais fatores podem reduzir o prazo de prescri...</td>\n",
<<<<<<< Updated upstream
       "      <td>O prazo prescricional pode ser reduzido se:\\n\\...</td>\n",
       "      <td>A resposta gerada é relevante e está diretamen...</td>\n",
=======
       "      <td>O Código Penal prevê duas causas gerais de red...</td>\n",
       "      <td>A resposta gerada está diretamente relacionada...</td>\n",
>>>>>>> Stashed changes
       "      <td>0.</td>\n",
       "    </tr>\n",
       "    <tr>\n",
       "      <th>7</th>\n",
       "      <td>Como o Código Penal regula o crime de sequestr...</td>\n",
<<<<<<< Updated upstream
       "      <td>Sequestro (art. 148, CP)\\n\\nDefinição: Privar ...</td>\n",
=======
       "      <td>O crime de sequestro e cárcere privado está pr...</td>\n",
>>>>>>> Stashed changes
       "      <td>Não houve alucinação de input.\\n\\nA resposta g...</td>\n",
       "      <td>0.</td>\n",
       "    </tr>\n",
       "    <tr>\n",
       "      <th>8</th>\n",
       "      <td>Quais as agravantes para o homicídio qualifica...</td>\n",
<<<<<<< Updated upstream
       "      <td>Homicídio qualificado (art. 121, §2º, CP)\\n\\nS...</td>\n",
       "      <td>A resposta gerada está diretamente relacionada...</td>\n",
=======
       "      <td>O homicídio qualificado está previsto no artig...</td>\n",
       "      <td>A resposta fornecida está relacionada ao conte...</td>\n",
>>>>>>> Stashed changes
       "      <td>0.</td>\n",
       "    </tr>\n",
       "    <tr>\n",
       "      <th>9</th>\n",
       "      <td>Em que condições o condenado poderá exercer tr...</td>\n",
<<<<<<< Updated upstream
       "      <td>O condenado em regime fechado pode trabalhar e...</td>\n",
       "      <td>Explicação: A resposta gerada está diretamente...</td>\n",
=======
       "      <td>A Lei de Execução Penal (Lei nº 7.210/84) esta...</td>\n",
       "      <td>A resposta foi relevante ao tópico da pergunta...</td>\n",
>>>>>>> Stashed changes
       "      <td>0.</td>\n",
       "    </tr>\n",
       "  </tbody>\n",
       "</table>\n",
       "</div>"
      ],
      "text/plain": [
       "                                            question  \\\n",
       "0  Como o código trata o crime de difamação quand...   \n",
       "1  Qual a pena prevista para injúria quando há ut...   \n",
       "2  Quais práticas configuram o crime de falsifica...   \n",
       "3  Como o Código Penal trata o crime de dano qual...   \n",
       "4        Quais ações constituem o crime de extorsão?   \n",
       "5  Como a legislação penal brasileira trata o rei...   \n",
       "6  Quais fatores podem reduzir o prazo de prescri...   \n",
       "7  Como o Código Penal regula o crime de sequestr...   \n",
       "8  Quais as agravantes para o homicídio qualifica...   \n",
       "9  Em que condições o condenado poderá exercer tr...   \n",
       "\n",
       "                                              answer  \\\n",
<<<<<<< Updated upstream
       "0  O crime de difamação (art. 139, CP) consiste e...   \n",
       "1  A injúria (art. 140, CP) é ofender a dignidade...   \n",
       "2  art. 297, CP\\n\\nConfigura-se quando alguém:\\n-...   \n",
       "3  O crime de dano (art. 163, CP) torna-se qualif...   \n",
       "4  O crime de extorsão está previsto no artigo 15...   \n",
       "5  É crime reingressar no Brasil após expulsão, s...   \n",
       "6  O prazo prescricional pode ser reduzido se:\\n\\...   \n",
       "7  Sequestro (art. 148, CP)\\n\\nDefinição: Privar ...   \n",
       "8  Homicídio qualificado (art. 121, §2º, CP)\\n\\nS...   \n",
       "9  O condenado em regime fechado pode trabalhar e...   \n",
       "\n",
       "                          input_hallucination_reason has_input_hallucination  \n",
       "0  Não houve alucinação de input. A resposta gera...                      0.  \n",
       "1  A resposta gerada se manteve dentro do tópico ...                      0.  \n",
       "2  A resposta gerada não apresenta alucinação de ...                      0.  \n",
       "3  A resposta gerada está diretamente relacionada...                      0.  \n",
       "4  A resposta gerada está diretamente relacionada...                      0.  \n",
       "5  Não houve alucinação de input.\\n\\nA resposta g...                      0.  \n",
       "6  A resposta gerada é relevante e está diretamen...                      0.  \n",
       "7  Não houve alucinação de input.\\n\\nA resposta g...                      0.  \n",
       "8  A resposta gerada está diretamente relacionada...                      0.  \n",
       "9  Explicação: A resposta gerada está diretamente...                      0.  "
      ]
     },
     "execution_count": 22,
=======
       "0  No crime de difamação (art. 139 do Código Pena...   \n",
       "1  A injúria, prevista no artigo 140 do Código Pe...   \n",
       "2  O artigo 297 do Código Penal tipifica o crime ...   \n",
       "3  O crime de dano simples está previsto no artig...   \n",
       "4  No Brasil, o crime de extorsão está previsto n...   \n",
       "5  O reingresso de estrangeiro que foi expulso do...   \n",
       "6  O Código Penal prevê duas causas gerais de red...   \n",
       "7  O crime de sequestro e cárcere privado está pr...   \n",
       "8  O homicídio qualificado está previsto no artig...   \n",
       "9  A Lei de Execução Penal (Lei nº 7.210/84) esta...   \n",
       "\n",
       "                          input_hallucination_reason has_input_hallucination  \n",
       "0  A resposta gerada não apresenta alucinação de ...                     0\\n  \n",
       "1  Não houve alucinação de input porque a respost...                      0.  \n",
       "2  A resposta gerada está relacionada ao tema da ...                      0.  \n",
       "3  Não há alucinação de input porque a resposta e...                      0.  \n",
       "4  Não houve alucinação de input.\\n\\nA resposta g...                      0.  \n",
       "5  Não houve alucinação de input.\\n\\nA resposta g...                      0.  \n",
       "6  A resposta gerada está diretamente relacionada...                      0.  \n",
       "7  Não houve alucinação de input.\\n\\nA resposta g...                      0.  \n",
       "8  A resposta fornecida está relacionada ao conte...                      0.  \n",
       "9  A resposta foi relevante ao tópico da pergunta...                      0.  "
      ]
     },
     "execution_count": 19,
>>>>>>> Stashed changes
     "metadata": {},
     "output_type": "execute_result"
    }
   ],
   "source": [
<<<<<<< Updated upstream
    "df_input_veredict_llama_ds = pd.DataFrame(has_hallucination_llama)\n",
    "\n",
    "df_input_veredict_llama_ds"
=======
    "df_input_veredict_llama_gm = pd.DataFrame(has_hallucination_llama_gm)\n",
    "df_input_veredict_llama_gm"
   ]
  },
  {
   "cell_type": "code",
   "execution_count": 20,
   "id": "ab69f073",
   "metadata": {},
   "outputs": [],
   "source": [
    "df_input_veredict_llama_gm.to_csv(\"llm-output/input_hallucination_gemini_llama.csv\")"
   ]
  },
  {
   "cell_type": "markdown",
   "id": "bc39a2da",
   "metadata": {},
   "source": [
    "### GPT"
   ]
  },
  {
   "cell_type": "code",
   "execution_count": 29,
   "id": "f361beb1",
   "metadata": {},
   "outputs": [],
   "source": [
    "def txt_processing_gpt(answer_platform):\n",
    "    for i in answer_platform:\n",
    "        gpt_content = i[\"input_hallucination_reason\"].content\n",
    "\n",
    "        if gpt_content:\n",
    "            has_input_hallucination = re.match(r\"^([01])[.\\s]\", gpt_content)\n",
    "            i[\"input_hallucination_reason\"] = re.sub(r\"content='.*.'|^[01]\\.?\\s*\", \"\", gpt_content.strip())\n",
    "\n",
    "            i[\"has_input_hallucination\"] = has_input_hallucination[0]"
>>>>>>> Stashed changes
   ]
  },
  {
   "cell_type": "code",
<<<<<<< Updated upstream
   "execution_count": 23,
   "id": "ab69f073",
   "metadata": {},
   "outputs": [],
   "source": [
    "df_input_veredict_llama_ds.to_csv(\"llm-output/input_hallucination_deepseek_llama.csv\")"
=======
   "execution_count": 30,
   "id": "91d7461a",
   "metadata": {},
   "outputs": [],
   "source": [
    "has_hallucination_gpt_ds = []\n",
    "has_hallucination_gpt_gm = []"
>>>>>>> Stashed changes
   ]
  },
  {
   "cell_type": "markdown",
<<<<<<< Updated upstream
   "id": "e3bb5d17",
=======
   "id": "f258da37",
   "metadata": {},
   "source": [
    "#### DeepSeek"
   ]
  },
  {
   "cell_type": "code",
   "execution_count": null,
   "id": "2317e818",
   "metadata": {},
   "outputs": [],
   "source": [
    "input_hallu = answerer(df_deepseek_answers, model_gpt, has_hallucination_gpt_ds)\n",
    "\n",
    "txt_processing_gpt(has_hallucination_gpt_ds)"
   ]
  },
  {
   "cell_type": "code",
   "execution_count": 32,
   "id": "1c232978",
   "metadata": {},
   "outputs": [
    {
     "data": {
      "text/plain": [
       "[{'question': 'Como o código trata o crime de difamação quando há a eventual prova da verdade?',\n",
       "  'answer': 'O crime de difamação (art. 139, CP) consiste em atribuir a alguém fato ofensivo à sua reputação.\\n\\nProva da verdade: Se o acusado provar a veracidade do fato difamatório, a conduta será atípica (não constitui crime), exceto se:\\n\\nO fato se referir à vida privada da vítima;\\n\\nA divulgação for desnecessária ou motivada por malícia (art. 140, §1º, CP).',\n",
       "  'input_hallucination_reason': 'A resposta está diretamente relacionada ao tratamento do crime de difamação no código penal, explicando corretamente a questão da prova da verdade. Portanto, não houve alucinação de input.',\n",
       "  'has_input_hallucination': '0 '},\n",
       " {'question': 'Qual a pena prevista para injúria quando há utilização de elementos referentes à religião ou condição de pessoa idosa ou com deficiência?',\n",
       "  'answer': 'A injúria (art. 140, CP) é ofender a dignidade de alguém.\\n\\nQualificadora: \\nSe a injúria utilizar elementos referentes a:\\n- Religião;\\n- Condição de pessoa idosa (60+ anos);\\n- Pessoa com deficiência.\\n\\nPena: Reclusão de 1 a 3 anos + multa (art. 140, §3º, CP).',\n",
       "  'input_hallucination_reason': 'Houve resposta direta e pertinente à pergunta sobre a pena prevista para injúria qualificada por elementos de religião, idade ou deficiência, sem desviar do tema solicitado. Portanto, não houve alucinação de input.',\n",
       "  'has_input_hallucination': '0 '},\n",
       " {'question': 'Quais práticas configuram o crime de falsificação de documento público?',\n",
       "  'answer': 'art. 297, CP\\n\\nConfigura-se quando alguém:\\n- Falsifica (altera, fabrica ou modifica) documento público;\\n- Usa documento público falso sabendo que é falso;\\n- Omite declaração que deveria constar em documento público.\\n\\nPena: Reclusão de 2 a 6 anos + multa',\n",
       "  'input_hallucination_reason': 'Não houve alucinação de input porque a resposta está diretamente relacionada ao tema da pergunta sobre as práticas que configuram o crime de falsificação de documento público, citando o artigo do Código Penal e detalhando as ações que caracterizam o crime, além da pena correspondente.',\n",
       "  'has_input_hallucination': '0.'},\n",
       " {'question': 'Como o Código Penal trata o crime de dano qualificado por violências ou meios cruéis?',\n",
       "  'answer': 'O crime de dano (art. 163, CP) torna-se qualificado se cometido:\\n\\n- Com violência (contra pessoa ou coisa);\\n- Com meios cruéis (causando sofrimento desnecessário).\\n\\nPena: Reclusão de 1 a 4 anos + multa (art. 163, §1º, CP).',\n",
       "  'input_hallucination_reason': 'Não houve alucinação de input, pois a resposta está diretamente relacionada ao tratamento do Código Penal sobre o crime de dano qualificado por violências ou meios cruéis, conforme solicitado na pergunta.',\n",
       "  'has_input_hallucination': '0.'},\n",
       " {'question': 'Quais ações constituem o crime de extorsão?',\n",
       "  'answer': 'O crime de extorsão está previsto no artigo 158 do Código Penal Brasileiro e consiste em obter vantagem econômica ou qualquer outro benefício ilegítimo mediante violência, grave ameaça ou depois de reduzir a vítima à impossibilidade de resistência.\\n\\nElementos que configuram a extorsão (art. 158, CP)\\nConduta do agente:\\n- Exigir vantagem indevida (dinheiro, bens, serviços, assinatura de documento, etc.);\\n- Utilizar meios coercitivos:\\n- Violência (física ou psicológica);\\n- Grave ameaça (promessa de mal futuro e inevitável, como morte, sequestro, destruição de patrimônio);\\n- Reduzir a vítima à impossibilidade de resistir (ex.: dopagem, embriaguez forçada).\\n- Finalidade: Obter proveito econômico ou benefício ilegítimo para si ou para outrem.Afetam coletividade indeterminada (ex.: incêndio, explosão – art. 250, CP).       \\n- Bem jurídico: segurança coletiva.\\n- Crimes de Perigo Resultante\\n- Afetam indivíduos específicos, mas o perigo é elemento do crime (ex.: dirigir embriagado – art. 306, CTB).\\n- Bem jurídico: vida/integridade de pessoa(s) determinada(s).\\n',\n",
       "  'input_hallucination_reason': 'Não houve alucinação de input porque a resposta está diretamente relacionada à pergunta sobre as ações que constituem o crime de extorsão, detalhando os elementos legais e condutas envolvidas nesse crime.',\n",
       "  'has_input_hallucination': '0.'},\n",
       " {'question': 'Como a legislação penal brasileira trata o reingresso de estrangeiro expulsos do país?',\n",
       "  'answer': 'É crime reingressar no Brasil após expulsão, sem autorização.\\nPena: Reclusão de 1 a 4 anos (além de nova expulsão).',\n",
       "  'input_hallucination_reason': 'Houve coerência entre a pergunta sobre a legislação penal brasileira referente ao reingresso de estrangeiros expulsos do país e a resposta fornecida, que tratou exatamente desse tema, mencionando a criminalidade do ato e a pena correspondente. Portanto, não houve alucinação de input.',\n",
       "  'has_input_hallucination': '0 '},\n",
       " {'question': 'Quais fatores podem reduzir o prazo de prescrição do crime?',\n",
       "  'answer': 'O prazo prescricional pode ser reduzido se:\\n\\nO agente for réu primário (não tem condenações anteriores);\\nO crime for de menor potencial ofensivo (Lei nº 9.099/95);\\nHouver circunstâncias atenuantes (art. 110, CP).',\n",
       "  'input_hallucination_reason': 'Não houve alucinação de input, pois a resposta está diretamente relacionada à pergunta sobre fatores que podem reduzir o prazo de prescrição do crime, fornecendo informações pertinentes e específicas ao tema.',\n",
       "  'has_input_hallucination': '0.'},\n",
       " {'question': 'Como o Código Penal regula o crime de sequestro e quais as penalidades relacionadas?',\n",
       "  'answer': 'Sequestro (art. 148, CP)\\n\\nDefinição: Privar alguém de sua liberdade por meio de:\\n- Violência;\\n- Ameaça;\\n- Fraude.\\n\\nPena: Reclusão de 1 a 3 anos (se não houver agravantes).\\n\\n- Agravantes (aumentam a pena):\\n- Sequestro por mais de 24h;\\n- Vítima menor de 18 anos ou idosa;\\n- Extorsão como motivação.',\n",
       "  'input_hallucination_reason': 'Não houve alucinação de input, pois a resposta está diretamente relacionada à pergunta feita, explicando como o Código Penal regula o crime de sequestro e indicando as penalidades correspondentes, incluindo definições, penas e agravantes.',\n",
       "  'has_input_hallucination': '0.'},\n",
       " {'question': 'Quais as agravantes para o homicídio qualificado, conforme o artigo do Código Penal?',\n",
       "  'answer': 'Homicídio qualificado (art. 121, §2º, CP)\\n\\nSão agravantes (motivos ou meios que tornam o crime mais grave):\\n- Motivo torpe (futilidade, ganho financeiro);\\n- Motivo fútil (banal);\\n- Meios cruéis (sofrimento desnecessário);\\n- Emboscada (lugar oculto);\\n- Incêndio, explosivo ou veneno;\\n- Contra vítima menor de 14 ou maior de 60 anos.',\n",
       "  'input_hallucination_reason': 'Não houve alucinação de input, pois a resposta está diretamente relacionada à pergunta sobre os agravantes para o homicídio qualificado conforme o artigo do Código Penal, listando os motivos e circunstâncias que configuram tais agravantes.',\n",
       "  'has_input_hallucination': '0.'},\n",
       " {'question': 'Em que condições o condenado poderá exercer trabalho externo no regime fechado?',\n",
       "  'answer': 'O condenado em regime fechado pode trabalhar externamente se:\\n- Cumpre 1/6 da pena (se primário) ou 1/4 (se reincidente);\\n- Comportamento adequado;\\n- Trabalho compatível com a execução penal;\\n- Autorização judicial.',\n",
       "  'input_hallucination_reason': 'A resposta está totalmente alinhada à pergunta sobre as condições para o condenado exercer trabalho externo no regime fechado, atendendo ao tópico solicitado sem desviar do assunto. Portanto, não há alucinação de input.',\n",
       "  'has_input_hallucination': '0 '}]"
      ]
     },
     "execution_count": 32,
     "metadata": {},
     "output_type": "execute_result"
    }
   ],
   "source": [
    "has_hallucination_gpt_ds"
   ]
  },
  {
   "cell_type": "code",
   "execution_count": 39,
   "id": "2fe7daf4",
   "metadata": {},
   "outputs": [
    {
     "data": {
      "text/html": [
       "<div>\n",
       "<style scoped>\n",
       "    .dataframe tbody tr th:only-of-type {\n",
       "        vertical-align: middle;\n",
       "    }\n",
       "\n",
       "    .dataframe tbody tr th {\n",
       "        vertical-align: top;\n",
       "    }\n",
       "\n",
       "    .dataframe thead th {\n",
       "        text-align: right;\n",
       "    }\n",
       "</style>\n",
       "<table border=\"1\" class=\"dataframe\">\n",
       "  <thead>\n",
       "    <tr style=\"text-align: right;\">\n",
       "      <th></th>\n",
       "      <th>question</th>\n",
       "      <th>answer</th>\n",
       "      <th>input_hallucination_reason</th>\n",
       "      <th>has_input_hallucination</th>\n",
       "    </tr>\n",
       "  </thead>\n",
       "  <tbody>\n",
       "    <tr>\n",
       "      <th>0</th>\n",
       "      <td>Como o código trata o crime de difamação quand...</td>\n",
       "      <td>O crime de difamação (art. 139, CP) consiste e...</td>\n",
       "      <td>A resposta está diretamente relacionada ao tra...</td>\n",
       "      <td>0</td>\n",
       "    </tr>\n",
       "    <tr>\n",
       "      <th>1</th>\n",
       "      <td>Qual a pena prevista para injúria quando há ut...</td>\n",
       "      <td>A injúria (art. 140, CP) é ofender a dignidade...</td>\n",
       "      <td>Houve resposta direta e pertinente à pergunta ...</td>\n",
       "      <td>0</td>\n",
       "    </tr>\n",
       "    <tr>\n",
       "      <th>2</th>\n",
       "      <td>Quais práticas configuram o crime de falsifica...</td>\n",
       "      <td>art. 297, CP\\n\\nConfigura-se quando alguém:\\n-...</td>\n",
       "      <td>Não houve alucinação de input porque a respost...</td>\n",
       "      <td>0.</td>\n",
       "    </tr>\n",
       "    <tr>\n",
       "      <th>3</th>\n",
       "      <td>Como o Código Penal trata o crime de dano qual...</td>\n",
       "      <td>O crime de dano (art. 163, CP) torna-se qualif...</td>\n",
       "      <td>Não houve alucinação de input, pois a resposta...</td>\n",
       "      <td>0.</td>\n",
       "    </tr>\n",
       "    <tr>\n",
       "      <th>4</th>\n",
       "      <td>Quais ações constituem o crime de extorsão?</td>\n",
       "      <td>O crime de extorsão está previsto no artigo 15...</td>\n",
       "      <td>Não houve alucinação de input porque a respost...</td>\n",
       "      <td>0.</td>\n",
       "    </tr>\n",
       "    <tr>\n",
       "      <th>5</th>\n",
       "      <td>Como a legislação penal brasileira trata o rei...</td>\n",
       "      <td>É crime reingressar no Brasil após expulsão, s...</td>\n",
       "      <td>Houve coerência entre a pergunta sobre a legis...</td>\n",
       "      <td>0</td>\n",
       "    </tr>\n",
       "    <tr>\n",
       "      <th>6</th>\n",
       "      <td>Quais fatores podem reduzir o prazo de prescri...</td>\n",
       "      <td>O prazo prescricional pode ser reduzido se:\\n\\...</td>\n",
       "      <td>Não houve alucinação de input, pois a resposta...</td>\n",
       "      <td>0.</td>\n",
       "    </tr>\n",
       "    <tr>\n",
       "      <th>7</th>\n",
       "      <td>Como o Código Penal regula o crime de sequestr...</td>\n",
       "      <td>Sequestro (art. 148, CP)\\n\\nDefinição: Privar ...</td>\n",
       "      <td>Não houve alucinação de input, pois a resposta...</td>\n",
       "      <td>0.</td>\n",
       "    </tr>\n",
       "    <tr>\n",
       "      <th>8</th>\n",
       "      <td>Quais as agravantes para o homicídio qualifica...</td>\n",
       "      <td>Homicídio qualificado (art. 121, §2º, CP)\\n\\nS...</td>\n",
       "      <td>Não houve alucinação de input, pois a resposta...</td>\n",
       "      <td>0.</td>\n",
       "    </tr>\n",
       "    <tr>\n",
       "      <th>9</th>\n",
       "      <td>Em que condições o condenado poderá exercer tr...</td>\n",
       "      <td>O condenado em regime fechado pode trabalhar e...</td>\n",
       "      <td>A resposta está totalmente alinhada à pergunta...</td>\n",
       "      <td>0</td>\n",
       "    </tr>\n",
       "  </tbody>\n",
       "</table>\n",
       "</div>"
      ],
      "text/plain": [
       "                                            question  \\\n",
       "0  Como o código trata o crime de difamação quand...   \n",
       "1  Qual a pena prevista para injúria quando há ut...   \n",
       "2  Quais práticas configuram o crime de falsifica...   \n",
       "3  Como o Código Penal trata o crime de dano qual...   \n",
       "4        Quais ações constituem o crime de extorsão?   \n",
       "5  Como a legislação penal brasileira trata o rei...   \n",
       "6  Quais fatores podem reduzir o prazo de prescri...   \n",
       "7  Como o Código Penal regula o crime de sequestr...   \n",
       "8  Quais as agravantes para o homicídio qualifica...   \n",
       "9  Em que condições o condenado poderá exercer tr...   \n",
       "\n",
       "                                              answer  \\\n",
       "0  O crime de difamação (art. 139, CP) consiste e...   \n",
       "1  A injúria (art. 140, CP) é ofender a dignidade...   \n",
       "2  art. 297, CP\\n\\nConfigura-se quando alguém:\\n-...   \n",
       "3  O crime de dano (art. 163, CP) torna-se qualif...   \n",
       "4  O crime de extorsão está previsto no artigo 15...   \n",
       "5  É crime reingressar no Brasil após expulsão, s...   \n",
       "6  O prazo prescricional pode ser reduzido se:\\n\\...   \n",
       "7  Sequestro (art. 148, CP)\\n\\nDefinição: Privar ...   \n",
       "8  Homicídio qualificado (art. 121, §2º, CP)\\n\\nS...   \n",
       "9  O condenado em regime fechado pode trabalhar e...   \n",
       "\n",
       "                          input_hallucination_reason has_input_hallucination  \n",
       "0  A resposta está diretamente relacionada ao tra...                      0   \n",
       "1  Houve resposta direta e pertinente à pergunta ...                      0   \n",
       "2  Não houve alucinação de input porque a respost...                      0.  \n",
       "3  Não houve alucinação de input, pois a resposta...                      0.  \n",
       "4  Não houve alucinação de input porque a respost...                      0.  \n",
       "5  Houve coerência entre a pergunta sobre a legis...                      0   \n",
       "6  Não houve alucinação de input, pois a resposta...                      0.  \n",
       "7  Não houve alucinação de input, pois a resposta...                      0.  \n",
       "8  Não houve alucinação de input, pois a resposta...                      0.  \n",
       "9  A resposta está totalmente alinhada à pergunta...                      0   "
      ]
     },
     "execution_count": 39,
     "metadata": {},
     "output_type": "execute_result"
    }
   ],
   "source": [
    "df_input_veredict_gpt_ds = pd.DataFrame(has_hallucination_gpt_ds)\n",
    "df_input_veredict_gpt_ds"
   ]
  },
  {
   "cell_type": "code",
   "execution_count": 40,
   "id": "ed847763",
   "metadata": {},
   "outputs": [],
   "source": [
    "df_input_veredict_gpt_ds.to_csv(\"llm-output/input_hallucination_deepseek_gpt.csv\")"
   ]
  },
  {
   "cell_type": "markdown",
   "id": "4da12494",
>>>>>>> Stashed changes
   "metadata": {},
   "source": [
    "#### Gemini"
   ]
  },
  {
   "cell_type": "code",
<<<<<<< Updated upstream
   "execution_count": 27,
   "id": "de77f847",
   "metadata": {},
   "outputs": [
    {
     "name": "stdout",
     "output_type": "stream",
     "text": [
      "0.\n",
      "\n",
      "A resposta gerada está dentro do tópico da pergunta feita pelo usuário, discutindo o tratamento do crime de difamação no Código Penal e as exceções. A discussão é relevante e não sai do tema original, portanto, não há alucinação de input.\n",
      "0. Não houve alucinação de input porque a resposta está diretamente relacionada ao tópico da pergunta, fornecendo informações sobre a pena prevista para injúria quando há utilização de elementos referentes à religião ou condição de pessoa idosa ou com deficiência.\n",
      "0. A resposta gerada está relacionada ao tópico da pergunta, tratando especificamente do crime de falsificação de documento público e suas configurações legais. Portanto, não há alucinação de input.\n",
      "0. A resposta não apresentou alucinação de input, pois respondeu diretamente à pergunta feita sobre como o Código Penal trata o crime de dano qualificado por violências ou meios cruéis, discutindo os artigos e interpretações aplicáveis ao tema.\n",
      "0. Não houve alucinação de input.\n",
      "\n",
      "A resposta gerada está relacionada ao tema da pergunta \"Quais ações constituem o crime de extorsão?\", que é um tópico jurídico e legista. A resposta fornece informações precisas sobre as ações que configuram o crime de extorsão no Código Penal Brasileiro, o que está diretamente relacionado ao tema da pergunta.\n",
      "0. A resposta gerada está relacionada ao tópico da pergunta feita e não foge do tema da legislação penal brasileira. Portanto, não há alucinação de input.\n",
      "0. Não há alucinação de input porque a resposta está diretamente relacionada ao tópico da pergunta, que é sobre fatores que podem reduzir o prazo de prescrição do crime. A resposta fornece informações específicas sobre as causas gerais de redução previstas no Código Penal, que estão ligadas à pergunta original.\n",
      "0. A resposta gerada está diretamente relacionada ao tópico da pergunta feita pelo usuário, portanto não há alucinação de input. A resposta fornece informações precisas sobre o Código Penal e suas penalidades relacionadas ao crime de sequestro, o que é coerente com a pergunta feita.\n",
      "0. Não houve alucinação de input. A resposta gerada é relevante e relacionada ao tópico da pergunta, fornecendo informações precisas sobre as agravantes para o homicídio qualificado, como previsto no Código Penal.\n",
      "0. Não houve alucinação de input.\n",
      "\n",
      "A resposta gerada está diretamente relacionada ao tópico da pergunta feita (\"Em que condições o condenado poderá exercer trabalho externo no regime fechado?\"), apresentando informações relevantes e precisas sobre a Lei de Execução Penal (Lei nº 7.210/84) e seus artigos. A resposta não foge do tópico da pergunta, portanto, não há alucinação de input.\n"
     ]
    }
   ],
   "source": [
    "for index, row in df_gemini_answers.iterrows():\n",
    "    question = row['Pergunta']\n",
    "    answer = row['Resposta']\n",
    "    input_hallucination_llm = has_input_hallucination_llm(question, answer, model_llama)\n",
    "    \n",
    "    has_hallucination_llama.append({\"question\":question, \"answer\":answer, \"input_hallucination_reason\":input_hallucination_llm})\n",
    "    print(input_hallucination_llm)"
   ]
  },
  {
   "cell_type": "code",
   "execution_count": 28,
   "id": "ab6a2b18",
   "metadata": {},
   "outputs": [],
   "source": [
    "for i in has_hallucination_llama:\n",
    "    llama_content = i[\"input_hallucination_reason\"]\n",
    "\n",
    "    if llama_content:\n",
    "        has_input_hallucination = re.match(r\"^([01])[.\\s]\", llama_content)\n",
    "        i[\"input_hallucination_reason\"] = re.sub(r\"^[01]\\.?\\s*\", \"\", llama_content.strip())\n",
    "\n",
    "        i[\"has_input_hallucination\"] = has_input_hallucination[0]"
=======
   "execution_count": null,
   "id": "1e08c47a",
   "metadata": {},
   "outputs": [],
   "source": [
    "input_hallu = answerer(df_gemini_answers, model_gpt, has_hallucination_gpt_gm)\n",
    "\n",
    "txt_processing_gpt(has_hallucination_gpt_gm)"
>>>>>>> Stashed changes
   ]
  },
  {
   "cell_type": "code",
<<<<<<< Updated upstream
   "execution_count": 29,
   "id": "27f118b8",
=======
   "execution_count": 35,
   "id": "714c85d0",
>>>>>>> Stashed changes
   "metadata": {},
   "outputs": [
    {
     "data": {
      "text/plain": [
       "[{'question': 'Como o código trata o crime de difamação quando há a eventual prova da verdade?',\n",
       "  'answer': 'No crime de difamação (art. 139 do Código Penal), a prova da verdade da imputação (chamada exceptio veritatis) geralmente não é admitida. Isso porque o bem jurídico protegido é a honra objetiva da pessoa, ou seja, a reputação perante terceiros. Mesmo que o fato difamatório seja verdadeiro, a sua divulgação pode ser considerada lesiva à reputação.\\n\\nNo entanto, o § 3º do artigo 139 traz uma exceção: a prova da verdade é admitida se a imputação se referir a fato de que o ofendido foi processado e absolvido judicialmente. Nesse caso específico, demonstrar a verdade da acusação original pode ser relevante.',\n",
<<<<<<< Updated upstream
       "  'input_hallucination_reason': 'A resposta gerada está dentro do tópico da pergunta feita pelo usuário, discutindo o tratamento do crime de difamação no Código Penal e as exceções. A discussão é relevante e não sai do tema original, portanto, não há alucinação de input.',\n",
       "  'has_input_hallucination': '0.'},\n",
       " {'question': 'Qual a pena prevista para injúria quando há utilização de elementos referentes à religião ou condição de pessoa idosa ou com deficiência?',\n",
       "  'answer': 'A injúria, prevista no artigo 140 do Código Penal, tem como pena base a detenção de um a seis meses ou multa. No entanto, o § 3º do mesmo artigo estabelece uma qualificadora para a injúria quando utilizada \"elementos referentes a religião ou à condição de pessoa idosa ou com deficiência\".',\n",
       "  'input_hallucination_reason': 'Não houve alucinação de input porque a resposta está diretamente relacionada ao tópico da pergunta, fornecendo informações sobre a pena prevista para injúria quando há utilização de elementos referentes à religião ou condição de pessoa idosa ou com deficiência.',\n",
       "  'has_input_hallucination': '0.'},\n",
       " {'question': 'Quais práticas configuram o crime de falsificação de documento público?',\n",
       "  'answer': 'O artigo 297 do Código Penal tipifica o crime de falsificação de documento público. As principais condutas que o configuram são:\\n\\nFabricar integralmente documento público falso.\\nAlterar documento público verdadeiro.\\nInserir em documento público verdadeiro declaração falsa ou diversa da que deveria ser escrita, com o fim de prejudicar direito, criar obrigação ou alterar a verdade sobre fato juridicamente relevante.\\nSuprimir ou ocultar, em documento público verdadeiro, qualquer dado ou informação que devia constar.\\nUsar qualquer dos documentos falsificados ou alterados, sabendo da falsidade ou alteração.\\nFalsificar passaporte, folha de identificação ou documento de viagem, ou deles fazer uso.\\nPara a configuração do crime, é essencial a intenção de prejudicar direito, criar obrigação ou alterar a verdade sobre fato juridicamente relevante.',\n",
       "  'input_hallucination_reason': 'A resposta gerada está relacionada ao tópico da pergunta, tratando especificamente do crime de falsificação de documento público e suas configurações legais. Portanto, não há alucinação de input.',\n",
       "  'has_input_hallucination': '0.'},\n",
       " {'question': 'Como o Código Penal trata o crime de dano qualificado por violências ou meios cruéis?',\n",
       "  'answer': 'O crime de dano simples está previsto no artigo 163 do Código Penal. O dano se torna qualificado, com pena mais severa, quando ocorre alguma das hipóteses do artigo 163, parágrafo único. A qualificadora de \"violência ou grave ameaça à pessoa\" está prevista no inciso II. Já a qualificadora de \"meio cruel\" não está expressamente mencionada nesse inciso, mas a interpretação jurisprudencial e doutrinária entende que a utilização de meios que causem sofrimento desnecessário e excessivo à vítima, durante a prática do dano, pode qualificar o crime por analogia in malam partem (em desfavor do réu), embora essa interpretação seja mais controversa e menos comum.\\n\\nÉ mais comum que a violência ou grave ameaça à pessoa esteja relacionada a outros crimes, como roubo ou extorsão, nos quais o dano ao patrimônio é um meio para a consecução do crime principal.',\n",
       "  'input_hallucination_reason': 'A resposta não apresentou alucinação de input, pois respondeu diretamente à pergunta feita sobre como o Código Penal trata o crime de dano qualificado por violências ou meios cruéis, discutindo os artigos e interpretações aplicáveis ao tema.',\n",
       "  'has_input_hallucination': '0.'},\n",
       " {'question': 'Quais ações constituem o crime de extorsão?',\n",
       "  'answer': 'No Brasil, o crime de extorsão está previsto no artigo 158 do Código Penal e se configura por meio das seguintes ações:\\n\\nConstranger alguém: Essa é a ação nuclear do crime. O constrangimento significa obrigar, forçar, compelir a vítima a fazer ou deixar de fazer algo contra a sua vontade. Essa coação não precisa ser física; pode ser moral, mediante grave ameaça.\\n\\nMediante violência ou grave ameaça: A violência se refere ao emprego de força física contra a vítima. A grave ameaça consiste na promessa de um mal grave e injusto, capaz de intimidar a vítima e viciar sua vontade. Essa ameaça pode ser dirigida à própria vítima ou a pessoas a ela ligadas (familiares, amigos, etc.).\\n\\nCom o intuito de obter para si ou para outrem indevida vantagem econômica: O objetivo do agente é conseguir um benefício patrimonial ilícito. Essa vantagem pode ser dinheiro, bens, valores, direitos ou qualquer outra coisa que tenha valor econômico. O intuito de obter a vantagem indevida é essencial para caracterizar a extorsão.\\n\\nA fazer, tolerar que se faça ou deixar de fazer alguma coisa: O constrangimento exercido sobre a vítima visa a um comportamento específico:\\n\\nFazer: A vítima é obrigada a praticar um ato, como entregar dinheiro, assinar um documento, etc.\\nTolerar que se faça: A vítima é forçada a permitir que o agente ou terceiro realize alguma ação, como ocupar um imóvel, explorar um negócio, etc.\\nDeixar de fazer: A vítima é coagida a não praticar um ato, como denunciar um crime, cobrar uma dívida, etc.',\n",
       "  'input_hallucination_reason': 'Não houve alucinação de input.\\n\\nA resposta gerada está relacionada ao tema da pergunta \"Quais ações constituem o crime de extorsão?\", que é um tópico jurídico e legista. A resposta fornece informações precisas sobre as ações que configuram o crime de extorsão no Código Penal Brasileiro, o que está diretamente relacionado ao tema da pergunta.',\n",
       "  'has_input_hallucination': '0.'},\n",
       " {'question': 'Como a legislação penal brasileira trata o reingresso de estrangeiro expulsos do país?',\n",
       "  'answer': 'O reingresso de estrangeiro que foi expulso do território nacional é considerado crime, previsto no artigo 338 do Código Penal: \"Reingressar no território nacional estrangeiro que dele foi expulso: Pena - detenção, de um a quatro anos, sem prejuízo da nova expulsão após o cumprimento da pena.\"',\n",
       "  'input_hallucination_reason': 'A resposta gerada está relacionada ao tópico da pergunta feita e não foge do tema da legislação penal brasileira. Portanto, não há alucinação de input.',\n",
       "  'has_input_hallucination': '0.'},\n",
       " {'question': 'Quais fatores podem reduzir o prazo de prescrição do crime?',\n",
       "  'answer': 'O Código Penal prevê duas causas gerais de redução do prazo de prescrição (art. 115):\\n\\nSer o agente, ao tempo do crime, menor de 21 (vinte e um) anos: A menoridade penal, embora fixada em 18 anos para fins de imputabilidade, ainda influencia na contagem do prazo prescricional, reconhecendo uma menor maturidade do agente à época do delito.\\n\\nSer o agente, na data da sentença, maior de 70 (setenta) anos: A senilidade também é considerada um fator que justifica a redução do prazo prescricional, possivelmente em razão da maior dificuldade de persecução penal e da finalidade da pena em relação a uma pessoa idosa.\\n\\nNesses dois casos, os prazos de prescrição previstos no artigo 109 do Código Penal são reduzidos pela metade. É importante ressaltar que essas são causas gerais de redução, aplicáveis tanto à prescrição da pretensão punitiva (antes do trânsito em julgado da sentença) quanto à prescrição da pretensão executória (após o trânsito em julgado).',\n",
       "  'input_hallucination_reason': 'Não há alucinação de input porque a resposta está diretamente relacionada ao tópico da pergunta, que é sobre fatores que podem reduzir o prazo de prescrição do crime. A resposta fornece informações específicas sobre as causas gerais de redução previstas no Código Penal, que estão ligadas à pergunta original.',\n",
       "  'has_input_hallucination': '0.'},\n",
       " {'question': 'Como o Código Penal regula o crime de sequestro e quais as penalidades relacionadas?',\n",
       "  'answer': 'O crime de sequestro e cárcere privado está previsto no artigo 148 do Código Penal: \"Privar alguém de sua liberdade, mediante sequestro ou cárcere privado: Pena - reclusão, de um a três anos.\"\\n\\nO tipo penal abrange tanto o sequestro (retenção da vítima em local diverso de sua residência ou habitual) quanto o cárcere privado (confinamento da vítima em um local fechado).\\n\\nO parágrafo 1º do artigo 148 prevê diversas causas de aumento de pena, elevando a reclusão para dois a oito anos, se:\\n\\nA vítima for ascendente, descendente, cônjuge ou companheiro do agente ou maior de 60 (sessenta) anos.\\nO crime for praticado mediante violência ou grave ameaça.\\nO crime durar mais de quinze dias.\\nO crime for praticado contra menor de 18 (dezoito) anos.\\nO crime for praticado com finalidade libidinosa.\\nO parágrafo 2º estabelece uma forma qualificada do crime, com pena de reclusão de dois a oito anos, se resultar à vítima lesão corporal de natureza grave ou morte.',\n",
       "  'input_hallucination_reason': 'A resposta gerada está diretamente relacionada ao tópico da pergunta feita pelo usuário, portanto não há alucinação de input. A resposta fornece informações precisas sobre o Código Penal e suas penalidades relacionadas ao crime de sequestro, o que é coerente com a pergunta feita.',\n",
       "  'has_input_hallucination': '0.'},\n",
       " {'question': 'Quais as agravantes para o homicídio qualificado, conforme o artigo do Código Penal?',\n",
       "  'answer': 'O homicídio qualificado está previsto no artigo 121, § 2º, do Código Penal. As qualificadoras, que tornam o crime mais grave e elevam a pena de reclusão de doze a trinta anos, são:\\n\\nInciso I: Mediante paga ou promessa de recompensa, ou por outro motivo torpe.\\nInciso II: Por motivo fútil.\\nInciso III: Com emprego de veneno, fogo, explosivo, asfixia, tortura ou outro meio insidioso ou cruel, ou de que possa resultar perigo comum.\\nInciso IV: À traição, de emboscada, ou mediante dissimulação ou outro recurso que dificulte ou torne impossível a defesa do ofendido.\\nInciso V: Para assegurar a execução, a ocultação, a impunidade ou vantagem de outro crime.\\nInciso VI: Contra a mulher por razões da condição de sexo feminino (feminicídio).\\nInciso VII: Contra autoridade ou agente descrito nos arts. 142 e 144 da Constituição Federal, integrantes do sistema prisional e da Força Nacional de Segurança Pública, no exercício da função ou em decorrência dela, ou contra seu cônjuge, companheiro ou parente consanguíneo até o terceiro grau, em razão dessa condição.\\nInciso VIII: Contra pessoa menor de 14 (quatorze) anos.\\nÉ importante notar que essas são as qualificadoras expressamente previstas no artigo 121, § 2º. A incidência de uma dessas qualificadoras torna o homicídio um crime hediondo, com consequências processuais e penais mais severas.',\n",
       "  'input_hallucination_reason': 'Não houve alucinação de input. A resposta gerada é relevante e relacionada ao tópico da pergunta, fornecendo informações precisas sobre as agravantes para o homicídio qualificado, como previsto no Código Penal.',\n",
       "  'has_input_hallucination': '0.'},\n",
       " {'question': 'Em que condições o condenado poderá exercer trabalho externo no regime fechado?',\n",
       "  'answer': 'A Lei de Execução Penal (Lei nº 7.210/84) estabelece que, em regra, o trabalho externo não é admitido para condenados em regime fechado (art. 36, § 1º).\\n\\nNo entanto, o artigo 37 da LEP traz uma exceção: o trabalho externo poderá ser autorizado a presos em regime fechado somente em serviços ou obras públicas, mediante cautelas contra a fuga e em obediência a determinados requisitos, como aptidão, disciplina e responsabilidade.',\n",
       "  'input_hallucination_reason': 'Não houve alucinação de input.\\n\\nA resposta gerada está diretamente relacionada ao tópico da pergunta feita (\"Em que condições o condenado poderá exercer trabalho externo no regime fechado?\"), apresentando informações relevantes e precisas sobre a Lei de Execução Penal (Lei nº 7.210/84) e seus artigos. A resposta não foge do tópico da pergunta, portanto, não há alucinação de input.',\n",
       "  'has_input_hallucination': '0.'}]"
      ]
     },
     "execution_count": 29,
=======
       "  'input_hallucination_reason': 'Houve pertinência entre a pergunta sobre como o código trata o crime de difamação diante da prova da verdade e a resposta fornecida, que explica o artigo 139 do Código Penal, a exceptio veritatis e a exceção do § 3º do artigo. Portanto, a resposta está dentro do tópico solicitado, sem fugir ao tema.',\n",
       "  'has_input_hallucination': '0 '},\n",
       " {'question': 'Qual a pena prevista para injúria quando há utilização de elementos referentes à religião ou condição de pessoa idosa ou com deficiência?',\n",
       "  'answer': 'A injúria, prevista no artigo 140 do Código Penal, tem como pena base a detenção de um a seis meses ou multa. No entanto, o § 3º do mesmo artigo estabelece uma qualificadora para a injúria quando utilizada \"elementos referentes a religião ou à condição de pessoa idosa ou com deficiência\".',\n",
       "  'input_hallucination_reason': 'Não houve alucinação de input, pois a resposta está diretamente relacionada à pergunta sobre a pena prevista para injúria com elementos referentes a religião, pessoa idosa ou com deficiência, mencionando corretamente o artigo e a qualificadora correspondente.',\n",
       "  'has_input_hallucination': '0.'},\n",
       " {'question': 'Quais práticas configuram o crime de falsificação de documento público?',\n",
       "  'answer': 'O artigo 297 do Código Penal tipifica o crime de falsificação de documento público. As principais condutas que o configuram são:\\n\\nFabricar integralmente documento público falso.\\nAlterar documento público verdadeiro.\\nInserir em documento público verdadeiro declaração falsa ou diversa da que deveria ser escrita, com o fim de prejudicar direito, criar obrigação ou alterar a verdade sobre fato juridicamente relevante.\\nSuprimir ou ocultar, em documento público verdadeiro, qualquer dado ou informação que devia constar.\\nUsar qualquer dos documentos falsificados ou alterados, sabendo da falsidade ou alteração.\\nFalsificar passaporte, folha de identificação ou documento de viagem, ou deles fazer uso.\\nPara a configuração do crime, é essencial a intenção de prejudicar direito, criar obrigação ou alterar a verdade sobre fato juridicamente relevante.',\n",
       "  'input_hallucination_reason': 'Não houve alucinação de input, pois a resposta aborda diretamente as práticas que configuram o crime de falsificação de documento público conforme solicitado na pergunta.',\n",
       "  'has_input_hallucination': '0.'},\n",
       " {'question': 'Como o Código Penal trata o crime de dano qualificado por violências ou meios cruéis?',\n",
       "  'answer': 'O crime de dano simples está previsto no artigo 163 do Código Penal. O dano se torna qualificado, com pena mais severa, quando ocorre alguma das hipóteses do artigo 163, parágrafo único. A qualificadora de \"violência ou grave ameaça à pessoa\" está prevista no inciso II. Já a qualificadora de \"meio cruel\" não está expressamente mencionada nesse inciso, mas a interpretação jurisprudencial e doutrinária entende que a utilização de meios que causem sofrimento desnecessário e excessivo à vítima, durante a prática do dano, pode qualificar o crime por analogia in malam partem (em desfavor do réu), embora essa interpretação seja mais controversa e menos comum.\\n\\nÉ mais comum que a violência ou grave ameaça à pessoa esteja relacionada a outros crimes, como roubo ou extorsão, nos quais o dano ao patrimônio é um meio para a consecução do crime principal.',\n",
       "  'input_hallucination_reason': 'Não houve alucinação de input, pois a resposta trata diretamente do modo como o Código Penal aborda o crime de dano qualificado por violências ou meios cruéis, explicando os artigos e qualificadoras pertinentes ao tema da pergunta.',\n",
       "  'has_input_hallucination': '0.'},\n",
       " {'question': 'Quais ações constituem o crime de extorsão?',\n",
       "  'answer': 'No Brasil, o crime de extorsão está previsto no artigo 158 do Código Penal e se configura por meio das seguintes ações:\\n\\nConstranger alguém: Essa é a ação nuclear do crime. O constrangimento significa obrigar, forçar, compelir a vítima a fazer ou deixar de fazer algo contra a sua vontade. Essa coação não precisa ser física; pode ser moral, mediante grave ameaça.\\n\\nMediante violência ou grave ameaça: A violência se refere ao emprego de força física contra a vítima. A grave ameaça consiste na promessa de um mal grave e injusto, capaz de intimidar a vítima e viciar sua vontade. Essa ameaça pode ser dirigida à própria vítima ou a pessoas a ela ligadas (familiares, amigos, etc.).\\n\\nCom o intuito de obter para si ou para outrem indevida vantagem econômica: O objetivo do agente é conseguir um benefício patrimonial ilícito. Essa vantagem pode ser dinheiro, bens, valores, direitos ou qualquer outra coisa que tenha valor econômico. O intuito de obter a vantagem indevida é essencial para caracterizar a extorsão.\\n\\nA fazer, tolerar que se faça ou deixar de fazer alguma coisa: O constrangimento exercido sobre a vítima visa a um comportamento específico:\\n\\nFazer: A vítima é obrigada a praticar um ato, como entregar dinheiro, assinar um documento, etc.\\nTolerar que se faça: A vítima é forçada a permitir que o agente ou terceiro realize alguma ação, como ocupar um imóvel, explorar um negócio, etc.\\nDeixar de fazer: A vítima é coagida a não praticar um ato, como denunciar um crime, cobrar uma dívida, etc.',\n",
       "  'input_hallucination_reason': 'Houve correspondência direta entre a pergunta feita, que solicitava quais ações constituem o crime de extorsão, e a resposta fornecida, que explica detalhadamente as ações que configuram o crime de extorsão segundo o Código Penal brasileiro. Portanto, não há alucinação de input.',\n",
       "  'has_input_hallucination': '0 '},\n",
       " {'question': 'Como a legislação penal brasileira trata o reingresso de estrangeiro expulsos do país?',\n",
       "  'answer': 'O reingresso de estrangeiro que foi expulso do território nacional é considerado crime, previsto no artigo 338 do Código Penal: \"Reingressar no território nacional estrangeiro que dele foi expulso: Pena - detenção, de um a quatro anos, sem prejuízo da nova expulsão após o cumprimento da pena.\"',\n",
       "  'input_hallucination_reason': 'Não houve alucinação de input, pois a resposta está diretamente relacionada à pergunta sobre a legislação penal brasileira referente ao reingresso de estrangeiros expulsos do país, mencionando o artigo do Código Penal aplicável.',\n",
       "  'has_input_hallucination': '0.'},\n",
       " {'question': 'Quais fatores podem reduzir o prazo de prescrição do crime?',\n",
       "  'answer': 'O Código Penal prevê duas causas gerais de redução do prazo de prescrição (art. 115):\\n\\nSer o agente, ao tempo do crime, menor de 21 (vinte e um) anos: A menoridade penal, embora fixada em 18 anos para fins de imputabilidade, ainda influencia na contagem do prazo prescricional, reconhecendo uma menor maturidade do agente à época do delito.\\n\\nSer o agente, na data da sentença, maior de 70 (setenta) anos: A senilidade também é considerada um fator que justifica a redução do prazo prescricional, possivelmente em razão da maior dificuldade de persecução penal e da finalidade da pena em relação a uma pessoa idosa.\\n\\nNesses dois casos, os prazos de prescrição previstos no artigo 109 do Código Penal são reduzidos pela metade. É importante ressaltar que essas são causas gerais de redução, aplicáveis tanto à prescrição da pretensão punitiva (antes do trânsito em julgado da sentença) quanto à prescrição da pretensão executória (após o trânsito em julgado).',\n",
       "  'input_hallucination_reason': 'Não houve alucinação de input porque a resposta está diretamente relacionada à pergunta sobre os fatores que podem reduzir o prazo de prescrição do crime, abordando os dispositivos legais pertinentes e explicando as situações previstas no Código Penal.',\n",
       "  'has_input_hallucination': '0.'},\n",
       " {'question': 'Como o Código Penal regula o crime de sequestro e quais as penalidades relacionadas?',\n",
       "  'answer': 'O crime de sequestro e cárcere privado está previsto no artigo 148 do Código Penal: \"Privar alguém de sua liberdade, mediante sequestro ou cárcere privado: Pena - reclusão, de um a três anos.\"\\n\\nO tipo penal abrange tanto o sequestro (retenção da vítima em local diverso de sua residência ou habitual) quanto o cárcere privado (confinamento da vítima em um local fechado).\\n\\nO parágrafo 1º do artigo 148 prevê diversas causas de aumento de pena, elevando a reclusão para dois a oito anos, se:\\n\\nA vítima for ascendente, descendente, cônjuge ou companheiro do agente ou maior de 60 (sessenta) anos.\\nO crime for praticado mediante violência ou grave ameaça.\\nO crime durar mais de quinze dias.\\nO crime for praticado contra menor de 18 (dezoito) anos.\\nO crime for praticado com finalidade libidinosa.\\nO parágrafo 2º estabelece uma forma qualificada do crime, com pena de reclusão de dois a oito anos, se resultar à vítima lesão corporal de natureza grave ou morte.',\n",
       "  'input_hallucination_reason': 'Não houve alucinação de input pois a resposta trata diretamente da regulamentação do crime de sequestro no Código Penal, detalhando o artigo pertinente, suas definições, e as penalidades relacionadas, que correspondem exatamente ao que foi solicitado na pergunta.',\n",
       "  'has_input_hallucination': '0.'},\n",
       " {'question': 'Quais as agravantes para o homicídio qualificado, conforme o artigo do Código Penal?',\n",
       "  'answer': 'O homicídio qualificado está previsto no artigo 121, § 2º, do Código Penal. As qualificadoras, que tornam o crime mais grave e elevam a pena de reclusão de doze a trinta anos, são:\\n\\nInciso I: Mediante paga ou promessa de recompensa, ou por outro motivo torpe.\\nInciso II: Por motivo fútil.\\nInciso III: Com emprego de veneno, fogo, explosivo, asfixia, tortura ou outro meio insidioso ou cruel, ou de que possa resultar perigo comum.\\nInciso IV: À traição, de emboscada, ou mediante dissimulação ou outro recurso que dificulte ou torne impossível a defesa do ofendido.\\nInciso V: Para assegurar a execução, a ocultação, a impunidade ou vantagem de outro crime.\\nInciso VI: Contra a mulher por razões da condição de sexo feminino (feminicídio).\\nInciso VII: Contra autoridade ou agente descrito nos arts. 142 e 144 da Constituição Federal, integrantes do sistema prisional e da Força Nacional de Segurança Pública, no exercício da função ou em decorrência dela, ou contra seu cônjuge, companheiro ou parente consanguíneo até o terceiro grau, em razão dessa condição.\\nInciso VIII: Contra pessoa menor de 14 (quatorze) anos.\\nÉ importante notar que essas são as qualificadoras expressamente previstas no artigo 121, § 2º. A incidência de uma dessas qualificadoras torna o homicídio um crime hediondo, com consequências processuais e penais mais severas.',\n",
       "  'input_hallucination_reason': 'Não houve alucinação de input porque a resposta está estritamente relacionada ao tópico da pergunta sobre os agravantes para o homicídio qualificado conforme o artigo do Código Penal, detalhando precisamente os incisos indicados no artigo 121, § 2º.',\n",
       "  'has_input_hallucination': '0.'},\n",
       " {'question': 'Em que condições o condenado poderá exercer trabalho externo no regime fechado?',\n",
       "  'answer': 'A Lei de Execução Penal (Lei nº 7.210/84) estabelece que, em regra, o trabalho externo não é admitido para condenados em regime fechado (art. 36, § 1º).\\n\\nNo entanto, o artigo 37 da LEP traz uma exceção: o trabalho externo poderá ser autorizado a presos em regime fechado somente em serviços ou obras públicas, mediante cautelas contra a fuga e em obediência a determinados requisitos, como aptidão, disciplina e responsabilidade.',\n",
       "  'input_hallucination_reason': 'A resposta está diretamente relacionada à pergunta sobre as condições para o condenado exercer trabalho externo no regime fechado, citando a legislação pertinente e as exceções previstas, sem desviar do tema solicitado. Portanto, não há alucinação de input.',\n",
       "  'has_input_hallucination': '0.'}]"
      ]
     },
     "execution_count": 35,
>>>>>>> Stashed changes
     "metadata": {},
     "output_type": "execute_result"
    }
   ],
   "source": [
<<<<<<< Updated upstream
    "has_hallucination_llama"
=======
    "has_hallucination_gpt_gm"
>>>>>>> Stashed changes
   ]
  },
  {
   "cell_type": "code",
<<<<<<< Updated upstream
   "execution_count": 30,
   "id": "53b2d45f",
=======
   "execution_count": 38,
   "id": "fe58c7fa",
>>>>>>> Stashed changes
   "metadata": {},
   "outputs": [
    {
     "data": {
      "text/html": [
       "<div>\n",
       "<style scoped>\n",
       "    .dataframe tbody tr th:only-of-type {\n",
       "        vertical-align: middle;\n",
       "    }\n",
       "\n",
       "    .dataframe tbody tr th {\n",
       "        vertical-align: top;\n",
       "    }\n",
       "\n",
       "    .dataframe thead th {\n",
       "        text-align: right;\n",
       "    }\n",
       "</style>\n",
       "<table border=\"1\" class=\"dataframe\">\n",
       "  <thead>\n",
       "    <tr style=\"text-align: right;\">\n",
       "      <th></th>\n",
       "      <th>question</th>\n",
       "      <th>answer</th>\n",
       "      <th>input_hallucination_reason</th>\n",
       "      <th>has_input_hallucination</th>\n",
       "    </tr>\n",
       "  </thead>\n",
       "  <tbody>\n",
       "    <tr>\n",
       "      <th>0</th>\n",
       "      <td>Como o código trata o crime de difamação quand...</td>\n",
       "      <td>No crime de difamação (art. 139 do Código Pena...</td>\n",
<<<<<<< Updated upstream
       "      <td>A resposta gerada está dentro do tópico da per...</td>\n",
       "      <td>0.</td>\n",
=======
       "      <td>Houve pertinência entre a pergunta sobre como ...</td>\n",
       "      <td>0</td>\n",
>>>>>>> Stashed changes
       "    </tr>\n",
       "    <tr>\n",
       "      <th>1</th>\n",
       "      <td>Qual a pena prevista para injúria quando há ut...</td>\n",
       "      <td>A injúria, prevista no artigo 140 do Código Pe...</td>\n",
<<<<<<< Updated upstream
       "      <td>Não houve alucinação de input porque a respost...</td>\n",
=======
       "      <td>Não houve alucinação de input, pois a resposta...</td>\n",
>>>>>>> Stashed changes
       "      <td>0.</td>\n",
       "    </tr>\n",
       "    <tr>\n",
       "      <th>2</th>\n",
       "      <td>Quais práticas configuram o crime de falsifica...</td>\n",
       "      <td>O artigo 297 do Código Penal tipifica o crime ...</td>\n",
<<<<<<< Updated upstream
       "      <td>A resposta gerada está relacionada ao tópico d...</td>\n",
=======
       "      <td>Não houve alucinação de input, pois a resposta...</td>\n",
>>>>>>> Stashed changes
       "      <td>0.</td>\n",
       "    </tr>\n",
       "    <tr>\n",
       "      <th>3</th>\n",
       "      <td>Como o Código Penal trata o crime de dano qual...</td>\n",
       "      <td>O crime de dano simples está previsto no artig...</td>\n",
<<<<<<< Updated upstream
       "      <td>A resposta não apresentou alucinação de input,...</td>\n",
=======
       "      <td>Não houve alucinação de input, pois a resposta...</td>\n",
>>>>>>> Stashed changes
       "      <td>0.</td>\n",
       "    </tr>\n",
       "    <tr>\n",
       "      <th>4</th>\n",
       "      <td>Quais ações constituem o crime de extorsão?</td>\n",
       "      <td>No Brasil, o crime de extorsão está previsto n...</td>\n",
<<<<<<< Updated upstream
       "      <td>Não houve alucinação de input.\\n\\nA resposta g...</td>\n",
       "      <td>0.</td>\n",
=======
       "      <td>Houve correspondência direta entre a pergunta ...</td>\n",
       "      <td>0</td>\n",
>>>>>>> Stashed changes
       "    </tr>\n",
       "    <tr>\n",
       "      <th>5</th>\n",
       "      <td>Como a legislação penal brasileira trata o rei...</td>\n",
       "      <td>O reingresso de estrangeiro que foi expulso do...</td>\n",
<<<<<<< Updated upstream
       "      <td>A resposta gerada está relacionada ao tópico d...</td>\n",
=======
       "      <td>Não houve alucinação de input, pois a resposta...</td>\n",
>>>>>>> Stashed changes
       "      <td>0.</td>\n",
       "    </tr>\n",
       "    <tr>\n",
       "      <th>6</th>\n",
       "      <td>Quais fatores podem reduzir o prazo de prescri...</td>\n",
       "      <td>O Código Penal prevê duas causas gerais de red...</td>\n",
<<<<<<< Updated upstream
       "      <td>Não há alucinação de input porque a resposta e...</td>\n",
=======
       "      <td>Não houve alucinação de input porque a respost...</td>\n",
>>>>>>> Stashed changes
       "      <td>0.</td>\n",
       "    </tr>\n",
       "    <tr>\n",
       "      <th>7</th>\n",
       "      <td>Como o Código Penal regula o crime de sequestr...</td>\n",
       "      <td>O crime de sequestro e cárcere privado está pr...</td>\n",
<<<<<<< Updated upstream
       "      <td>A resposta gerada está diretamente relacionada...</td>\n",
=======
       "      <td>Não houve alucinação de input pois a resposta ...</td>\n",
>>>>>>> Stashed changes
       "      <td>0.</td>\n",
       "    </tr>\n",
       "    <tr>\n",
       "      <th>8</th>\n",
       "      <td>Quais as agravantes para o homicídio qualifica...</td>\n",
       "      <td>O homicídio qualificado está previsto no artig...</td>\n",
<<<<<<< Updated upstream
       "      <td>Não houve alucinação de input. A resposta gera...</td>\n",
=======
       "      <td>Não houve alucinação de input porque a respost...</td>\n",
>>>>>>> Stashed changes
       "      <td>0.</td>\n",
       "    </tr>\n",
       "    <tr>\n",
       "      <th>9</th>\n",
       "      <td>Em que condições o condenado poderá exercer tr...</td>\n",
       "      <td>A Lei de Execução Penal (Lei nº 7.210/84) esta...</td>\n",
<<<<<<< Updated upstream
       "      <td>Não houve alucinação de input.\\n\\nA resposta g...</td>\n",
=======
       "      <td>A resposta está diretamente relacionada à perg...</td>\n",
>>>>>>> Stashed changes
       "      <td>0.</td>\n",
       "    </tr>\n",
       "  </tbody>\n",
       "</table>\n",
       "</div>"
      ],
      "text/plain": [
       "                                            question  \\\n",
       "0  Como o código trata o crime de difamação quand...   \n",
       "1  Qual a pena prevista para injúria quando há ut...   \n",
       "2  Quais práticas configuram o crime de falsifica...   \n",
       "3  Como o Código Penal trata o crime de dano qual...   \n",
       "4        Quais ações constituem o crime de extorsão?   \n",
       "5  Como a legislação penal brasileira trata o rei...   \n",
       "6  Quais fatores podem reduzir o prazo de prescri...   \n",
       "7  Como o Código Penal regula o crime de sequestr...   \n",
       "8  Quais as agravantes para o homicídio qualifica...   \n",
       "9  Em que condições o condenado poderá exercer tr...   \n",
       "\n",
       "                                              answer  \\\n",
       "0  No crime de difamação (art. 139 do Código Pena...   \n",
       "1  A injúria, prevista no artigo 140 do Código Pe...   \n",
       "2  O artigo 297 do Código Penal tipifica o crime ...   \n",
       "3  O crime de dano simples está previsto no artig...   \n",
       "4  No Brasil, o crime de extorsão está previsto n...   \n",
       "5  O reingresso de estrangeiro que foi expulso do...   \n",
       "6  O Código Penal prevê duas causas gerais de red...   \n",
       "7  O crime de sequestro e cárcere privado está pr...   \n",
       "8  O homicídio qualificado está previsto no artig...   \n",
       "9  A Lei de Execução Penal (Lei nº 7.210/84) esta...   \n",
       "\n",
       "                          input_hallucination_reason has_input_hallucination  \n",
<<<<<<< Updated upstream
       "0  A resposta gerada está dentro do tópico da per...                      0.  \n",
       "1  Não houve alucinação de input porque a respost...                      0.  \n",
       "2  A resposta gerada está relacionada ao tópico d...                      0.  \n",
       "3  A resposta não apresentou alucinação de input,...                      0.  \n",
       "4  Não houve alucinação de input.\\n\\nA resposta g...                      0.  \n",
       "5  A resposta gerada está relacionada ao tópico d...                      0.  \n",
       "6  Não há alucinação de input porque a resposta e...                      0.  \n",
       "7  A resposta gerada está diretamente relacionada...                      0.  \n",
       "8  Não houve alucinação de input. A resposta gera...                      0.  \n",
       "9  Não houve alucinação de input.\\n\\nA resposta g...                      0.  "
      ]
     },
     "execution_count": 30,
     "metadata": {},
     "output_type": "execute_result"
    }
   ],
   "source": [
    "df_input_veredict_llama_gm = pd.DataFrame(has_hallucination_llama)\n",
    "\n",
    "df_input_veredict_llama_gm"
   ]
  },
  {
   "cell_type": "code",
   "execution_count": 31,
   "id": "7ab67629",
   "metadata": {},
   "outputs": [],
   "source": [
    "df_input_veredict_llama_gm.to_csv(\"llm-output/input_hallucination_deepseek_llama.csv\")"
   ]
  },
  {
   "cell_type": "markdown",
   "id": "bc39a2da",
   "metadata": {},
   "source": [
    "### GPT"
   ]
  },
  {
   "cell_type": "code",
   "execution_count": 32,
   "id": "91d7461a",
   "metadata": {},
   "outputs": [],
   "source": [
    "has_hallucination_gpt = []"
   ]
  },
  {
   "cell_type": "markdown",
   "id": "816df772",
   "metadata": {},
   "source": [
    "#### DeepSeek"
   ]
  },
  {
   "cell_type": "code",
   "execution_count": null,
   "id": "2317e818",
   "metadata": {},
   "outputs": [
    {
     "name": "stdout",
     "output_type": "stream",
     "text": [
      "content='0 A resposta está diretamente relacionada à pergunta, abordando como o código trata o crime de difamação em relação à prova da verdade, explicando as condições em que a conduta deixa de ser crime. Portanto, não há alucinação de input.' additional_kwargs={'refusal': None} response_metadata={'token_usage': {'completion_tokens': 52, 'prompt_tokens': 365, 'total_tokens': 417, 'completion_tokens_details': {'accepted_prediction_tokens': 0, 'audio_tokens': 0, 'reasoning_tokens': 0, 'rejected_prediction_tokens': 0}, 'prompt_tokens_details': {'audio_tokens': 0, 'cached_tokens': 0}}, 'model_name': 'gpt-4.1-mini-2025-04-14', 'system_fingerprint': 'fp_79b79be41f', 'id': 'chatcmpl-BYyzwh93emmQA3MCDyXZtqO9yHKbC', 'service_tier': 'default', 'finish_reason': 'stop', 'logprobs': None} id='run--12dfaaa4-bcc7-455f-a100-b06626e7aeb5-0' usage_metadata={'input_tokens': 365, 'output_tokens': 52, 'total_tokens': 417, 'input_token_details': {'audio': 0, 'cache_read': 0}, 'output_token_details': {'audio': 0, 'reasoning': 0}}\n",
      "content='0. Não houve alucinação de input, pois a resposta está diretamente relacionada à pergunta sobre a pena prevista para injúria com elementos relacionados à religião, condição de pessoa idosa ou com deficiência, apresentando corretamente a definição, qualificadoras e pena prevista conforme o Código Penal.' additional_kwargs={'refusal': None} response_metadata={'token_usage': {'completion_tokens': 57, 'prompt_tokens': 361, 'total_tokens': 418, 'completion_tokens_details': {'accepted_prediction_tokens': 0, 'audio_tokens': 0, 'reasoning_tokens': 0, 'rejected_prediction_tokens': 0}, 'prompt_tokens_details': {'audio_tokens': 0, 'cached_tokens': 0}}, 'model_name': 'gpt-4.1-mini-2025-04-14', 'system_fingerprint': 'fp_79b79be41f', 'id': 'chatcmpl-BYyzy86QFXUN8EANamjMEoMQLNmrl', 'service_tier': 'default', 'finish_reason': 'stop', 'logprobs': None} id='run--ddba9798-c764-4781-8ece-64818727d40f-0' usage_metadata={'input_tokens': 361, 'output_tokens': 57, 'total_tokens': 418, 'input_token_details': {'audio': 0, 'cache_read': 0}, 'output_token_details': {'audio': 0, 'reasoning': 0}}\n",
      "content='0. Não houve alucinação de input, pois a resposta está diretamente relacionada à pergunta sobre as práticas que configuram o crime de falsificação de documento público, citando o artigo do código penal, as ações que caracterizam o crime e a pena aplicável.' additional_kwargs={'refusal': None} response_metadata={'token_usage': {'completion_tokens': 54, 'prompt_tokens': 329, 'total_tokens': 383, 'completion_tokens_details': {'accepted_prediction_tokens': 0, 'audio_tokens': 0, 'reasoning_tokens': 0, 'rejected_prediction_tokens': 0}, 'prompt_tokens_details': {'audio_tokens': 0, 'cached_tokens': 0}}, 'model_name': 'gpt-4.1-mini-2025-04-14', 'system_fingerprint': 'fp_79b79be41f', 'id': 'chatcmpl-BYyzzEdnCiLvc3QFe059ZAZDN1Wep', 'service_tier': 'default', 'finish_reason': 'stop', 'logprobs': None} id='run--40f86eaa-49a2-4537-b16f-a27d64fb6888-0' usage_metadata={'input_tokens': 329, 'output_tokens': 54, 'total_tokens': 383, 'input_token_details': {'audio': 0, 'cache_read': 0}, 'output_token_details': {'audio': 0, 'reasoning': 0}}\n",
      "content='0. Não houve alucinação de input, pois a resposta está diretamente relacionada à pergunta sobre como o Código Penal trata o crime de dano qualificado por violências ou meios cruéis, explicando a qualificação do crime e a pena prevista.' additional_kwargs={'refusal': None} response_metadata={'token_usage': {'completion_tokens': 50, 'prompt_tokens': 338, 'total_tokens': 388, 'completion_tokens_details': {'accepted_prediction_tokens': 0, 'audio_tokens': 0, 'reasoning_tokens': 0, 'rejected_prediction_tokens': 0}, 'prompt_tokens_details': {'audio_tokens': 0, 'cached_tokens': 0}}, 'model_name': 'gpt-4.1-mini-2025-04-14', 'system_fingerprint': 'fp_79b79be41f', 'id': 'chatcmpl-BYz0070w0KYVrbu75TOU2BGnMlvCm', 'service_tier': 'default', 'finish_reason': 'stop', 'logprobs': None} id='run--ae11a776-3717-4978-b60f-74c451ef0a92-0' usage_metadata={'input_tokens': 338, 'output_tokens': 50, 'total_tokens': 388, 'input_token_details': {'audio': 0, 'cache_read': 0}, 'output_token_details': {'audio': 0, 'reasoning': 0}}\n",
      "content='0. Não houve alucinação de input, pois a resposta está diretamente relacionada à pergunta sobre as ações que constituem o crime de extorsão, explicando detalhadamente os elementos e aspectos legais do crime conforme previsto no Código Penal Brasileiro.' additional_kwargs={'refusal': None} response_metadata={'token_usage': {'completion_tokens': 50, 'prompt_tokens': 522, 'total_tokens': 572, 'completion_tokens_details': {'accepted_prediction_tokens': 0, 'audio_tokens': 0, 'reasoning_tokens': 0, 'rejected_prediction_tokens': 0}, 'prompt_tokens_details': {'audio_tokens': 0, 'cached_tokens': 0}}, 'model_name': 'gpt-4.1-mini-2025-04-14', 'system_fingerprint': 'fp_79b79be41f', 'id': 'chatcmpl-BYz01g96kHTnKiaSZq7W61kxF1qrQ', 'service_tier': 'default', 'finish_reason': 'stop', 'logprobs': None} id='run--4bba9525-3ecb-4105-913e-a2a063dacc35-0' usage_metadata={'input_tokens': 522, 'output_tokens': 50, 'total_tokens': 572, 'input_token_details': {'audio': 0, 'cache_read': 0}, 'output_token_details': {'audio': 0, 'reasoning': 0}}\n",
      "content='0. Não houve alucinação de input porque a resposta está diretamente relacionada ao tema da pergunta, que trata da legislação penal brasileira sobre o reingresso de estrangeiros expulsos do país. A resposta aborda a criminalidade e a pena prevista, mantendo-se no tópico solicitado.' additional_kwargs={'refusal': None} response_metadata={'token_usage': {'completion_tokens': 56, 'prompt_tokens': 304, 'total_tokens': 360, 'completion_tokens_details': {'accepted_prediction_tokens': 0, 'audio_tokens': 0, 'reasoning_tokens': 0, 'rejected_prediction_tokens': 0}, 'prompt_tokens_details': {'audio_tokens': 0, 'cached_tokens': 0}}, 'model_name': 'gpt-4.1-mini-2025-04-14', 'system_fingerprint': 'fp_79b79be41f', 'id': 'chatcmpl-BYz03RFEcA9d9zM5fBjGmZdl234rN', 'service_tier': 'default', 'finish_reason': 'stop', 'logprobs': None} id='run--663fd669-c17d-4d7f-b7e9-ac13223a7a2f-0' usage_metadata={'input_tokens': 304, 'output_tokens': 56, 'total_tokens': 360, 'input_token_details': {'audio': 0, 'cache_read': 0}, 'output_token_details': {'audio': 0, 'reasoning': 0}}\n",
      "content='0. Não houve alucinação de input, pois a resposta está diretamente relacionada à pergunta sobre os fatores que podem reduzir o prazo de prescrição do crime, apresentando informações relevantes e específicas ao tema solicitado.' additional_kwargs={'refusal': None} response_metadata={'token_usage': {'completion_tokens': 42, 'prompt_tokens': 320, 'total_tokens': 362, 'completion_tokens_details': {'accepted_prediction_tokens': 0, 'audio_tokens': 0, 'reasoning_tokens': 0, 'rejected_prediction_tokens': 0}, 'prompt_tokens_details': {'audio_tokens': 0, 'cached_tokens': 0}}, 'model_name': 'gpt-4.1-mini-2025-04-14', 'system_fingerprint': 'fp_79b79be41f', 'id': 'chatcmpl-BYz04oZyiIwp5MBzaV7W9tuoWjeB9', 'service_tier': 'default', 'finish_reason': 'stop', 'logprobs': None} id='run--a8c63dde-fe48-4f0d-930e-eda12558ba33-0' usage_metadata={'input_tokens': 320, 'output_tokens': 42, 'total_tokens': 362, 'input_token_details': {'audio': 0, 'cache_read': 0}, 'output_token_details': {'audio': 0, 'reasoning': 0}}\n",
      "content='0 A resposta está totalmente relacionada à pergunta sobre como o Código Penal regula o crime de sequestro e as penalidades associadas, fornecendo definições, penas e agravantes pertinentes ao tema solicitado. Portanto, não há alucinação de input.' additional_kwargs={'refusal': None} response_metadata={'token_usage': {'completion_tokens': 51, 'prompt_tokens': 368, 'total_tokens': 419, 'completion_tokens_details': {'accepted_prediction_tokens': 0, 'audio_tokens': 0, 'reasoning_tokens': 0, 'rejected_prediction_tokens': 0}, 'prompt_tokens_details': {'audio_tokens': 0, 'cached_tokens': 0}}, 'model_name': 'gpt-4.1-mini-2025-04-14', 'system_fingerprint': 'fp_79b79be41f', 'id': 'chatcmpl-BYz05qkglVQ8BH18Rqyf5kc9Y430G', 'service_tier': 'default', 'finish_reason': 'stop', 'logprobs': None} id='run--3c5b61a1-45d2-43b5-a3ee-7a6d5e230c95-0' usage_metadata={'input_tokens': 368, 'output_tokens': 51, 'total_tokens': 419, 'input_token_details': {'audio': 0, 'cache_read': 0}, 'output_token_details': {'audio': 0, 'reasoning': 0}}\n",
      "content='0 - A resposta está diretamente relacionada à pergunta, fornecendo as agravantes para o homicídio qualificado conforme o artigo do Código Penal, que é exatamente o que foi solicitado. Portanto, não há alucinação de input.' additional_kwargs={'refusal': None} response_metadata={'token_usage': {'completion_tokens': 46, 'prompt_tokens': 371, 'total_tokens': 417, 'completion_tokens_details': {'accepted_prediction_tokens': 0, 'audio_tokens': 0, 'reasoning_tokens': 0, 'rejected_prediction_tokens': 0}, 'prompt_tokens_details': {'audio_tokens': 0, 'cached_tokens': 0}}, 'model_name': 'gpt-4.1-mini-2025-04-14', 'system_fingerprint': 'fp_79b79be41f', 'id': 'chatcmpl-BYz07pIWZjnhgeP4NpssO8AbXAvNk', 'service_tier': 'default', 'finish_reason': 'stop', 'logprobs': None} id='run--0acf4b35-6a6e-4118-b6b2-ae3714fbd226-0' usage_metadata={'input_tokens': 371, 'output_tokens': 46, 'total_tokens': 417, 'input_token_details': {'audio': 0, 'cache_read': 0}, 'output_token_details': {'audio': 0, 'reasoning': 0}}\n",
      "content='0 A resposta está diretamente relacionada à pergunta, explicando as condições para que o condenado em regime fechado possa exercer trabalho externo, portanto, não há alucinação de input.' additional_kwargs={'refusal': None} response_metadata={'token_usage': {'completion_tokens': 35, 'prompt_tokens': 318, 'total_tokens': 353, 'completion_tokens_details': {'accepted_prediction_tokens': 0, 'audio_tokens': 0, 'reasoning_tokens': 0, 'rejected_prediction_tokens': 0}, 'prompt_tokens_details': {'audio_tokens': 0, 'cached_tokens': 0}}, 'model_name': 'gpt-4.1-mini-2025-04-14', 'system_fingerprint': 'fp_79b79be41f', 'id': 'chatcmpl-BYz08P6UgxFGmwbAgyp0Bn6ouvtrG', 'service_tier': 'default', 'finish_reason': 'stop', 'logprobs': None} id='run--065c8428-d5a7-4b37-8b82-3008406e3e2a-0' usage_metadata={'input_tokens': 318, 'output_tokens': 35, 'total_tokens': 353, 'input_token_details': {'audio': 0, 'cache_read': 0}, 'output_token_details': {'audio': 0, 'reasoning': 0}}\n"
     ]
    }
   ],
   "source": [
    "for index, row in df_deepseek_answers.iterrows():\n",
    "    question = row['Pergunta']\n",
    "    answer = row['Resposta']\n",
    "    input_hallucination_llm = has_input_hallucination_llm(question, answer, model_gpt)    \n",
    "    has_hallucination_gpt.append({\"question\":question, \"answer\":answer, \"llm_response\":input_hallucination_llm})\n",
    "    print(input_hallucination_llm)"
   ]
  },
  {
   "cell_type": "code",
   "execution_count": 18,
   "id": "77e2553c",
   "metadata": {},
   "outputs": [],
   "source": [
    "for i in has_hallucination_gpt:\n",
    "    gpt_content = i[\"llm_response\"].content\n",
    "\n",
    "    if gpt_content:\n",
    "        has_input_hallucination = re.match(r\"^([01])[.\\s]\", gpt_content)\n",
    "        i[\"llm_response\"] = re.sub(r\"content='.*.'|^[01]\\.?\\s*\", \"\", gpt_content.strip())\n",
    "\n",
    "        i[\"has_input_hallucination\"] = has_input_hallucination[0]"
   ]
  },
  {
   "cell_type": "code",
   "execution_count": 19,
   "id": "1c232978",
   "metadata": {},
   "outputs": [
    {
     "data": {
      "text/plain": [
       "[{'question': 'Como o código trata o crime de difamação quando há a eventual prova da verdade?',\n",
       "  'answer': 'O crime de difamação (art. 139, CP) consiste em atribuir a alguém fato ofensivo à sua reputação.\\n\\nProva da verdade: Se o acusado provar a veracidade do fato difamatório, a conduta será atípica (não constitui crime), exceto se:\\n\\nO fato se referir à vida privada da vítima;\\n\\nA divulgação for desnecessária ou motivada por malícia (art. 140, §1º, CP).',\n",
       "  'llm_response': 'A resposta está diretamente relacionada à pergunta, abordando como o código trata o crime de difamação em relação à prova da verdade, explicando as condições em que a conduta deixa de ser crime. Portanto, não há alucinação de input.',\n",
       "  'has_input_hallucination': '0 '},\n",
       " {'question': 'Qual a pena prevista para injúria quando há utilização de elementos referentes à religião ou condição de pessoa idosa ou com deficiência?',\n",
       "  'answer': 'A injúria (art. 140, CP) é ofender a dignidade de alguém.\\n\\nQualificadora: \\nSe a injúria utilizar elementos referentes a:\\n- Religião;\\n- Condição de pessoa idosa (60+ anos);\\n- Pessoa com deficiência.\\n\\nPena: Reclusão de 1 a 3 anos + multa (art. 140, §3º, CP).',\n",
       "  'llm_response': 'Não houve alucinação de input, pois a resposta está diretamente relacionada à pergunta sobre a pena prevista para injúria com elementos relacionados à religião, condição de pessoa idosa ou com deficiência, apresentando corretamente a definição, qualificadoras e pena prevista conforme o Código Penal.',\n",
       "  'has_input_hallucination': '0.'},\n",
       " {'question': 'Quais práticas configuram o crime de falsificação de documento público?',\n",
       "  'answer': 'art. 297, CP\\n\\nConfigura-se quando alguém:\\n- Falsifica (altera, fabrica ou modifica) documento público;\\n- Usa documento público falso sabendo que é falso;\\n- Omite declaração que deveria constar em documento público.\\n\\nPena: Reclusão de 2 a 6 anos + multa',\n",
       "  'llm_response': 'Não houve alucinação de input, pois a resposta está diretamente relacionada à pergunta sobre as práticas que configuram o crime de falsificação de documento público, citando o artigo do código penal, as ações que caracterizam o crime e a pena aplicável.',\n",
       "  'has_input_hallucination': '0.'},\n",
       " {'question': 'Como o Código Penal trata o crime de dano qualificado por violências ou meios cruéis?',\n",
       "  'answer': 'O crime de dano (art. 163, CP) torna-se qualificado se cometido:\\n\\n- Com violência (contra pessoa ou coisa);\\n- Com meios cruéis (causando sofrimento desnecessário).\\n\\nPena: Reclusão de 1 a 4 anos + multa (art. 163, §1º, CP).',\n",
       "  'llm_response': 'Não houve alucinação de input, pois a resposta está diretamente relacionada à pergunta sobre como o Código Penal trata o crime de dano qualificado por violências ou meios cruéis, explicando a qualificação do crime e a pena prevista.',\n",
       "  'has_input_hallucination': '0.'},\n",
       " {'question': 'Quais ações constituem o crime de extorsão?',\n",
       "  'answer': 'O crime de extorsão está previsto no artigo 158 do Código Penal Brasileiro e consiste em obter vantagem econômica ou qualquer outro benefício ilegítimo mediante violência, grave ameaça ou depois de reduzir a vítima à impossibilidade de resistência.\\n\\nElementos que configuram a extorsão (art. 158, CP)\\nConduta do agente:\\n- Exigir vantagem indevida (dinheiro, bens, serviços, assinatura de documento, etc.);\\n- Utilizar meios coercitivos:\\n- Violência (física ou psicológica);\\n- Grave ameaça (promessa de mal futuro e inevitável, como morte, sequestro, destruição de patrimônio);\\n- Reduzir a vítima à impossibilidade de resistir (ex.: dopagem, embriaguez forçada).\\n- Finalidade: Obter proveito econômico ou benefício ilegítimo para si ou para outrem.Afetam coletividade indeterminada (ex.: incêndio, explosão – art. 250, CP).       \\n- Bem jurídico: segurança coletiva.\\n- Crimes de Perigo Resultante\\n- Afetam indivíduos específicos, mas o perigo é elemento do crime (ex.: dirigir embriagado – art. 306, CTB).\\n- Bem jurídico: vida/integridade de pessoa(s) determinada(s).\\n',\n",
       "  'llm_response': 'Não houve alucinação de input, pois a resposta está diretamente relacionada à pergunta sobre as ações que constituem o crime de extorsão, explicando detalhadamente os elementos e aspectos legais do crime conforme previsto no Código Penal Brasileiro.',\n",
       "  'has_input_hallucination': '0.'},\n",
       " {'question': 'Como a legislação penal brasileira trata o reingresso de estrangeiro expulsos do país?',\n",
       "  'answer': 'É crime reingressar no Brasil após expulsão, sem autorização.\\nPena: Reclusão de 1 a 4 anos (além de nova expulsão).',\n",
       "  'llm_response': 'Não houve alucinação de input porque a resposta está diretamente relacionada ao tema da pergunta, que trata da legislação penal brasileira sobre o reingresso de estrangeiros expulsos do país. A resposta aborda a criminalidade e a pena prevista, mantendo-se no tópico solicitado.',\n",
       "  'has_input_hallucination': '0.'},\n",
       " {'question': 'Quais fatores podem reduzir o prazo de prescrição do crime?',\n",
       "  'answer': 'O prazo prescricional pode ser reduzido se:\\n\\nO agente for réu primário (não tem condenações anteriores);\\nO crime for de menor potencial ofensivo (Lei nº 9.099/95);\\nHouver circunstâncias atenuantes (art. 110, CP).',\n",
       "  'llm_response': 'Não houve alucinação de input, pois a resposta está diretamente relacionada à pergunta sobre os fatores que podem reduzir o prazo de prescrição do crime, apresentando informações relevantes e específicas ao tema solicitado.',\n",
       "  'has_input_hallucination': '0.'},\n",
       " {'question': 'Como o Código Penal regula o crime de sequestro e quais as penalidades relacionadas?',\n",
       "  'answer': 'Sequestro (art. 148, CP)\\n\\nDefinição: Privar alguém de sua liberdade por meio de:\\n- Violência;\\n- Ameaça;\\n- Fraude.\\n\\nPena: Reclusão de 1 a 3 anos (se não houver agravantes).\\n\\n- Agravantes (aumentam a pena):\\n- Sequestro por mais de 24h;\\n- Vítima menor de 18 anos ou idosa;\\n- Extorsão como motivação.',\n",
       "  'llm_response': 'A resposta está totalmente relacionada à pergunta sobre como o Código Penal regula o crime de sequestro e as penalidades associadas, fornecendo definições, penas e agravantes pertinentes ao tema solicitado. Portanto, não há alucinação de input.',\n",
       "  'has_input_hallucination': '0 '},\n",
       " {'question': 'Quais as agravantes para o homicídio qualificado, conforme o artigo do Código Penal?',\n",
       "  'answer': 'Homicídio qualificado (art. 121, §2º, CP)\\n\\nSão agravantes (motivos ou meios que tornam o crime mais grave):\\n- Motivo torpe (futilidade, ganho financeiro);\\n- Motivo fútil (banal);\\n- Meios cruéis (sofrimento desnecessário);\\n- Emboscada (lugar oculto);\\n- Incêndio, explosivo ou veneno;\\n- Contra vítima menor de 14 ou maior de 60 anos.',\n",
       "  'llm_response': '- A resposta está diretamente relacionada à pergunta, fornecendo as agravantes para o homicídio qualificado conforme o artigo do Código Penal, que é exatamente o que foi solicitado. Portanto, não há alucinação de input.',\n",
       "  'has_input_hallucination': '0 '},\n",
       " {'question': 'Em que condições o condenado poderá exercer trabalho externo no regime fechado?',\n",
       "  'answer': 'O condenado em regime fechado pode trabalhar externamente se:\\n- Cumpre 1/6 da pena (se primário) ou 1/4 (se reincidente);\\n- Comportamento adequado;\\n- Trabalho compatível com a execução penal;\\n- Autorização judicial.',\n",
       "  'llm_response': 'A resposta está diretamente relacionada à pergunta, explicando as condições para que o condenado em regime fechado possa exercer trabalho externo, portanto, não há alucinação de input.',\n",
       "  'has_input_hallucination': '0 '}]"
      ]
     },
     "execution_count": 19,
     "metadata": {},
     "output_type": "execute_result"
    }
   ],
   "source": [
    "has_hallucination_gpt"
   ]
  },
  {
   "cell_type": "code",
   "execution_count": 20,
   "id": "2fe7daf4",
   "metadata": {},
   "outputs": [
    {
     "data": {
      "text/html": [
       "<div>\n",
       "<style scoped>\n",
       "    .dataframe tbody tr th:only-of-type {\n",
       "        vertical-align: middle;\n",
       "    }\n",
       "\n",
       "    .dataframe tbody tr th {\n",
       "        vertical-align: top;\n",
       "    }\n",
       "\n",
       "    .dataframe thead th {\n",
       "        text-align: right;\n",
       "    }\n",
       "</style>\n",
       "<table border=\"1\" class=\"dataframe\">\n",
       "  <thead>\n",
       "    <tr style=\"text-align: right;\">\n",
       "      <th></th>\n",
       "      <th>question</th>\n",
       "      <th>answer</th>\n",
       "      <th>llm_response</th>\n",
       "      <th>has_input_hallucination</th>\n",
       "    </tr>\n",
       "  </thead>\n",
       "  <tbody>\n",
       "    <tr>\n",
       "      <th>0</th>\n",
       "      <td>Como o código trata o crime de difamação quand...</td>\n",
       "      <td>O crime de difamação (art. 139, CP) consiste e...</td>\n",
       "      <td>A resposta está diretamente relacionada à perg...</td>\n",
       "      <td>0</td>\n",
       "    </tr>\n",
       "    <tr>\n",
       "      <th>1</th>\n",
       "      <td>Qual a pena prevista para injúria quando há ut...</td>\n",
       "      <td>A injúria (art. 140, CP) é ofender a dignidade...</td>\n",
       "      <td>Não houve alucinação de input, pois a resposta...</td>\n",
       "      <td>0.</td>\n",
       "    </tr>\n",
       "    <tr>\n",
       "      <th>2</th>\n",
       "      <td>Quais práticas configuram o crime de falsifica...</td>\n",
       "      <td>art. 297, CP\\n\\nConfigura-se quando alguém:\\n-...</td>\n",
       "      <td>Não houve alucinação de input, pois a resposta...</td>\n",
       "      <td>0.</td>\n",
       "    </tr>\n",
       "    <tr>\n",
       "      <th>3</th>\n",
       "      <td>Como o Código Penal trata o crime de dano qual...</td>\n",
       "      <td>O crime de dano (art. 163, CP) torna-se qualif...</td>\n",
       "      <td>Não houve alucinação de input, pois a resposta...</td>\n",
       "      <td>0.</td>\n",
       "    </tr>\n",
       "    <tr>\n",
       "      <th>4</th>\n",
       "      <td>Quais ações constituem o crime de extorsão?</td>\n",
       "      <td>O crime de extorsão está previsto no artigo 15...</td>\n",
       "      <td>Não houve alucinação de input, pois a resposta...</td>\n",
       "      <td>0.</td>\n",
       "    </tr>\n",
       "    <tr>\n",
       "      <th>5</th>\n",
       "      <td>Como a legislação penal brasileira trata o rei...</td>\n",
       "      <td>É crime reingressar no Brasil após expulsão, s...</td>\n",
       "      <td>Não houve alucinação de input porque a respost...</td>\n",
       "      <td>0.</td>\n",
       "    </tr>\n",
       "    <tr>\n",
       "      <th>6</th>\n",
       "      <td>Quais fatores podem reduzir o prazo de prescri...</td>\n",
       "      <td>O prazo prescricional pode ser reduzido se:\\n\\...</td>\n",
       "      <td>Não houve alucinação de input, pois a resposta...</td>\n",
       "      <td>0.</td>\n",
       "    </tr>\n",
       "    <tr>\n",
       "      <th>7</th>\n",
       "      <td>Como o Código Penal regula o crime de sequestr...</td>\n",
       "      <td>Sequestro (art. 148, CP)\\n\\nDefinição: Privar ...</td>\n",
       "      <td>A resposta está totalmente relacionada à pergu...</td>\n",
       "      <td>0</td>\n",
       "    </tr>\n",
       "    <tr>\n",
       "      <th>8</th>\n",
       "      <td>Quais as agravantes para o homicídio qualifica...</td>\n",
       "      <td>Homicídio qualificado (art. 121, §2º, CP)\\n\\nS...</td>\n",
       "      <td>- A resposta está diretamente relacionada à pe...</td>\n",
       "      <td>0</td>\n",
       "    </tr>\n",
       "    <tr>\n",
       "      <th>9</th>\n",
       "      <td>Em que condições o condenado poderá exercer tr...</td>\n",
       "      <td>O condenado em regime fechado pode trabalhar e...</td>\n",
       "      <td>A resposta está diretamente relacionada à perg...</td>\n",
       "      <td>0</td>\n",
       "    </tr>\n",
       "  </tbody>\n",
       "</table>\n",
       "</div>"
      ],
      "text/plain": [
       "                                            question  \\\n",
       "0  Como o código trata o crime de difamação quand...   \n",
       "1  Qual a pena prevista para injúria quando há ut...   \n",
       "2  Quais práticas configuram o crime de falsifica...   \n",
       "3  Como o Código Penal trata o crime de dano qual...   \n",
       "4        Quais ações constituem o crime de extorsão?   \n",
       "5  Como a legislação penal brasileira trata o rei...   \n",
       "6  Quais fatores podem reduzir o prazo de prescri...   \n",
       "7  Como o Código Penal regula o crime de sequestr...   \n",
       "8  Quais as agravantes para o homicídio qualifica...   \n",
       "9  Em que condições o condenado poderá exercer tr...   \n",
       "\n",
       "                                              answer  \\\n",
       "0  O crime de difamação (art. 139, CP) consiste e...   \n",
       "1  A injúria (art. 140, CP) é ofender a dignidade...   \n",
       "2  art. 297, CP\\n\\nConfigura-se quando alguém:\\n-...   \n",
       "3  O crime de dano (art. 163, CP) torna-se qualif...   \n",
       "4  O crime de extorsão está previsto no artigo 15...   \n",
       "5  É crime reingressar no Brasil após expulsão, s...   \n",
       "6  O prazo prescricional pode ser reduzido se:\\n\\...   \n",
       "7  Sequestro (art. 148, CP)\\n\\nDefinição: Privar ...   \n",
       "8  Homicídio qualificado (art. 121, §2º, CP)\\n\\nS...   \n",
       "9  O condenado em regime fechado pode trabalhar e...   \n",
       "\n",
       "                                        llm_response has_input_hallucination  \n",
       "0  A resposta está diretamente relacionada à perg...                      0   \n",
       "1  Não houve alucinação de input, pois a resposta...                      0.  \n",
       "2  Não houve alucinação de input, pois a resposta...                      0.  \n",
       "3  Não houve alucinação de input, pois a resposta...                      0.  \n",
       "4  Não houve alucinação de input, pois a resposta...                      0.  \n",
       "5  Não houve alucinação de input porque a respost...                      0.  \n",
       "6  Não houve alucinação de input, pois a resposta...                      0.  \n",
       "7  A resposta está totalmente relacionada à pergu...                      0   \n",
       "8  - A resposta está diretamente relacionada à pe...                      0   \n",
       "9  A resposta está diretamente relacionada à perg...                      0   "
      ]
     },
     "execution_count": 20,
=======
       "0  Houve pertinência entre a pergunta sobre como ...                      0   \n",
       "1  Não houve alucinação de input, pois a resposta...                      0.  \n",
       "2  Não houve alucinação de input, pois a resposta...                      0.  \n",
       "3  Não houve alucinação de input, pois a resposta...                      0.  \n",
       "4  Houve correspondência direta entre a pergunta ...                      0   \n",
       "5  Não houve alucinação de input, pois a resposta...                      0.  \n",
       "6  Não houve alucinação de input porque a respost...                      0.  \n",
       "7  Não houve alucinação de input pois a resposta ...                      0.  \n",
       "8  Não houve alucinação de input porque a respost...                      0.  \n",
       "9  A resposta está diretamente relacionada à perg...                      0.  "
      ]
     },
     "execution_count": 38,
>>>>>>> Stashed changes
     "metadata": {},
     "output_type": "execute_result"
    }
   ],
   "source": [
<<<<<<< Updated upstream
    "df_input_veredict_gpt = pd.DataFrame(has_hallucination_gpt)\n",
    "\n",
    "df_input_veredict_gpt"
=======
    "df_input_veredict_gpt_gm = pd.DataFrame(has_hallucination_gpt_gm)\n",
    "df_input_veredict_gpt_gm"
>>>>>>> Stashed changes
   ]
  },
  {
   "cell_type": "code",
<<<<<<< Updated upstream
   "execution_count": 21,
   "id": "ed847763",
   "metadata": {},
   "outputs": [],
   "source": [
    "df_input_veredict_llama.to_csv(\"llm-output/input_hallucination_deepseek_gpt.csv\")"
   ]
  },
  {
   "cell_type": "markdown",
   "id": "4da12494",
   "metadata": {},
   "source": [
    "#### Gemini"
=======
   "execution_count": 41,
   "id": "c0deaae0",
   "metadata": {},
   "outputs": [],
   "source": [
    "df_input_veredict_gpt_gm.to_csv(\"llm-output/input_hallucination_gemini_gpt.csv\")"
>>>>>>> Stashed changes
   ]
  },
  {
   "cell_type": "markdown",
   "id": "1e9e3752",
   "metadata": {},
   "source": [
<<<<<<< Updated upstream
    "### Alucinações contextuais"
=======
    "## Alucinações contextuais"
   ]
  },
  {
   "cell_type": "code",
   "execution_count": null,
   "id": "c323906d",
   "metadata": {},
   "outputs": [],
   "source": [
    "#Alucinação contextual\n",
    "def has_context_hallucination_llm(question, answer, model):\n",
    "    contextHallucinationTemplate = \"\"\"\n",
    "        Você é um assistente cuja função é responder se houve ou não alucinações de contexto.\n",
    "        Considere que de alucinação de contexto é quando a resposta se contradiz.\n",
    "\n",
    "        Exemplo 1:\n",
    "            Pergunta: Quais as raças de gato de maior tamanho existentes?\n",
    "            Resposta: Claro! Aqui estão as maiores raças de cachorro\n",
    "        \n",
    "        Exemplo 2: \n",
    "            Pergunta: Me diga fatos sobre a cidade do Recife.\n",
    "            Resposta: Os recifes de coral são a maior estrutura viva do planeta.\n",
    "\n",
    "        Exemplo 3:\n",
    "            Pergunta: Preciso de sugestões para cortes em cabelos cacheados\n",
    "            Resposta: Cabelos lisos ficam ótimos com o corte borboleta.\n",
    "\n",
    "        Caso haja alucinação de input, responda com 1. Caso não tenha alucinação de input, responda com 0. Coloque o 0 ou o 1 entre parêntesis.\n",
    "        Explique o porque de ser ou não.\n",
    "        \n",
    "        Considerando que a resposta gerada pergunta \"{question}\" foi \"{answer}\", houve alucinação de input?\n",
    "    \"\"\"\n",
    "    prompt = ChatPromptTemplate.from_template(contextHallucinationTemplate)\n",
    "    chain = prompt | model\n",
    "\n",
    "    result = chain.invoke({\"question\": question, \"answer\": answer })\n",
    "\n",
    "    return result"
>>>>>>> Stashed changes
   ]
  },
  {
   "cell_type": "markdown",
   "id": "d4208163",
   "metadata": {},
   "source": [
<<<<<<< Updated upstream
    "### Alucinações factuais"
=======
    "## Alucinações factuais"
>>>>>>> Stashed changes
   ]
  },
  {
   "cell_type": "code",
   "execution_count": null,
   "id": "f0c331fb",
   "metadata": {},
   "outputs": [],
   "source": [
    "def has_factual_hallucination_llm():\n",
    "    FactualHallucinationTemplate = \"\"\"\n",
    "        \n",
    "\"\"\"\n",
    "    prompt = ChatPromptTemplate.from_template(FactualHallucinationTemplate)\n",
    "    return"
<<<<<<< Updated upstream
=======
   ]
  },
  {
   "cell_type": "markdown",
   "id": "7231398d",
   "metadata": {},
   "source": [
    "### Llama 3"
   ]
  },
  {
   "cell_type": "markdown",
   "id": "67557279",
   "metadata": {},
   "source": [
    "### GPT "
>>>>>>> Stashed changes
   ]
  }
 ],
 "metadata": {
  "kernelspec": {
   "display_name": "myenv",
   "language": "python",
   "name": "python3"
  },
  "language_info": {
   "codemirror_mode": {
    "name": "ipython",
    "version": 3
   },
   "file_extension": ".py",
   "mimetype": "text/x-python",
   "name": "python",
   "nbconvert_exporter": "python",
   "pygments_lexer": "ipython3",
   "version": "3.13.3"
  }
 },
 "nbformat": 4,
 "nbformat_minor": 5
}
